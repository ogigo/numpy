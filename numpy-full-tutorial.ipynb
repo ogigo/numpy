{
 "cells": [
  {
   "cell_type": "markdown",
   "id": "425d302d",
   "metadata": {
    "papermill": {
     "duration": 0.040667,
     "end_time": "2023-01-31T15:00:07.434234",
     "exception": false,
     "start_time": "2023-01-31T15:00:07.393567",
     "status": "completed"
    },
    "tags": []
   },
   "source": [
    "<div style=\"border:2px solid #174D83; border-radius:15px;  background:#ffffff;\">\n",
    "    <div style=\"padding:10px 10px 10px 0px; margin:5px; border-radius:12px; background:#174D83; text-align:center;\">\n",
    "        <span style=\"font-family:sans-serif; font-size:42px; color:#fff;\">Comprehensive NumPy tutorial with examples 📚</span>\n",
    "    </div>\n",
    "</div>"
   ]
  },
  {
   "cell_type": "markdown",
   "id": "397fa5c8",
   "metadata": {
    "papermill": {
     "duration": 0.035041,
     "end_time": "2023-01-31T15:00:07.504972",
     "exception": false,
     "start_time": "2023-01-31T15:00:07.469931",
     "status": "completed"
    },
    "tags": []
   },
   "source": [
    "<div style=\"border:2px solid #174D83; border-radius:10px;  background:#fff;\">\n",
    "    <div style=\"padding:10px 10px 10px 0px; margin:2px; border-radius:10px; background:#174D83;\">\n",
    "        <span style=\"margin-left:15px; font-family:sans-serif; font-size:20px; color:#fff;\">Introduction...</span>\n",
    "    </div>\n",
    "</div>"
   ]
  },
  {
   "cell_type": "markdown",
   "id": "87603b50",
   "metadata": {
    "papermill": {
     "duration": 0.035317,
     "end_time": "2023-01-31T15:00:07.575907",
     "exception": false,
     "start_time": "2023-01-31T15:00:07.540590",
     "status": "completed"
    },
    "tags": []
   },
   "source": [
    "<div style=\"border:1px solid blue; border-radius:10px; padding:2px\">\n",
    "    <img src=\"https://miro.medium.com/max/765/1*cyXCE-JcBelTyrK-58w6_Q.png\" width=\"100%\">\n",
    "</div>\n",
    "<div style=\"padding:4px\">\n",
    "    \n",
    "    \n",
    "    \n",
    "### <span style='background:yellow;color:#000000;'>What is Numpy?</span>\n",
    "\n",
    "\n",
    "* <span style='background:#174D83;color:#fff;'><b>NumPy is a library for the Python programming language, adding support for large, multi-dimensional arrays and matrices, along with a large collection of high-level mathematical functions to operate on these arrays. The ancestor of NumPy, Numeric, was originally created by Jim Hugunin with contributions from several other developers. In 2005, Travis Oliphant created Numpy by incorporating features of the competing Numarray into Numeric, with extensive modifications. Numpy is open-source software and has many contributors. Numpy is a NumFOCUS fiscally sponsored project.</b></span>\n",
    "\n",
    "### <span style='background:yellow;color:#000000;'>History of Numpy?</span>\n",
    "\n",
    "    \n",
    "* <span style='background:#174D83;color:#fff;'><b>The Python programming language was not originally designed for numerical computing, but attracted the attention of the scientific and engineering community early on. In 1995 the special interest group (SIG) matrix-sig was founded with the aim of defining an array computing package; among its members was Python designer and maintainer Guido van Rossum, who extended Python's syntax (in particular the indexing syntax) to make array computing easier. An implementation of a matrix package was completed by Jim Fulton, then generalized by Jim Hugunin and called Numeric (also variously known as the \"Numerical Python extensions\" or \"NumPy\"). Hugunin, a graduate student at the Massachusetts Institute of Technology (MIT), joined the Corporation for National Research Initiatives (CNRI) in 1997 to work on JPython, leaving Paul Dubois of Lawrence Livermore National Laboratory (LLNL) to take over as maintainer. Other early contributors include David Ascher, Konrad Hinsen and Travis Oliphant. A new package called Numarray was written as a more flexible replacement for Numeric. Like Numeric, it too is now deprecated. Numarray had faster operations for large arrays, but was slower than Numeric on small ones, so for a time both packages were used in parallel for different use cases. The last version of Numeric (v24.2) was released on 11 November 2005, while the last version of numarray (v1.5.2) was released on 24 August 2006. There was a desire to get Numeric into the Python standard library, but Guido van Rossum decided that the code was not maintainable in its state then. In early 2005, NumPy developer Travis Oliphant wanted to unify the community around a single array package and ported Numarray's features to Numeric, releasing the result as NumPy 1.0 in 2006. This new project was part of SciPy. To avoid installing the large SciPy package just to get an array object, this new package was separated and called NumPy. Support for Python 3 was added in 2011 with NumPy version 1.5.0. In 2011, PyPy started development on an implementation of the NumPy API for PyPy. It is not yet fully compatible with NumPy.</b></span>\n",
    "\n",
    "\n",
    "\n",
    "### <span style='background:yellow;color:#000000;'>Features of numpy</span>\n",
    "\n",
    "    \n",
    "* <span style='background:#174D83;color:#ffffff;'><b>Numpy targets the CPython reference implementation of Python, which is a non-optimizing bytecode interpreter. Mathematical algorithms written for this version of Python often run much slower than compiled equivalents due to the absence of compiler optimization. Numpy addresses the slowness problem partly by providing multidimensional arrays and functions and operators that operate efficiently on arrays; using these requires rewriting some code, mostly inner loops, using NumPy. Using NumPy in Python gives functionality comparable to MATLAB since they are both interpreted, and they both allow the user to write fast programs as long as most operations work on arrays or matrices instead of scalars. In comparison, MATLAB boasts a large number of additional toolboxes, notably Simulink, whereas NumPy is intrinsically integrated with Python, a more modern and complete programming language. Moreover, complementary Python packages are available; SciPy is a library that adds more MATLAB-like functionality and Matplotlib is a plotting package that provides MATLAB-like plotting functionality. Internally, both MATLAB and NumPy rely on BLAS and LAPACK for efficient linear algebra computations. Python bindings of the widely used computer vision library OpenCV utilize NumPy arrays to store and operate on data. Since images with multiple channels are simply represented as three-dimensional arrays, indexing, slicing or masking with other arrays are very efficient ways to access specific pixels of an image. The NumPy array as universal data structure in OpenCV for images, extracted feature points, filter kernels and many more vastly simplifies the programming workflow and debugging.</b></span>\n",
    "\n",
    "\n",
    "#### <span style=\"color:#CF350C\">REFERENCE:</span> https://en.wikipedia.org/wiki/NumPy"
   ]
  },
  {
   "cell_type": "markdown",
   "id": "b4c9da52",
   "metadata": {
    "papermill": {
     "duration": 0.034997,
     "end_time": "2023-01-31T15:00:07.646233",
     "exception": false,
     "start_time": "2023-01-31T15:00:07.611236",
     "status": "completed"
    },
    "tags": []
   },
   "source": [
    "### <span style = \"background:#174D83; border:#ffffff; font-size:100%; color:#fff; border-radius:5px;\"> 1. Install and import numpy library...</span>"
   ]
  },
  {
   "cell_type": "code",
   "execution_count": 1,
   "id": "c267589c",
   "metadata": {
    "execution": {
     "iopub.execute_input": "2023-01-31T15:00:07.719496Z",
     "iopub.status.busy": "2023-01-31T15:00:07.718974Z",
     "iopub.status.idle": "2023-01-31T15:00:07.728637Z",
     "shell.execute_reply": "2023-01-31T15:00:07.728042Z"
    },
    "papermill": {
     "duration": 0.048835,
     "end_time": "2023-01-31T15:00:07.730498",
     "exception": false,
     "start_time": "2023-01-31T15:00:07.681663",
     "status": "completed"
    },
    "tags": []
   },
   "outputs": [],
   "source": [
    "#!pip install numpy\n",
    "import numpy as np"
   ]
  },
  {
   "cell_type": "markdown",
   "id": "e2ba3fd6",
   "metadata": {
    "papermill": {
     "duration": 0.035321,
     "end_time": "2023-01-31T15:00:07.802363",
     "exception": false,
     "start_time": "2023-01-31T15:00:07.767042",
     "status": "completed"
    },
    "tags": []
   },
   "source": [
    "### <span style = \"background:#174D83; border:#ffffff; font-size:100%; color:#fff; border-radius:5px;\">2. Check numpy version...</span>"
   ]
  },
  {
   "cell_type": "code",
   "execution_count": 2,
   "id": "3665bb89",
   "metadata": {
    "execution": {
     "iopub.execute_input": "2023-01-31T15:00:07.874675Z",
     "iopub.status.busy": "2023-01-31T15:00:07.873832Z",
     "iopub.status.idle": "2023-01-31T15:00:07.881614Z",
     "shell.execute_reply": "2023-01-31T15:00:07.880744Z"
    },
    "papermill": {
     "duration": 0.046109,
     "end_time": "2023-01-31T15:00:07.883613",
     "exception": false,
     "start_time": "2023-01-31T15:00:07.837504",
     "status": "completed"
    },
    "tags": []
   },
   "outputs": [
    {
     "data": {
      "text/plain": [
       "'1.21.6'"
      ]
     },
     "execution_count": 2,
     "metadata": {},
     "output_type": "execute_result"
    }
   ],
   "source": [
    "np.__version__"
   ]
  },
  {
   "cell_type": "markdown",
   "id": "646853ea",
   "metadata": {
    "papermill": {
     "duration": 0.035064,
     "end_time": "2023-01-31T15:00:07.954223",
     "exception": false,
     "start_time": "2023-01-31T15:00:07.919159",
     "status": "completed"
    },
    "tags": []
   },
   "source": [
    "### <span style = \"background:#174D83; border:#ffffff; font-size:100%; color:#fff; border-radius:5px;\">3. Create numpy arrays...</span>"
   ]
  },
  {
   "cell_type": "code",
   "execution_count": 3,
   "id": "f7387a5a",
   "metadata": {
    "execution": {
     "iopub.execute_input": "2023-01-31T15:00:08.026520Z",
     "iopub.status.busy": "2023-01-31T15:00:08.025688Z",
     "iopub.status.idle": "2023-01-31T15:00:08.033113Z",
     "shell.execute_reply": "2023-01-31T15:00:08.031828Z"
    },
    "papermill": {
     "duration": 0.045448,
     "end_time": "2023-01-31T15:00:08.035035",
     "exception": false,
     "start_time": "2023-01-31T15:00:07.989587",
     "status": "completed"
    },
    "tags": []
   },
   "outputs": [
    {
     "name": "stdout",
     "output_type": "stream",
     "text": [
      "Numpy array:  [ 1  2  3  4  5  6  8 11] \n",
      "\n",
      "Type:  <class 'numpy.ndarray'>\n"
     ]
    }
   ],
   "source": [
    "arr = np.array([1,2,3,4,5, 6, 8, 11])\n",
    "print(\"Numpy array: \", arr, \"\\n\")\n",
    "print(\"Type: \", type(arr))"
   ]
  },
  {
   "cell_type": "code",
   "execution_count": 4,
   "id": "ed9b6404",
   "metadata": {
    "execution": {
     "iopub.execute_input": "2023-01-31T15:00:08.107446Z",
     "iopub.status.busy": "2023-01-31T15:00:08.106687Z",
     "iopub.status.idle": "2023-01-31T15:00:08.113103Z",
     "shell.execute_reply": "2023-01-31T15:00:08.112116Z"
    },
    "papermill": {
     "duration": 0.044373,
     "end_time": "2023-01-31T15:00:08.114970",
     "exception": false,
     "start_time": "2023-01-31T15:00:08.070597",
     "status": "completed"
    },
    "tags": []
   },
   "outputs": [
    {
     "data": {
      "text/plain": [
       "array([ 0,  1,  2,  3,  4,  5,  6,  7,  8,  9, 10, 11, 12, 13, 14, 15, 16,\n",
       "       17, 18, 19, 20, 21, 22, 23, 24])"
      ]
     },
     "execution_count": 4,
     "metadata": {},
     "output_type": "execute_result"
    }
   ],
   "source": [
    "np.arange(0, 25)"
   ]
  },
  {
   "cell_type": "code",
   "execution_count": 5,
   "id": "0da209e8",
   "metadata": {
    "execution": {
     "iopub.execute_input": "2023-01-31T15:00:08.187502Z",
     "iopub.status.busy": "2023-01-31T15:00:08.186773Z",
     "iopub.status.idle": "2023-01-31T15:00:08.192712Z",
     "shell.execute_reply": "2023-01-31T15:00:08.191782Z"
    },
    "papermill": {
     "duration": 0.044194,
     "end_time": "2023-01-31T15:00:08.194670",
     "exception": false,
     "start_time": "2023-01-31T15:00:08.150476",
     "status": "completed"
    },
    "tags": []
   },
   "outputs": [
    {
     "data": {
      "text/plain": [
       "array([ 0,  3,  6,  9, 12, 15, 18, 21, 24])"
      ]
     },
     "execution_count": 5,
     "metadata": {},
     "output_type": "execute_result"
    }
   ],
   "source": [
    "np.arange(0, 25, 3)"
   ]
  },
  {
   "cell_type": "markdown",
   "id": "e37ba979",
   "metadata": {
    "papermill": {
     "duration": 0.035394,
     "end_time": "2023-01-31T15:00:08.265536",
     "exception": false,
     "start_time": "2023-01-31T15:00:08.230142",
     "status": "completed"
    },
    "tags": []
   },
   "source": [
    "### <mark>Create an empyt array</mark>"
   ]
  },
  {
   "cell_type": "code",
   "execution_count": 6,
   "id": "126d009d",
   "metadata": {
    "execution": {
     "iopub.execute_input": "2023-01-31T15:00:08.338148Z",
     "iopub.status.busy": "2023-01-31T15:00:08.337860Z",
     "iopub.status.idle": "2023-01-31T15:00:08.342696Z",
     "shell.execute_reply": "2023-01-31T15:00:08.341821Z"
    },
    "papermill": {
     "duration": 0.043451,
     "end_time": "2023-01-31T15:00:08.344869",
     "exception": false,
     "start_time": "2023-01-31T15:00:08.301418",
     "status": "completed"
    },
    "tags": []
   },
   "outputs": [
    {
     "name": "stdout",
     "output_type": "stream",
     "text": [
      "[[      94491600530592                    0       46669114638378\n",
      "  -1481121327448624640  8286623358787780608]\n",
      " [   74884438432940042  1475493013362311440  7299604294950614099\n",
      "   7598186594468587636        1526733300846]\n",
      " [       2199023255552  1152995171885908992    34902897113854720\n",
      "     45320357492162666   106964244959592829]\n",
      " [   23365227720737124   720575962347012905  2314885530818453536\n",
      "   2334400029607685955  7453005948419139700]\n",
      " [ 7018051218649933940  7308609286519679075  7526676535825167470\n",
      "   8315168227056615424   733656166179948847]]\n"
     ]
    }
   ],
   "source": [
    "empty_arr = np.empty([5, 5], int)\n",
    "\n",
    "print(empty_arr)"
   ]
  },
  {
   "cell_type": "markdown",
   "id": "94c0c523",
   "metadata": {
    "papermill": {
     "duration": 0.03536,
     "end_time": "2023-01-31T15:00:08.415682",
     "exception": false,
     "start_time": "2023-01-31T15:00:08.380322",
     "status": "completed"
    },
    "tags": []
   },
   "source": [
    "### <mark>Check elements count</mark>"
   ]
  },
  {
   "cell_type": "code",
   "execution_count": 7,
   "id": "12e2d550",
   "metadata": {
    "execution": {
     "iopub.execute_input": "2023-01-31T15:00:08.488314Z",
     "iopub.status.busy": "2023-01-31T15:00:08.487459Z",
     "iopub.status.idle": "2023-01-31T15:00:08.493855Z",
     "shell.execute_reply": "2023-01-31T15:00:08.492699Z"
    },
    "papermill": {
     "duration": 0.044712,
     "end_time": "2023-01-31T15:00:08.495802",
     "exception": false,
     "start_time": "2023-01-31T15:00:08.451090",
     "status": "completed"
    },
    "tags": []
   },
   "outputs": [
    {
     "name": "stdout",
     "output_type": "stream",
     "text": [
      "[] elements_count: 0\n",
      "[1 2] elements_count: 2\n"
     ]
    }
   ],
   "source": [
    "arr1 = np.array([])\n",
    "arr2 = np.array([1, 2])\n",
    "\n",
    "def elements(array):\n",
    "    return array.ndim and array.size\n",
    "        \n",
    "print(arr1, \"elements_count:\", elements(arr1))\n",
    "print(arr2, \"elements_count:\", elements(arr2))"
   ]
  },
  {
   "cell_type": "markdown",
   "id": "8568ef8b",
   "metadata": {
    "papermill": {
     "duration": 0.036403,
     "end_time": "2023-01-31T15:00:08.568189",
     "exception": false,
     "start_time": "2023-01-31T15:00:08.531786",
     "status": "completed"
    },
    "tags": []
   },
   "source": [
    "### <mark>Check whether the array is empty</mark>"
   ]
  },
  {
   "cell_type": "code",
   "execution_count": 8,
   "id": "352c5ce9",
   "metadata": {
    "execution": {
     "iopub.execute_input": "2023-01-31T15:00:08.681838Z",
     "iopub.status.busy": "2023-01-31T15:00:08.681504Z",
     "iopub.status.idle": "2023-01-31T15:00:08.687940Z",
     "shell.execute_reply": "2023-01-31T15:00:08.687017Z"
    },
    "papermill": {
     "duration": 0.069555,
     "end_time": "2023-01-31T15:00:08.690262",
     "exception": false,
     "start_time": "2023-01-31T15:00:08.620707",
     "status": "completed"
    },
    "tags": []
   },
   "outputs": [
    {
     "name": "stdout",
     "output_type": "stream",
     "text": [
      "[] is empty array\n",
      "[1 2] is not empty array\n"
     ]
    }
   ],
   "source": [
    "a = np.array([])\n",
    "b = np.array([1, 2])\n",
    "\n",
    "def if_empty(a):\n",
    "    if a.size == 0:\n",
    "        print(a, \"is empty array\")\n",
    "    else:\n",
    "        print(b, \"is not empty array\")\n",
    "        \n",
    "if_empty(a)\n",
    "if_empty(b)"
   ]
  },
  {
   "cell_type": "markdown",
   "id": "1cb0f226",
   "metadata": {
    "papermill": {
     "duration": 0.035661,
     "end_time": "2023-01-31T15:00:08.762328",
     "exception": false,
     "start_time": "2023-01-31T15:00:08.726667",
     "status": "completed"
    },
    "tags": []
   },
   "source": [
    "### <span style = \"background:#174D83; border:#ffffff; font-size:100%; color:#fff; border-radius:5px;\">4. Numpy arrays are fixed data type</span>"
   ]
  },
  {
   "cell_type": "markdown",
   "id": "e923c7c0",
   "metadata": {
    "papermill": {
     "duration": 0.035407,
     "end_time": "2023-01-31T15:00:08.833672",
     "exception": false,
     "start_time": "2023-01-31T15:00:08.798265",
     "status": "completed"
    },
    "tags": []
   },
   "source": [
    "### <mark>That is, if there is one decimal number in it, it converts the others to decimal</mark>"
   ]
  },
  {
   "cell_type": "code",
   "execution_count": 9,
   "id": "ca4df7cd",
   "metadata": {
    "execution": {
     "iopub.execute_input": "2023-01-31T15:00:08.906849Z",
     "iopub.status.busy": "2023-01-31T15:00:08.906553Z",
     "iopub.status.idle": "2023-01-31T15:00:08.912733Z",
     "shell.execute_reply": "2023-01-31T15:00:08.911864Z"
    },
    "papermill": {
     "duration": 0.0448,
     "end_time": "2023-01-31T15:00:08.914705",
     "exception": false,
     "start_time": "2023-01-31T15:00:08.869905",
     "status": "completed"
    },
    "tags": []
   },
   "outputs": [
    {
     "data": {
      "text/plain": [
       "array([1. , 2. , 3. , 4. , 5. , 2.5])"
      ]
     },
     "execution_count": 9,
     "metadata": {},
     "output_type": "execute_result"
    }
   ],
   "source": [
    "arr = np.array([1, 2, 3, 4, 5, 2.5])\n",
    "arr"
   ]
  },
  {
   "cell_type": "code",
   "execution_count": 10,
   "id": "5832f73c",
   "metadata": {
    "execution": {
     "iopub.execute_input": "2023-01-31T15:00:08.989511Z",
     "iopub.status.busy": "2023-01-31T15:00:08.989259Z",
     "iopub.status.idle": "2023-01-31T15:00:08.995464Z",
     "shell.execute_reply": "2023-01-31T15:00:08.994512Z"
    },
    "papermill": {
     "duration": 0.045301,
     "end_time": "2023-01-31T15:00:08.997568",
     "exception": false,
     "start_time": "2023-01-31T15:00:08.952267",
     "status": "completed"
    },
    "tags": []
   },
   "outputs": [
    {
     "data": {
      "text/plain": [
       "array([1. , 2. , 3. , 4. , 5. , 5.2, 1.2], dtype=float32)"
      ]
     },
     "execution_count": 10,
     "metadata": {},
     "output_type": "execute_result"
    }
   ],
   "source": [
    "arr = np.array([1,2,3,4,5, 5.2, 1.2], dtype = \"float32\")\n",
    "arr"
   ]
  },
  {
   "cell_type": "code",
   "execution_count": 11,
   "id": "53160404",
   "metadata": {
    "execution": {
     "iopub.execute_input": "2023-01-31T15:00:09.079842Z",
     "iopub.status.busy": "2023-01-31T15:00:09.079541Z",
     "iopub.status.idle": "2023-01-31T15:00:09.086443Z",
     "shell.execute_reply": "2023-01-31T15:00:09.085429Z"
    },
    "papermill": {
     "duration": 0.049764,
     "end_time": "2023-01-31T15:00:09.088702",
     "exception": false,
     "start_time": "2023-01-31T15:00:09.038938",
     "status": "completed"
    },
    "tags": []
   },
   "outputs": [
    {
     "data": {
      "text/plain": [
       "array([1, 2, 3, 4, 5, 5, 1])"
      ]
     },
     "execution_count": 11,
     "metadata": {},
     "output_type": "execute_result"
    }
   ],
   "source": [
    "arr = np.array([1, 2, 3, 4, 5, 5.2, 1.2], dtype = \"int\")\n",
    "arr"
   ]
  },
  {
   "cell_type": "markdown",
   "id": "7d1382aa",
   "metadata": {
    "papermill": {
     "duration": 0.041681,
     "end_time": "2023-01-31T15:00:09.173258",
     "exception": false,
     "start_time": "2023-01-31T15:00:09.131577",
     "status": "completed"
    },
    "tags": []
   },
   "source": [
    "### <span style = \"background:#174D83; border:#ffffff; font-size:100%; color:#fff; border-radius:5px;\">5. Create arrays without using lists</span>"
   ]
  },
  {
   "cell_type": "markdown",
   "id": "0399f1f0",
   "metadata": {
    "papermill": {
     "duration": 0.039057,
     "end_time": "2023-01-31T15:00:09.251170",
     "exception": false,
     "start_time": "2023-01-31T15:00:09.212113",
     "status": "completed"
    },
    "tags": []
   },
   "source": [
    "### <mark>Create an array of zeros</mark>"
   ]
  },
  {
   "cell_type": "code",
   "execution_count": 12,
   "id": "c94eacf3",
   "metadata": {
    "execution": {
     "iopub.execute_input": "2023-01-31T15:00:09.327926Z",
     "iopub.status.busy": "2023-01-31T15:00:09.327567Z",
     "iopub.status.idle": "2023-01-31T15:00:09.334464Z",
     "shell.execute_reply": "2023-01-31T15:00:09.333508Z"
    },
    "papermill": {
     "duration": 0.047811,
     "end_time": "2023-01-31T15:00:09.336572",
     "exception": false,
     "start_time": "2023-01-31T15:00:09.288761",
     "status": "completed"
    },
    "tags": []
   },
   "outputs": [
    {
     "data": {
      "text/plain": [
       "array([0., 0., 0., 0., 0., 0., 0., 0., 0., 0.])"
      ]
     },
     "execution_count": 12,
     "metadata": {},
     "output_type": "execute_result"
    }
   ],
   "source": [
    "np.zeros(10)"
   ]
  },
  {
   "cell_type": "code",
   "execution_count": 13,
   "id": "e608d655",
   "metadata": {
    "execution": {
     "iopub.execute_input": "2023-01-31T15:00:09.415103Z",
     "iopub.status.busy": "2023-01-31T15:00:09.414203Z",
     "iopub.status.idle": "2023-01-31T15:00:09.421491Z",
     "shell.execute_reply": "2023-01-31T15:00:09.420419Z"
    },
    "papermill": {
     "duration": 0.048548,
     "end_time": "2023-01-31T15:00:09.423657",
     "exception": false,
     "start_time": "2023-01-31T15:00:09.375109",
     "status": "completed"
    },
    "tags": []
   },
   "outputs": [
    {
     "data": {
      "text/plain": [
       "array([[0., 0., 0., 0., 0.],\n",
       "       [0., 0., 0., 0., 0.],\n",
       "       [0., 0., 0., 0., 0.],\n",
       "       [0., 0., 0., 0., 0.],\n",
       "       [0., 0., 0., 0., 0.]])"
      ]
     },
     "execution_count": 13,
     "metadata": {},
     "output_type": "execute_result"
    }
   ],
   "source": [
    "np.zeros((5, 5))"
   ]
  },
  {
   "cell_type": "code",
   "execution_count": 14,
   "id": "6a91e039",
   "metadata": {
    "execution": {
     "iopub.execute_input": "2023-01-31T15:00:09.501496Z",
     "iopub.status.busy": "2023-01-31T15:00:09.501166Z",
     "iopub.status.idle": "2023-01-31T15:00:09.507639Z",
     "shell.execute_reply": "2023-01-31T15:00:09.506674Z"
    },
    "papermill": {
     "duration": 0.047828,
     "end_time": "2023-01-31T15:00:09.509572",
     "exception": false,
     "start_time": "2023-01-31T15:00:09.461744",
     "status": "completed"
    },
    "tags": []
   },
   "outputs": [
    {
     "data": {
      "text/plain": [
       "array([0, 0, 0, 0, 0])"
      ]
     },
     "execution_count": 14,
     "metadata": {},
     "output_type": "execute_result"
    }
   ],
   "source": [
    "np.zeros(5, dtype = \"int\")"
   ]
  },
  {
   "cell_type": "markdown",
   "id": "fdfd9acc",
   "metadata": {
    "papermill": {
     "duration": 0.039812,
     "end_time": "2023-01-31T15:00:09.587061",
     "exception": false,
     "start_time": "2023-01-31T15:00:09.547249",
     "status": "completed"
    },
    "tags": []
   },
   "source": [
    "### <mark>Create an array of ones</mark>"
   ]
  },
  {
   "cell_type": "code",
   "execution_count": 15,
   "id": "9a7b3c4f",
   "metadata": {
    "execution": {
     "iopub.execute_input": "2023-01-31T15:00:09.717748Z",
     "iopub.status.busy": "2023-01-31T15:00:09.717396Z",
     "iopub.status.idle": "2023-01-31T15:00:09.723763Z",
     "shell.execute_reply": "2023-01-31T15:00:09.722858Z"
    },
    "papermill": {
     "duration": 0.047686,
     "end_time": "2023-01-31T15:00:09.725861",
     "exception": false,
     "start_time": "2023-01-31T15:00:09.678175",
     "status": "completed"
    },
    "tags": []
   },
   "outputs": [
    {
     "data": {
      "text/plain": [
       "array([1, 1, 1, 1, 1, 1, 1])"
      ]
     },
     "execution_count": 15,
     "metadata": {},
     "output_type": "execute_result"
    }
   ],
   "source": [
    "np.ones(7, dtype = \"int\")"
   ]
  },
  {
   "cell_type": "code",
   "execution_count": 16,
   "id": "788551c4",
   "metadata": {
    "execution": {
     "iopub.execute_input": "2023-01-31T15:00:09.815379Z",
     "iopub.status.busy": "2023-01-31T15:00:09.813662Z",
     "iopub.status.idle": "2023-01-31T15:00:09.822540Z",
     "shell.execute_reply": "2023-01-31T15:00:09.821292Z"
    },
    "papermill": {
     "duration": 0.055965,
     "end_time": "2023-01-31T15:00:09.824765",
     "exception": false,
     "start_time": "2023-01-31T15:00:09.768800",
     "status": "completed"
    },
    "tags": []
   },
   "outputs": [
    {
     "data": {
      "text/plain": [
       "array([[1., 1., 1., 1., 1., 1., 1.],\n",
       "       [1., 1., 1., 1., 1., 1., 1.],\n",
       "       [1., 1., 1., 1., 1., 1., 1.],\n",
       "       [1., 1., 1., 1., 1., 1., 1.]], dtype=float32)"
      ]
     },
     "execution_count": 16,
     "metadata": {},
     "output_type": "execute_result"
    }
   ],
   "source": [
    "np.ones((4, 7), dtype = \"float32\")"
   ]
  },
  {
   "cell_type": "markdown",
   "id": "5ba86ff9",
   "metadata": {
    "papermill": {
     "duration": 0.036312,
     "end_time": "2023-01-31T15:00:09.902243",
     "exception": false,
     "start_time": "2023-01-31T15:00:09.865931",
     "status": "completed"
    },
    "tags": []
   },
   "source": [
    "### <mark>Create an array of sevens</mark>"
   ]
  },
  {
   "cell_type": "code",
   "execution_count": 17,
   "id": "aca5cea7",
   "metadata": {
    "execution": {
     "iopub.execute_input": "2023-01-31T15:00:09.977879Z",
     "iopub.status.busy": "2023-01-31T15:00:09.977122Z",
     "iopub.status.idle": "2023-01-31T15:00:09.983967Z",
     "shell.execute_reply": "2023-01-31T15:00:09.982970Z"
    },
    "papermill": {
     "duration": 0.046865,
     "end_time": "2023-01-31T15:00:09.986040",
     "exception": false,
     "start_time": "2023-01-31T15:00:09.939175",
     "status": "completed"
    },
    "tags": []
   },
   "outputs": [
    {
     "data": {
      "text/plain": [
       "array([[7., 7., 7., 7.],\n",
       "       [7., 7., 7., 7.],\n",
       "       [7., 7., 7., 7.]], dtype=float32)"
      ]
     },
     "execution_count": 17,
     "metadata": {},
     "output_type": "execute_result"
    }
   ],
   "source": [
    "np.full((3, 4), 7, dtype = \"float32\")"
   ]
  },
  {
   "cell_type": "markdown",
   "id": "099e6753",
   "metadata": {
    "papermill": {
     "duration": 0.037129,
     "end_time": "2023-01-31T15:00:10.059637",
     "exception": false,
     "start_time": "2023-01-31T15:00:10.022508",
     "status": "completed"
    },
    "tags": []
   },
   "source": [
    "### <span style = \"background:#174D83; border:#ffffff; font-size:100%; color:#fff; border-radius:5px;\">6. Linspace function</span>"
   ]
  },
  {
   "cell_type": "markdown",
   "id": "5ef42909",
   "metadata": {
    "papermill": {
     "duration": 0.03672,
     "end_time": "2023-01-31T15:00:10.132634",
     "exception": false,
     "start_time": "2023-01-31T15:00:10.095914",
     "status": "completed"
    },
    "tags": []
   },
   "source": [
    "### <mark>Return evenly spaced numbers over a specified interval</mark>"
   ]
  },
  {
   "cell_type": "code",
   "execution_count": 18,
   "id": "cc9ea3fe",
   "metadata": {
    "execution": {
     "iopub.execute_input": "2023-01-31T15:00:10.207538Z",
     "iopub.status.busy": "2023-01-31T15:00:10.207256Z",
     "iopub.status.idle": "2023-01-31T15:00:10.213822Z",
     "shell.execute_reply": "2023-01-31T15:00:10.212952Z"
    },
    "papermill": {
     "duration": 0.046609,
     "end_time": "2023-01-31T15:00:10.216140",
     "exception": false,
     "start_time": "2023-01-31T15:00:10.169531",
     "status": "completed"
    },
    "tags": []
   },
   "outputs": [
    {
     "data": {
      "text/plain": [
       "array([0.        , 0.11111111, 0.22222222, 0.33333333, 0.44444444,\n",
       "       0.55555556, 0.66666667, 0.77777778, 0.88888889, 1.        ])"
      ]
     },
     "execution_count": 18,
     "metadata": {},
     "output_type": "execute_result"
    }
   ],
   "source": [
    "np.linspace(0, 1, 10)"
   ]
  },
  {
   "cell_type": "code",
   "execution_count": 19,
   "id": "7bb3daec",
   "metadata": {
    "execution": {
     "iopub.execute_input": "2023-01-31T15:00:10.290239Z",
     "iopub.status.busy": "2023-01-31T15:00:10.289946Z",
     "iopub.status.idle": "2023-01-31T15:00:10.295974Z",
     "shell.execute_reply": "2023-01-31T15:00:10.295027Z"
    },
    "papermill": {
     "duration": 0.045527,
     "end_time": "2023-01-31T15:00:10.297966",
     "exception": false,
     "start_time": "2023-01-31T15:00:10.252439",
     "status": "completed"
    },
    "tags": []
   },
   "outputs": [
    {
     "data": {
      "text/plain": [
       "array([ 1. ,  2.5,  4. ,  5.5,  7. ,  8.5, 10. ])"
      ]
     },
     "execution_count": 19,
     "metadata": {},
     "output_type": "execute_result"
    }
   ],
   "source": [
    "np.linspace(1, 10, 7)"
   ]
  },
  {
   "cell_type": "code",
   "execution_count": 20,
   "id": "dc684f0e",
   "metadata": {
    "execution": {
     "iopub.execute_input": "2023-01-31T15:00:10.373672Z",
     "iopub.status.busy": "2023-01-31T15:00:10.373415Z",
     "iopub.status.idle": "2023-01-31T15:00:10.380023Z",
     "shell.execute_reply": "2023-01-31T15:00:10.378748Z"
    },
    "papermill": {
     "duration": 0.046116,
     "end_time": "2023-01-31T15:00:10.382079",
     "exception": false,
     "start_time": "2023-01-31T15:00:10.335963",
     "status": "completed"
    },
    "tags": []
   },
   "outputs": [
    {
     "data": {
      "text/plain": [
       "array([2. , 2.5, 3. , 3.5, 4. , 4.5, 5. , 5.5, 6. , 6.5, 7. , 7.5, 8. ,\n",
       "       8.5, 9. ])"
      ]
     },
     "execution_count": 20,
     "metadata": {},
     "output_type": "execute_result"
    }
   ],
   "source": [
    "np.linspace(2, 9, 15)"
   ]
  },
  {
   "cell_type": "code",
   "execution_count": 21,
   "id": "1719acf4",
   "metadata": {
    "execution": {
     "iopub.execute_input": "2023-01-31T15:00:10.458241Z",
     "iopub.status.busy": "2023-01-31T15:00:10.457405Z",
     "iopub.status.idle": "2023-01-31T15:00:10.463935Z",
     "shell.execute_reply": "2023-01-31T15:00:10.463044Z"
    },
    "papermill": {
     "duration": 0.04666,
     "end_time": "2023-01-31T15:00:10.465900",
     "exception": false,
     "start_time": "2023-01-31T15:00:10.419240",
     "status": "completed"
    },
    "tags": []
   },
   "outputs": [
    {
     "data": {
      "text/plain": [
       "array([ 1,  1,  2,  2,  3,  4,  4,  5,  6,  6,  7,  8,  8,  9, 10])"
      ]
     },
     "execution_count": 21,
     "metadata": {},
     "output_type": "execute_result"
    }
   ],
   "source": [
    "np.linspace(1, 10, 15, dtype = int)"
   ]
  },
  {
   "cell_type": "markdown",
   "id": "cc526a67",
   "metadata": {
    "papermill": {
     "duration": 0.036818,
     "end_time": "2023-01-31T15:00:10.539603",
     "exception": false,
     "start_time": "2023-01-31T15:00:10.502785",
     "status": "completed"
    },
    "tags": []
   },
   "source": [
    "### <span style = \"background:#174D83; border:#ffffff; font-size:100%; color:#fff; border-radius:5px;\">7. Random function</span>"
   ]
  },
  {
   "cell_type": "code",
   "execution_count": 22,
   "id": "d5faf0e5",
   "metadata": {
    "execution": {
     "iopub.execute_input": "2023-01-31T15:00:10.646623Z",
     "iopub.status.busy": "2023-01-31T15:00:10.641884Z",
     "iopub.status.idle": "2023-01-31T15:00:10.656831Z",
     "shell.execute_reply": "2023-01-31T15:00:10.656056Z"
    },
    "papermill": {
     "duration": 0.090296,
     "end_time": "2023-01-31T15:00:10.666773",
     "exception": false,
     "start_time": "2023-01-31T15:00:10.576477",
     "status": "completed"
    },
    "tags": []
   },
   "outputs": [
    {
     "data": {
      "text/plain": [
       "array([[13.76444334, 12.95557048,  2.57171483,  4.27970748],\n",
       "       [-0.80588251,  4.23174374,  6.81143531, 21.4749846 ],\n",
       "       [ 0.90996719,  8.55651652, 20.37701502, 10.98825678]])"
      ]
     },
     "execution_count": 22,
     "metadata": {},
     "output_type": "execute_result"
    }
   ],
   "source": [
    "arr = np.random.normal(10, 7, (3, 4))\n",
    "arr"
   ]
  },
  {
   "cell_type": "code",
   "execution_count": 23,
   "id": "43b8758d",
   "metadata": {
    "execution": {
     "iopub.execute_input": "2023-01-31T15:00:10.816499Z",
     "iopub.status.busy": "2023-01-31T15:00:10.816074Z",
     "iopub.status.idle": "2023-01-31T15:00:10.826301Z",
     "shell.execute_reply": "2023-01-31T15:00:10.825442Z"
    },
    "papermill": {
     "duration": 0.070737,
     "end_time": "2023-01-31T15:00:10.828936",
     "exception": false,
     "start_time": "2023-01-31T15:00:10.758199",
     "status": "completed"
    },
    "tags": []
   },
   "outputs": [
    {
     "data": {
      "text/plain": [
       "array([[ 0,  3,  7,  5, 10],\n",
       "       [10,  8,  5,  3, 11],\n",
       "       [ 9,  2,  2,  0,  8]])"
      ]
     },
     "execution_count": 23,
     "metadata": {},
     "output_type": "execute_result"
    }
   ],
   "source": [
    "np.random.randint(0, 12, (3,5))"
   ]
  },
  {
   "cell_type": "code",
   "execution_count": 24,
   "id": "22d8ec0e",
   "metadata": {
    "execution": {
     "iopub.execute_input": "2023-01-31T15:00:10.961152Z",
     "iopub.status.busy": "2023-01-31T15:00:10.960836Z",
     "iopub.status.idle": "2023-01-31T15:00:10.967265Z",
     "shell.execute_reply": "2023-01-31T15:00:10.966452Z"
    },
    "papermill": {
     "duration": 0.077099,
     "end_time": "2023-01-31T15:00:10.970952",
     "exception": false,
     "start_time": "2023-01-31T15:00:10.893853",
     "status": "completed"
    },
    "tags": []
   },
   "outputs": [
    {
     "data": {
      "text/plain": [
       "array([5, 4, 1, 4, 3, 2, 6, 3, 6, 7])"
      ]
     },
     "execution_count": 24,
     "metadata": {},
     "output_type": "execute_result"
    }
   ],
   "source": [
    "np.random.randint(1, 9, 10)"
   ]
  },
  {
   "cell_type": "code",
   "execution_count": 25,
   "id": "c728e9f5",
   "metadata": {
    "execution": {
     "iopub.execute_input": "2023-01-31T15:00:11.087734Z",
     "iopub.status.busy": "2023-01-31T15:00:11.087334Z",
     "iopub.status.idle": "2023-01-31T15:00:11.096445Z",
     "shell.execute_reply": "2023-01-31T15:00:11.095613Z"
    },
    "papermill": {
     "duration": 0.071304,
     "end_time": "2023-01-31T15:00:11.100218",
     "exception": false,
     "start_time": "2023-01-31T15:00:11.028914",
     "status": "completed"
    },
    "tags": []
   },
   "outputs": [
    {
     "data": {
      "text/plain": [
       "array([[ 7, 19, 14, 17,  8],\n",
       "       [10, 16,  5, 17, 21],\n",
       "       [21, 13, 18, 23,  5],\n",
       "       [ 2, 24,  8, 24, 10],\n",
       "       [16, 14, 15,  7,  9]])"
      ]
     },
     "execution_count": 25,
     "metadata": {},
     "output_type": "execute_result"
    }
   ],
   "source": [
    "np.random.randint(1, 25, (5,5))"
   ]
  },
  {
   "cell_type": "code",
   "execution_count": 26,
   "id": "0e285495",
   "metadata": {
    "execution": {
     "iopub.execute_input": "2023-01-31T15:00:11.221110Z",
     "iopub.status.busy": "2023-01-31T15:00:11.220794Z",
     "iopub.status.idle": "2023-01-31T15:00:11.227192Z",
     "shell.execute_reply": "2023-01-31T15:00:11.226217Z"
    },
    "papermill": {
     "duration": 0.068963,
     "end_time": "2023-01-31T15:00:11.229182",
     "exception": false,
     "start_time": "2023-01-31T15:00:11.160219",
     "status": "completed"
    },
    "tags": []
   },
   "outputs": [
    {
     "data": {
      "text/plain": [
       "array([5, 6])"
      ]
     },
     "execution_count": 26,
     "metadata": {},
     "output_type": "execute_result"
    }
   ],
   "source": [
    "np.random.randint(10, size = (2))"
   ]
  },
  {
   "cell_type": "code",
   "execution_count": 27,
   "id": "25e0c8ed",
   "metadata": {
    "execution": {
     "iopub.execute_input": "2023-01-31T15:00:11.310662Z",
     "iopub.status.busy": "2023-01-31T15:00:11.310092Z",
     "iopub.status.idle": "2023-01-31T15:00:11.316497Z",
     "shell.execute_reply": "2023-01-31T15:00:11.315518Z"
    },
    "papermill": {
     "duration": 0.048538,
     "end_time": "2023-01-31T15:00:11.318785",
     "exception": false,
     "start_time": "2023-01-31T15:00:11.270247",
     "status": "completed"
    },
    "tags": []
   },
   "outputs": [
    {
     "name": "stdout",
     "output_type": "stream",
     "text": [
      "[[1 6 2]\n",
      " [0 5 4]] \n",
      "\n",
      "[[1 6 2]\n",
      " [0 5 4]] .shape: (2, 3) \n",
      "\n",
      "datatype: int64\n"
     ]
    }
   ],
   "source": [
    "a = np.random.randint(10, size = (2, 3))\n",
    "\n",
    "print(a, \"\\n\")\n",
    "print(a, \".shape:\", a.shape, \"\\n\")\n",
    "print(\"datatype:\", a.dtype)"
   ]
  },
  {
   "cell_type": "markdown",
   "id": "aa1db5f2",
   "metadata": {
    "papermill": {
     "duration": 0.039367,
     "end_time": "2023-01-31T15:00:11.397775",
     "exception": false,
     "start_time": "2023-01-31T15:00:11.358408",
     "status": "completed"
    },
    "tags": []
   },
   "source": [
    "### <span style = \"background:#174D83; border:#ffffff; font-size:100%; color:#fff; border-radius:5px;\">8. ndim, shape, size, dtype functions</span>"
   ]
  },
  {
   "cell_type": "markdown",
   "id": "6d7e02b5",
   "metadata": {
    "papermill": {
     "duration": 0.038646,
     "end_time": "2023-01-31T15:00:11.476061",
     "exception": false,
     "start_time": "2023-01-31T15:00:11.437415",
     "status": "completed"
    },
    "tags": []
   },
   "source": [
    "* ### <mark>ndim - size number</mark>\n",
    "* ### <mark>shape - shape info</mark>\n",
    "* ### <mark>size - total element number</mark>\n",
    "* ### <mark>dtype - data type of elements of array</mark>"
   ]
  },
  {
   "cell_type": "code",
   "execution_count": 28,
   "id": "061b87af",
   "metadata": {
    "execution": {
     "iopub.execute_input": "2023-01-31T15:00:11.555369Z",
     "iopub.status.busy": "2023-01-31T15:00:11.555075Z",
     "iopub.status.idle": "2023-01-31T15:00:11.560364Z",
     "shell.execute_reply": "2023-01-31T15:00:11.559366Z"
    },
    "papermill": {
     "duration": 0.047786,
     "end_time": "2023-01-31T15:00:11.562816",
     "exception": false,
     "start_time": "2023-01-31T15:00:11.515030",
     "status": "completed"
    },
    "tags": []
   },
   "outputs": [
    {
     "name": "stdout",
     "output_type": "stream",
     "text": [
      "Array: [2 6 1 1 7 5 4]\n"
     ]
    }
   ],
   "source": [
    "arr = np.random.randint(10, size = 7)\n",
    "print(\"Array:\", arr)"
   ]
  },
  {
   "cell_type": "code",
   "execution_count": 29,
   "id": "264b65d0",
   "metadata": {
    "execution": {
     "iopub.execute_input": "2023-01-31T15:00:11.643630Z",
     "iopub.status.busy": "2023-01-31T15:00:11.642703Z",
     "iopub.status.idle": "2023-01-31T15:00:11.648787Z",
     "shell.execute_reply": "2023-01-31T15:00:11.647717Z"
    },
    "papermill": {
     "duration": 0.048832,
     "end_time": "2023-01-31T15:00:11.650919",
     "exception": false,
     "start_time": "2023-01-31T15:00:11.602087",
     "status": "completed"
    },
    "tags": []
   },
   "outputs": [
    {
     "name": "stdout",
     "output_type": "stream",
     "text": [
      "(7,)\n",
      "int64\n",
      "1\n",
      "7\n"
     ]
    }
   ],
   "source": [
    "for i in (arr.shape, arr.dtype, arr.ndim,arr.size):\n",
    "    print(i)"
   ]
  },
  {
   "cell_type": "code",
   "execution_count": 30,
   "id": "0e81a53e",
   "metadata": {
    "execution": {
     "iopub.execute_input": "2023-01-31T15:00:11.732496Z",
     "iopub.status.busy": "2023-01-31T15:00:11.731691Z",
     "iopub.status.idle": "2023-01-31T15:00:11.737849Z",
     "shell.execute_reply": "2023-01-31T15:00:11.736747Z"
    },
    "papermill": {
     "duration": 0.049469,
     "end_time": "2023-01-31T15:00:11.739932",
     "exception": false,
     "start_time": "2023-01-31T15:00:11.690463",
     "status": "completed"
    },
    "tags": []
   },
   "outputs": [
    {
     "name": "stdout",
     "output_type": "stream",
     "text": [
      "Array:\n",
      "\n",
      " [[2 9 2 9 1 4 7]\n",
      " [6 6 3 5 9 7 3]\n",
      " [4 4 8 4 6 4 2]\n",
      " [3 1 3 6 2 1 4]\n",
      " [3 7 3 9 4 2 5]]\n"
     ]
    }
   ],
   "source": [
    "arr_1 = np.random.randint(10, size = (5, 7))\n",
    "print(\"Array:\\n\\n\", arr_1)"
   ]
  },
  {
   "cell_type": "code",
   "execution_count": 31,
   "id": "5710197c",
   "metadata": {
    "execution": {
     "iopub.execute_input": "2023-01-31T15:00:11.821916Z",
     "iopub.status.busy": "2023-01-31T15:00:11.820942Z",
     "iopub.status.idle": "2023-01-31T15:00:11.827632Z",
     "shell.execute_reply": "2023-01-31T15:00:11.826435Z"
    },
    "papermill": {
     "duration": 0.049796,
     "end_time": "2023-01-31T15:00:11.829809",
     "exception": false,
     "start_time": "2023-01-31T15:00:11.780013",
     "status": "completed"
    },
    "tags": []
   },
   "outputs": [
    {
     "name": "stdout",
     "output_type": "stream",
     "text": [
      "(5, 7)\n",
      "int64\n",
      "2\n",
      "35\n"
     ]
    }
   ],
   "source": [
    "for i in (arr_1.shape, arr_1.dtype, arr_1.ndim, arr_1.size):\n",
    "    print(i)"
   ]
  },
  {
   "cell_type": "markdown",
   "id": "17828cd1",
   "metadata": {
    "papermill": {
     "duration": 0.039328,
     "end_time": "2023-01-31T15:00:11.909197",
     "exception": false,
     "start_time": "2023-01-31T15:00:11.869869",
     "status": "completed"
    },
    "tags": []
   },
   "source": [
    "### <span style = \"background:#174D83; border:#ffffff; font-size:100%; color:#fff; border-radius:5px;\">9. Reshape function</span>"
   ]
  },
  {
   "cell_type": "code",
   "execution_count": 32,
   "id": "d854ca70",
   "metadata": {
    "execution": {
     "iopub.execute_input": "2023-01-31T15:00:11.990911Z",
     "iopub.status.busy": "2023-01-31T15:00:11.990562Z",
     "iopub.status.idle": "2023-01-31T15:00:11.996219Z",
     "shell.execute_reply": "2023-01-31T15:00:11.995198Z"
    },
    "papermill": {
     "duration": 0.049438,
     "end_time": "2023-01-31T15:00:11.999057",
     "exception": false,
     "start_time": "2023-01-31T15:00:11.949619",
     "status": "completed"
    },
    "tags": []
   },
   "outputs": [
    {
     "name": "stdout",
     "output_type": "stream",
     "text": [
      "[ 0  1  2  3  4  5  6  7  8  9 10 11 12 13 14]\n"
     ]
    }
   ],
   "source": [
    "arr = np.arange(0, 15)\n",
    "print(arr)"
   ]
  },
  {
   "cell_type": "code",
   "execution_count": 33,
   "id": "8c83dd4c",
   "metadata": {
    "execution": {
     "iopub.execute_input": "2023-01-31T15:00:12.080311Z",
     "iopub.status.busy": "2023-01-31T15:00:12.079871Z",
     "iopub.status.idle": "2023-01-31T15:00:12.085296Z",
     "shell.execute_reply": "2023-01-31T15:00:12.084215Z"
    },
    "papermill": {
     "duration": 0.048536,
     "end_time": "2023-01-31T15:00:12.087624",
     "exception": false,
     "start_time": "2023-01-31T15:00:12.039088",
     "status": "completed"
    },
    "tags": []
   },
   "outputs": [
    {
     "name": "stdout",
     "output_type": "stream",
     "text": [
      "[[ 0  1  2  3  4]\n",
      " [ 5  6  7  8  9]\n",
      " [10 11 12 13 14]]\n"
     ]
    }
   ],
   "source": [
    "arr = arr.reshape(3, 5)\n",
    "print(arr)"
   ]
  },
  {
   "cell_type": "markdown",
   "id": "8dcafdb0",
   "metadata": {
    "papermill": {
     "duration": 0.039021,
     "end_time": "2023-01-31T15:00:12.166274",
     "exception": false,
     "start_time": "2023-01-31T15:00:12.127253",
     "status": "completed"
    },
    "tags": []
   },
   "source": [
    "### <mark>Here we create a matrix keeping the vector format</mark>"
   ]
  },
  {
   "cell_type": "code",
   "execution_count": 34,
   "id": "3aa0dea7",
   "metadata": {
    "execution": {
     "iopub.execute_input": "2023-01-31T15:00:12.250722Z",
     "iopub.status.busy": "2023-01-31T15:00:12.249793Z",
     "iopub.status.idle": "2023-01-31T15:00:12.256556Z",
     "shell.execute_reply": "2023-01-31T15:00:12.255277Z"
    },
    "papermill": {
     "duration": 0.049054,
     "end_time": "2023-01-31T15:00:12.258551",
     "exception": false,
     "start_time": "2023-01-31T15:00:12.209497",
     "status": "completed"
    },
    "tags": []
   },
   "outputs": [
    {
     "name": "stdout",
     "output_type": "stream",
     "text": [
      "[[ 1  2  3  4  5  6  7  8  9 10 11 12 13 14]]\n",
      "***********\n",
      "2\n"
     ]
    }
   ],
   "source": [
    "arr = np.arange(1, 15)\n",
    "\n",
    "arr = arr.reshape((1, 14))\n",
    "for i in (arr, \"***********\", arr.ndim):\n",
    "    print(i)"
   ]
  },
  {
   "cell_type": "markdown",
   "id": "1062fe65",
   "metadata": {
    "papermill": {
     "duration": 0.03933,
     "end_time": "2023-01-31T15:00:12.337774",
     "exception": false,
     "start_time": "2023-01-31T15:00:12.298444",
     "status": "completed"
    },
    "tags": []
   },
   "source": [
    "### <mark>Reshape with -1</mark>"
   ]
  },
  {
   "cell_type": "code",
   "execution_count": 35,
   "id": "42e13b1a",
   "metadata": {
    "execution": {
     "iopub.execute_input": "2023-01-31T15:00:12.419599Z",
     "iopub.status.busy": "2023-01-31T15:00:12.419206Z",
     "iopub.status.idle": "2023-01-31T15:00:12.425728Z",
     "shell.execute_reply": "2023-01-31T15:00:12.424688Z"
    },
    "papermill": {
     "duration": 0.049688,
     "end_time": "2023-01-31T15:00:12.428162",
     "exception": false,
     "start_time": "2023-01-31T15:00:12.378474",
     "status": "completed"
    },
    "tags": []
   },
   "outputs": [
    {
     "name": "stdout",
     "output_type": "stream",
     "text": [
      "Original numpy array and its shape :\n",
      "[[ 1  2  3  4  5]\n",
      " [ 6  7  8  9 10]\n",
      " [11 12 13 14 15]] \n",
      "\n",
      " (3, 5)\n"
     ]
    }
   ],
   "source": [
    "arr = np.matrix([[1, 2, 3, 4, 5], [6, 7, 8, 9, 10], [11, 12, 13, 14, 15]])\n",
    "print(\"Original numpy array and its shape :\")\n",
    "print(arr, \"\\n\\n\", arr.shape)"
   ]
  },
  {
   "cell_type": "code",
   "execution_count": 36,
   "id": "223b8e8b",
   "metadata": {
    "execution": {
     "iopub.execute_input": "2023-01-31T15:00:12.515857Z",
     "iopub.status.busy": "2023-01-31T15:00:12.514868Z",
     "iopub.status.idle": "2023-01-31T15:00:12.521218Z",
     "shell.execute_reply": "2023-01-31T15:00:12.520266Z"
    },
    "papermill": {
     "duration": 0.054808,
     "end_time": "2023-01-31T15:00:12.523477",
     "exception": false,
     "start_time": "2023-01-31T15:00:12.468669",
     "status": "completed"
    },
    "tags": []
   },
   "outputs": [
    {
     "name": "stdout",
     "output_type": "stream",
     "text": [
      "\n",
      "reshaping the array like (arr, -1):\n",
      "[[ 1  2  3  4  5  6  7  8  9 10 11 12 13 14 15]]\n",
      "\n",
      "new shape: (1, 15)\n"
     ]
    }
   ],
   "source": [
    "c = np.reshape(arr, -1)\n",
    "print(\"\\nreshaping the array like (arr, -1):\")\n",
    "print(c)\n",
    "print(\"\\nnew shape:\", c.shape)"
   ]
  },
  {
   "cell_type": "code",
   "execution_count": 37,
   "id": "be7fd080",
   "metadata": {
    "execution": {
     "iopub.execute_input": "2023-01-31T15:00:12.605045Z",
     "iopub.status.busy": "2023-01-31T15:00:12.604182Z",
     "iopub.status.idle": "2023-01-31T15:00:12.610652Z",
     "shell.execute_reply": "2023-01-31T15:00:12.609588Z"
    },
    "papermill": {
     "duration": 0.049593,
     "end_time": "2023-01-31T15:00:12.612702",
     "exception": false,
     "start_time": "2023-01-31T15:00:12.563109",
     "status": "completed"
    },
    "tags": []
   },
   "outputs": [
    {
     "name": "stdout",
     "output_type": "stream",
     "text": [
      "reshaping array like (arr, (1, -1)):\n",
      "[[ 1  2  3  4  5  6  7  8  9 10 11 12 13 14 15]]\n",
      "\n",
      "new shape:  (1, 15)\n"
     ]
    }
   ],
   "source": [
    "d = np.reshape(arr, (1, -1))\n",
    "print(\"reshaping array like (arr, (1, -1)):\")\n",
    "print(d)\n",
    "print(\"\\nnew shape: \", d.shape)"
   ]
  },
  {
   "cell_type": "code",
   "execution_count": 38,
   "id": "a0a49e73",
   "metadata": {
    "execution": {
     "iopub.execute_input": "2023-01-31T15:00:12.694179Z",
     "iopub.status.busy": "2023-01-31T15:00:12.693081Z",
     "iopub.status.idle": "2023-01-31T15:00:12.699138Z",
     "shell.execute_reply": "2023-01-31T15:00:12.698009Z"
    },
    "papermill": {
     "duration": 0.048617,
     "end_time": "2023-01-31T15:00:12.701121",
     "exception": false,
     "start_time": "2023-01-31T15:00:12.652504",
     "status": "completed"
    },
    "tags": []
   },
   "outputs": [
    {
     "name": "stdout",
     "output_type": "stream",
     "text": [
      "reshaping the array - (arr, (3, -1)):\n",
      "[[ 1  2  3  4  5]\n",
      " [ 6  7  8  9 10]\n",
      " [11 12 13 14 15]]\n",
      "\n",
      "new shape: (3, 5)\n"
     ]
    }
   ],
   "source": [
    "e = np.reshape(arr, (3, -1))\n",
    "print(\"reshaping the array - (arr, (3, -1)):\")\n",
    "print(e)\n",
    "print(\"\\nnew shape:\", e.shape)"
   ]
  },
  {
   "cell_type": "code",
   "execution_count": 39,
   "id": "384354d6",
   "metadata": {
    "execution": {
     "iopub.execute_input": "2023-01-31T15:00:12.783107Z",
     "iopub.status.busy": "2023-01-31T15:00:12.782826Z",
     "iopub.status.idle": "2023-01-31T15:00:12.788763Z",
     "shell.execute_reply": "2023-01-31T15:00:12.787810Z"
    },
    "papermill": {
     "duration": 0.04919,
     "end_time": "2023-01-31T15:00:12.791063",
     "exception": false,
     "start_time": "2023-01-31T15:00:12.741873",
     "status": "completed"
    },
    "tags": []
   },
   "outputs": [
    {
     "name": "stdout",
     "output_type": "stream",
     "text": [
      "reshaping the array - (arr, (3, -1)):\n",
      "[[ 1  2  3  4  5]\n",
      " [ 6  7  8  9 10]\n",
      " [11 12 13 14 15]]\n",
      "\n",
      "new shape: (3, 5)\n"
     ]
    }
   ],
   "source": [
    "f = np.reshape(arr, (3, -1))\n",
    "print(\"reshaping the array - (arr, (3, -1)):\")\n",
    "print(f)\n",
    "print(\"\\nnew shape:\", f.shape)"
   ]
  },
  {
   "cell_type": "code",
   "execution_count": 40,
   "id": "9d010779",
   "metadata": {
    "execution": {
     "iopub.execute_input": "2023-01-31T15:00:12.874846Z",
     "iopub.status.busy": "2023-01-31T15:00:12.873875Z",
     "iopub.status.idle": "2023-01-31T15:00:12.880615Z",
     "shell.execute_reply": "2023-01-31T15:00:12.879386Z"
    },
    "papermill": {
     "duration": 0.051231,
     "end_time": "2023-01-31T15:00:12.882754",
     "exception": false,
     "start_time": "2023-01-31T15:00:12.831523",
     "status": "completed"
    },
    "tags": []
   },
   "outputs": [
    {
     "name": "stdout",
     "output_type": "stream",
     "text": [
      "reshaping the array - (a, (4, -1)):\n",
      "[[ 1  2  3]\n",
      " [ 4  5  6]\n",
      " [ 7  8  9]\n",
      " [10 11 12]\n",
      " [13 14 15]]\n",
      "\n",
      "new shape: (5, 3)\n"
     ]
    }
   ],
   "source": [
    "g = np.reshape(arr, (5, -1))\n",
    "print(\"reshaping the array - (a, (4, -1)):\")\n",
    "print(g)\n",
    "print(\"\\nnew shape:\", g.shape)"
   ]
  },
  {
   "cell_type": "markdown",
   "id": "cb38b09f",
   "metadata": {
    "papermill": {
     "duration": 0.040037,
     "end_time": "2023-01-31T15:00:12.964202",
     "exception": false,
     "start_time": "2023-01-31T15:00:12.924165",
     "status": "completed"
    },
    "tags": []
   },
   "source": [
    "### <span style = \"background:#174D83; border:#ffffff; font-size:100%; color:#fff; border-radius:5px;\">10. Concatenate arrays</span>"
   ]
  },
  {
   "cell_type": "markdown",
   "id": "47fd10c3",
   "metadata": {
    "papermill": {
     "duration": 0.039675,
     "end_time": "2023-01-31T15:00:13.044036",
     "exception": false,
     "start_time": "2023-01-31T15:00:13.004361",
     "status": "completed"
    },
    "tags": []
   },
   "source": [
    "### <mark>One dimensional arrays</mark>"
   ]
  },
  {
   "cell_type": "code",
   "execution_count": 41,
   "id": "71e7fde0",
   "metadata": {
    "execution": {
     "iopub.execute_input": "2023-01-31T15:00:13.125888Z",
     "iopub.status.busy": "2023-01-31T15:00:13.124862Z",
     "iopub.status.idle": "2023-01-31T15:00:13.132974Z",
     "shell.execute_reply": "2023-01-31T15:00:13.131901Z"
    },
    "papermill": {
     "duration": 0.051077,
     "end_time": "2023-01-31T15:00:13.135144",
     "exception": false,
     "start_time": "2023-01-31T15:00:13.084067",
     "status": "completed"
    },
    "tags": []
   },
   "outputs": [
    {
     "data": {
      "text/plain": [
       "array([1, 2, 3, 4, 5, 6, 5, 6, 7])"
      ]
     },
     "execution_count": 41,
     "metadata": {},
     "output_type": "execute_result"
    }
   ],
   "source": [
    "arr_1 = np.array([1,2,3])\n",
    "arr_2 = np.array([4,5,6])\n",
    "arr_3 = np.array([5,6,7])\n",
    "np.concatenate([arr_1, arr_2, arr_3])"
   ]
  },
  {
   "cell_type": "markdown",
   "id": "dba68b14",
   "metadata": {
    "papermill": {
     "duration": 0.039969,
     "end_time": "2023-01-31T15:00:13.215789",
     "exception": false,
     "start_time": "2023-01-31T15:00:13.175820",
     "status": "completed"
    },
    "tags": []
   },
   "source": [
    "### <mark>Two dimensional arrays</mark>"
   ]
  },
  {
   "cell_type": "code",
   "execution_count": 42,
   "id": "9262e417",
   "metadata": {
    "execution": {
     "iopub.execute_input": "2023-01-31T15:00:13.298511Z",
     "iopub.status.busy": "2023-01-31T15:00:13.297848Z",
     "iopub.status.idle": "2023-01-31T15:00:13.305889Z",
     "shell.execute_reply": "2023-01-31T15:00:13.304947Z"
    },
    "papermill": {
     "duration": 0.051482,
     "end_time": "2023-01-31T15:00:13.307967",
     "exception": false,
     "start_time": "2023-01-31T15:00:13.256485",
     "status": "completed"
    },
    "tags": []
   },
   "outputs": [
    {
     "data": {
      "text/plain": [
       "array([[ 1,  2,  3,  4],\n",
       "       [ 5,  6,  7,  8],\n",
       "       [ 9, 10, 11, 12],\n",
       "       [13, 14, 15, 16]])"
      ]
     },
     "execution_count": 42,
     "metadata": {},
     "output_type": "execute_result"
    }
   ],
   "source": [
    "arr_1 = np.array([[1,2,3,4],\n",
    "               [5,6,7,8]])\n",
    "\n",
    "arr_2 = np.array([[9,10,11,12],\n",
    "               [13,14,15,16]])\n",
    "\n",
    "np.concatenate([arr_1, arr_2], axis = 0)"
   ]
  },
  {
   "cell_type": "code",
   "execution_count": 43,
   "id": "5892baf5",
   "metadata": {
    "execution": {
     "iopub.execute_input": "2023-01-31T15:00:13.390650Z",
     "iopub.status.busy": "2023-01-31T15:00:13.390362Z",
     "iopub.status.idle": "2023-01-31T15:00:13.397371Z",
     "shell.execute_reply": "2023-01-31T15:00:13.396385Z"
    },
    "papermill": {
     "duration": 0.050822,
     "end_time": "2023-01-31T15:00:13.399468",
     "exception": false,
     "start_time": "2023-01-31T15:00:13.348646",
     "status": "completed"
    },
    "tags": []
   },
   "outputs": [
    {
     "data": {
      "text/plain": [
       "array([[ 1,  2,  3,  4,  9, 10, 11, 12],\n",
       "       [ 5,  6,  7,  8, 13, 14, 15, 16]])"
      ]
     },
     "execution_count": 43,
     "metadata": {},
     "output_type": "execute_result"
    }
   ],
   "source": [
    "np.concatenate([arr_1,arr_2], axis = 1)"
   ]
  },
  {
   "cell_type": "markdown",
   "id": "ec5bc380",
   "metadata": {
    "papermill": {
     "duration": 0.040474,
     "end_time": "2023-01-31T15:00:13.479953",
     "exception": false,
     "start_time": "2023-01-31T15:00:13.439479",
     "status": "completed"
    },
    "tags": []
   },
   "source": [
    "### <span style = \"background:#174D83; border:#ffffff; font-size:100%; color:#fff; border-radius:5px;\">11. Array splitting</span>"
   ]
  },
  {
   "cell_type": "code",
   "execution_count": 44,
   "id": "bae68ed4",
   "metadata": {
    "execution": {
     "iopub.execute_input": "2023-01-31T15:00:13.563438Z",
     "iopub.status.busy": "2023-01-31T15:00:13.562621Z",
     "iopub.status.idle": "2023-01-31T15:00:13.571410Z",
     "shell.execute_reply": "2023-01-31T15:00:13.570462Z"
    },
    "papermill": {
     "duration": 0.053341,
     "end_time": "2023-01-31T15:00:13.573427",
     "exception": false,
     "start_time": "2023-01-31T15:00:13.520086",
     "status": "completed"
    },
    "tags": []
   },
   "outputs": [
    {
     "data": {
      "text/plain": [
       "[array([1, 2, 3]), array([22, 22]), array([4, 5, 6])]"
      ]
     },
     "execution_count": 44,
     "metadata": {},
     "output_type": "execute_result"
    }
   ],
   "source": [
    "arr = np.array([1,2,3,22,22,4,5,6])\n",
    "np.split(arr, [3, 5])"
   ]
  },
  {
   "cell_type": "code",
   "execution_count": 45,
   "id": "846387e9",
   "metadata": {
    "execution": {
     "iopub.execute_input": "2023-01-31T15:00:13.656837Z",
     "iopub.status.busy": "2023-01-31T15:00:13.655923Z",
     "iopub.status.idle": "2023-01-31T15:00:13.662636Z",
     "shell.execute_reply": "2023-01-31T15:00:13.661443Z"
    },
    "papermill": {
     "duration": 0.050377,
     "end_time": "2023-01-31T15:00:13.664714",
     "exception": false,
     "start_time": "2023-01-31T15:00:13.614337",
     "status": "completed"
    },
    "tags": []
   },
   "outputs": [
    {
     "name": "stdout",
     "output_type": "stream",
     "text": [
      "[1 2 3]\n",
      "[22 22]\n",
      "[4 5 6]\n"
     ]
    }
   ],
   "source": [
    "a, b, c = np.split(arr, [3, 5])\n",
    "for i in (a, b, c):\n",
    "    print(i)"
   ]
  },
  {
   "cell_type": "markdown",
   "id": "ca949e8b",
   "metadata": {
    "papermill": {
     "duration": 0.04042,
     "end_time": "2023-01-31T15:00:13.746268",
     "exception": false,
     "start_time": "2023-01-31T15:00:13.705848",
     "status": "completed"
    },
    "tags": []
   },
   "source": [
    "### <mark>Split two dimensional arrays</mark>"
   ]
  },
  {
   "cell_type": "code",
   "execution_count": 46,
   "id": "7f1b7dba",
   "metadata": {
    "execution": {
     "iopub.execute_input": "2023-01-31T15:00:13.828374Z",
     "iopub.status.busy": "2023-01-31T15:00:13.828056Z",
     "iopub.status.idle": "2023-01-31T15:00:13.834435Z",
     "shell.execute_reply": "2023-01-31T15:00:13.833422Z"
    },
    "papermill": {
     "duration": 0.049597,
     "end_time": "2023-01-31T15:00:13.836446",
     "exception": false,
     "start_time": "2023-01-31T15:00:13.786849",
     "status": "completed"
    },
    "tags": []
   },
   "outputs": [
    {
     "data": {
      "text/plain": [
       "array([[ 0,  1,  2,  3],\n",
       "       [ 4,  5,  6,  7],\n",
       "       [ 8,  9, 10, 11],\n",
       "       [12, 13, 14, 15]])"
      ]
     },
     "execution_count": 46,
     "metadata": {},
     "output_type": "execute_result"
    }
   ],
   "source": [
    "arr = np.arange(16).reshape(4, 4)\n",
    "arr"
   ]
  },
  {
   "cell_type": "code",
   "execution_count": 47,
   "id": "51e9e60e",
   "metadata": {
    "execution": {
     "iopub.execute_input": "2023-01-31T15:00:13.919639Z",
     "iopub.status.busy": "2023-01-31T15:00:13.918916Z",
     "iopub.status.idle": "2023-01-31T15:00:13.925736Z",
     "shell.execute_reply": "2023-01-31T15:00:13.924659Z"
    },
    "papermill": {
     "duration": 0.050044,
     "end_time": "2023-01-31T15:00:13.927745",
     "exception": false,
     "start_time": "2023-01-31T15:00:13.877701",
     "status": "completed"
    },
    "tags": []
   },
   "outputs": [
    {
     "data": {
      "text/plain": [
       "(array([[0, 1, 2, 3],\n",
       "        [4, 5, 6, 7]]),\n",
       " array([[ 8,  9, 10, 11],\n",
       "        [12, 13, 14, 15]]))"
      ]
     },
     "execution_count": 47,
     "metadata": {},
     "output_type": "execute_result"
    }
   ],
   "source": [
    "top, bottom = np.vsplit(arr, [2])\n",
    "top, bottom"
   ]
  },
  {
   "cell_type": "code",
   "execution_count": 48,
   "id": "28428ed9",
   "metadata": {
    "execution": {
     "iopub.execute_input": "2023-01-31T15:00:14.010360Z",
     "iopub.status.busy": "2023-01-31T15:00:14.010006Z",
     "iopub.status.idle": "2023-01-31T15:00:14.016507Z",
     "shell.execute_reply": "2023-01-31T15:00:14.015574Z"
    },
    "papermill": {
     "duration": 0.050045,
     "end_time": "2023-01-31T15:00:14.018449",
     "exception": false,
     "start_time": "2023-01-31T15:00:13.968404",
     "status": "completed"
    },
    "tags": []
   },
   "outputs": [
    {
     "data": {
      "text/plain": [
       "(array([[ 0,  1],\n",
       "        [ 4,  5],\n",
       "        [ 8,  9],\n",
       "        [12, 13]]),\n",
       " array([[ 2,  3],\n",
       "        [ 6,  7],\n",
       "        [10, 11],\n",
       "        [14, 15]]))"
      ]
     },
     "execution_count": 48,
     "metadata": {},
     "output_type": "execute_result"
    }
   ],
   "source": [
    "left, right = np.hsplit(arr, [2])\n",
    "left, right"
   ]
  },
  {
   "cell_type": "markdown",
   "id": "f6575a6a",
   "metadata": {
    "papermill": {
     "duration": 0.040348,
     "end_time": "2023-01-31T15:00:14.099782",
     "exception": false,
     "start_time": "2023-01-31T15:00:14.059434",
     "status": "completed"
    },
    "tags": []
   },
   "source": [
    "### <span style = \"background:#174D83; border:#ffffff; font-size:100%; color:#fff; border-radius:5px;\">12. Sort the arrays</span>"
   ]
  },
  {
   "cell_type": "code",
   "execution_count": 49,
   "id": "3b190924",
   "metadata": {
    "execution": {
     "iopub.execute_input": "2023-01-31T15:00:14.183310Z",
     "iopub.status.busy": "2023-01-31T15:00:14.182411Z",
     "iopub.status.idle": "2023-01-31T15:00:14.189121Z",
     "shell.execute_reply": "2023-01-31T15:00:14.187703Z"
    },
    "papermill": {
     "duration": 0.050811,
     "end_time": "2023-01-31T15:00:14.191392",
     "exception": false,
     "start_time": "2023-01-31T15:00:14.140581",
     "status": "completed"
    },
    "tags": []
   },
   "outputs": [
    {
     "name": "stdout",
     "output_type": "stream",
     "text": [
      "[ 0  1  1  2  3  4  6  7  9 11]\n"
     ]
    }
   ],
   "source": [
    "arr = np.array([2, 6, 1, 4, 7, 3, 9, 1, 0, 11])\n",
    "print(np.sort(arr))"
   ]
  },
  {
   "cell_type": "code",
   "execution_count": 50,
   "id": "2bc3011a",
   "metadata": {
    "execution": {
     "iopub.execute_input": "2023-01-31T15:00:14.275412Z",
     "iopub.status.busy": "2023-01-31T15:00:14.274591Z",
     "iopub.status.idle": "2023-01-31T15:00:14.281910Z",
     "shell.execute_reply": "2023-01-31T15:00:14.280931Z"
    },
    "papermill": {
     "duration": 0.050895,
     "end_time": "2023-01-31T15:00:14.283934",
     "exception": false,
     "start_time": "2023-01-31T15:00:14.233039",
     "status": "completed"
    },
    "tags": []
   },
   "outputs": [
    {
     "data": {
      "text/plain": [
       "array([ 0,  1,  1,  2,  3,  4,  6,  7,  9, 11])"
      ]
     },
     "execution_count": 50,
     "metadata": {},
     "output_type": "execute_result"
    }
   ],
   "source": [
    "arr = np.array([2,6,1,4,7,3,9,1,0,11])\n",
    "arr.sort()\n",
    "arr"
   ]
  },
  {
   "cell_type": "markdown",
   "id": "d296db1d",
   "metadata": {
    "papermill": {
     "duration": 0.082449,
     "end_time": "2023-01-31T15:00:14.407546",
     "exception": false,
     "start_time": "2023-01-31T15:00:14.325097",
     "status": "completed"
    },
    "tags": []
   },
   "source": [
    "### <mark>Sorting two dimensional arrays</mark>"
   ]
  },
  {
   "cell_type": "code",
   "execution_count": 51,
   "id": "edc49b7d",
   "metadata": {
    "execution": {
     "iopub.execute_input": "2023-01-31T15:00:14.491382Z",
     "iopub.status.busy": "2023-01-31T15:00:14.491006Z",
     "iopub.status.idle": "2023-01-31T15:00:14.497907Z",
     "shell.execute_reply": "2023-01-31T15:00:14.496935Z"
    },
    "papermill": {
     "duration": 0.050855,
     "end_time": "2023-01-31T15:00:14.499935",
     "exception": false,
     "start_time": "2023-01-31T15:00:14.449080",
     "status": "completed"
    },
    "tags": []
   },
   "outputs": [
    {
     "data": {
      "text/plain": [
       "array([[15,  4, 13, 13,  2],\n",
       "       [ 9,  9,  1,  2, 13],\n",
       "       [ 7, 10,  4,  8, 14]])"
      ]
     },
     "execution_count": 51,
     "metadata": {},
     "output_type": "execute_result"
    }
   ],
   "source": [
    "arr_1 = np.random.randint(1, 16, (3, 5))\n",
    "arr_1"
   ]
  },
  {
   "cell_type": "code",
   "execution_count": 52,
   "id": "070e493e",
   "metadata": {
    "execution": {
     "iopub.execute_input": "2023-01-31T15:00:14.583597Z",
     "iopub.status.busy": "2023-01-31T15:00:14.582702Z",
     "iopub.status.idle": "2023-01-31T15:00:14.589741Z",
     "shell.execute_reply": "2023-01-31T15:00:14.588804Z"
    },
    "papermill": {
     "duration": 0.050767,
     "end_time": "2023-01-31T15:00:14.591695",
     "exception": false,
     "start_time": "2023-01-31T15:00:14.540928",
     "status": "completed"
    },
    "tags": []
   },
   "outputs": [
    {
     "data": {
      "text/plain": [
       "array([[ 2,  4, 13, 13, 15],\n",
       "       [ 1,  2,  9,  9, 13],\n",
       "       [ 4,  7,  8, 10, 14]])"
      ]
     },
     "execution_count": 52,
     "metadata": {},
     "output_type": "execute_result"
    }
   ],
   "source": [
    "np.sort(arr_1, axis = 1)"
   ]
  },
  {
   "cell_type": "code",
   "execution_count": 53,
   "id": "d79643da",
   "metadata": {
    "execution": {
     "iopub.execute_input": "2023-01-31T15:00:14.677243Z",
     "iopub.status.busy": "2023-01-31T15:00:14.675862Z",
     "iopub.status.idle": "2023-01-31T15:00:14.683345Z",
     "shell.execute_reply": "2023-01-31T15:00:14.682312Z"
    },
    "papermill": {
     "duration": 0.0521,
     "end_time": "2023-01-31T15:00:14.685460",
     "exception": false,
     "start_time": "2023-01-31T15:00:14.633360",
     "status": "completed"
    },
    "tags": []
   },
   "outputs": [
    {
     "data": {
      "text/plain": [
       "array([[ 7,  4,  1,  2,  2],\n",
       "       [ 9,  9,  4,  8, 13],\n",
       "       [15, 10, 13, 13, 14]])"
      ]
     },
     "execution_count": 53,
     "metadata": {},
     "output_type": "execute_result"
    }
   ],
   "source": [
    "np.sort(arr_1, axis = 0)"
   ]
  },
  {
   "cell_type": "markdown",
   "id": "63756637",
   "metadata": {
    "papermill": {
     "duration": 0.040872,
     "end_time": "2023-01-31T15:00:14.768625",
     "exception": false,
     "start_time": "2023-01-31T15:00:14.727753",
     "status": "completed"
    },
    "tags": []
   },
   "source": [
    "### <span style = \"background:#174D83; border:#ffffff; font-size:100%; color:#fff; border-radius:5px;\">13. Acces array elements by index</span>"
   ]
  },
  {
   "cell_type": "code",
   "execution_count": 54,
   "id": "55f52d1f",
   "metadata": {
    "execution": {
     "iopub.execute_input": "2023-01-31T15:00:14.852587Z",
     "iopub.status.busy": "2023-01-31T15:00:14.852245Z",
     "iopub.status.idle": "2023-01-31T15:00:14.856929Z",
     "shell.execute_reply": "2023-01-31T15:00:14.855970Z"
    },
    "papermill": {
     "duration": 0.049148,
     "end_time": "2023-01-31T15:00:14.859081",
     "exception": false,
     "start_time": "2023-01-31T15:00:14.809933",
     "status": "completed"
    },
    "tags": []
   },
   "outputs": [],
   "source": [
    "arr = np.array([1, 3, 4, 6, 2, 7, 9, 4, 6, 2, 0])"
   ]
  },
  {
   "cell_type": "code",
   "execution_count": 55,
   "id": "6811d7a9",
   "metadata": {
    "execution": {
     "iopub.execute_input": "2023-01-31T15:00:14.943290Z",
     "iopub.status.busy": "2023-01-31T15:00:14.942448Z",
     "iopub.status.idle": "2023-01-31T15:00:14.949204Z",
     "shell.execute_reply": "2023-01-31T15:00:14.947999Z"
    },
    "papermill": {
     "duration": 0.05104,
     "end_time": "2023-01-31T15:00:14.951415",
     "exception": false,
     "start_time": "2023-01-31T15:00:14.900375",
     "status": "completed"
    },
    "tags": []
   },
   "outputs": [
    {
     "data": {
      "text/plain": [
       "1"
      ]
     },
     "execution_count": 55,
     "metadata": {},
     "output_type": "execute_result"
    }
   ],
   "source": [
    "arr[0]"
   ]
  },
  {
   "cell_type": "code",
   "execution_count": 56,
   "id": "d9fba8b8",
   "metadata": {
    "execution": {
     "iopub.execute_input": "2023-01-31T15:00:15.036177Z",
     "iopub.status.busy": "2023-01-31T15:00:15.035609Z",
     "iopub.status.idle": "2023-01-31T15:00:15.041541Z",
     "shell.execute_reply": "2023-01-31T15:00:15.040634Z"
    },
    "papermill": {
     "duration": 0.050066,
     "end_time": "2023-01-31T15:00:15.043605",
     "exception": false,
     "start_time": "2023-01-31T15:00:14.993539",
     "status": "completed"
    },
    "tags": []
   },
   "outputs": [
    {
     "data": {
      "text/plain": [
       "2"
      ]
     },
     "execution_count": 56,
     "metadata": {},
     "output_type": "execute_result"
    }
   ],
   "source": [
    " arr[-2]"
   ]
  },
  {
   "cell_type": "code",
   "execution_count": 57,
   "id": "960584ef",
   "metadata": {
    "execution": {
     "iopub.execute_input": "2023-01-31T15:00:15.128189Z",
     "iopub.status.busy": "2023-01-31T15:00:15.127374Z",
     "iopub.status.idle": "2023-01-31T15:00:15.134023Z",
     "shell.execute_reply": "2023-01-31T15:00:15.133040Z"
    },
    "papermill": {
     "duration": 0.051041,
     "end_time": "2023-01-31T15:00:15.136059",
     "exception": false,
     "start_time": "2023-01-31T15:00:15.085018",
     "status": "completed"
    },
    "tags": []
   },
   "outputs": [
    {
     "data": {
      "text/plain": [
       "array([1, 3, 4, 6, 2, 7, 9, 4, 6, 2, 0])"
      ]
     },
     "execution_count": 57,
     "metadata": {},
     "output_type": "execute_result"
    }
   ],
   "source": [
    "arr[:]"
   ]
  },
  {
   "cell_type": "code",
   "execution_count": 58,
   "id": "d49e68c6",
   "metadata": {
    "execution": {
     "iopub.execute_input": "2023-01-31T15:00:15.221668Z",
     "iopub.status.busy": "2023-01-31T15:00:15.220074Z",
     "iopub.status.idle": "2023-01-31T15:00:15.226924Z",
     "shell.execute_reply": "2023-01-31T15:00:15.226003Z"
    },
    "papermill": {
     "duration": 0.05152,
     "end_time": "2023-01-31T15:00:15.229033",
     "exception": false,
     "start_time": "2023-01-31T15:00:15.177513",
     "status": "completed"
    },
    "tags": []
   },
   "outputs": [
    {
     "data": {
      "text/plain": [
       "array([1, 3, 4, 6, 2, 7, 9, 4, 6])"
      ]
     },
     "execution_count": 58,
     "metadata": {},
     "output_type": "execute_result"
    }
   ],
   "source": [
    "arr[:-2]"
   ]
  },
  {
   "cell_type": "code",
   "execution_count": 59,
   "id": "24a24140",
   "metadata": {
    "execution": {
     "iopub.execute_input": "2023-01-31T15:00:15.311052Z",
     "iopub.status.busy": "2023-01-31T15:00:15.310235Z",
     "iopub.status.idle": "2023-01-31T15:00:15.316688Z",
     "shell.execute_reply": "2023-01-31T15:00:15.315730Z"
    },
    "papermill": {
     "duration": 0.049309,
     "end_time": "2023-01-31T15:00:15.318685",
     "exception": false,
     "start_time": "2023-01-31T15:00:15.269376",
     "status": "completed"
    },
    "tags": []
   },
   "outputs": [
    {
     "data": {
      "text/plain": [
       "array([6, 2])"
      ]
     },
     "execution_count": 59,
     "metadata": {},
     "output_type": "execute_result"
    }
   ],
   "source": [
    "arr[3:5]"
   ]
  },
  {
   "cell_type": "code",
   "execution_count": 60,
   "id": "db353621",
   "metadata": {
    "execution": {
     "iopub.execute_input": "2023-01-31T15:00:15.400771Z",
     "iopub.status.busy": "2023-01-31T15:00:15.400072Z",
     "iopub.status.idle": "2023-01-31T15:00:15.406624Z",
     "shell.execute_reply": "2023-01-31T15:00:15.405648Z"
    },
    "papermill": {
     "duration": 0.050049,
     "end_time": "2023-01-31T15:00:15.408648",
     "exception": false,
     "start_time": "2023-01-31T15:00:15.358599",
     "status": "completed"
    },
    "tags": []
   },
   "outputs": [
    {
     "data": {
      "text/plain": [
       "array([0, 2, 6, 4, 9, 7, 2, 6, 4, 3, 1])"
      ]
     },
     "execution_count": 60,
     "metadata": {},
     "output_type": "execute_result"
    }
   ],
   "source": [
    "arr[::-1]"
   ]
  },
  {
   "cell_type": "code",
   "execution_count": 61,
   "id": "eb6bb679",
   "metadata": {
    "execution": {
     "iopub.execute_input": "2023-01-31T15:00:15.490830Z",
     "iopub.status.busy": "2023-01-31T15:00:15.490156Z",
     "iopub.status.idle": "2023-01-31T15:00:15.496889Z",
     "shell.execute_reply": "2023-01-31T15:00:15.496039Z"
    },
    "papermill": {
     "duration": 0.049545,
     "end_time": "2023-01-31T15:00:15.498807",
     "exception": false,
     "start_time": "2023-01-31T15:00:15.449262",
     "status": "completed"
    },
    "tags": []
   },
   "outputs": [
    {
     "data": {
      "text/plain": [
       "array([[ 2,  5,  7,  9,  0,  1,  3],\n",
       "       [ 1,  5,  7,  5,  9, 12, 14],\n",
       "       [15, 13, 18, 34, 14, 19, 21]])"
      ]
     },
     "execution_count": 61,
     "metadata": {},
     "output_type": "execute_result"
    }
   ],
   "source": [
    "arr_1 = np.array([[2,5,7,9,0,1,3],\n",
    "                 [1,5,7,5,9,12,14],\n",
    "                 [15,13,18,34,14,19,21]])\n",
    "arr_1"
   ]
  },
  {
   "cell_type": "code",
   "execution_count": 62,
   "id": "fb5bd0df",
   "metadata": {
    "execution": {
     "iopub.execute_input": "2023-01-31T15:00:15.580844Z",
     "iopub.status.busy": "2023-01-31T15:00:15.580061Z",
     "iopub.status.idle": "2023-01-31T15:00:15.586648Z",
     "shell.execute_reply": "2023-01-31T15:00:15.585667Z"
    },
    "papermill": {
     "duration": 0.04976,
     "end_time": "2023-01-31T15:00:15.588685",
     "exception": false,
     "start_time": "2023-01-31T15:00:15.538925",
     "status": "completed"
    },
    "tags": []
   },
   "outputs": [
    {
     "data": {
      "text/plain": [
       "2"
      ]
     },
     "execution_count": 62,
     "metadata": {},
     "output_type": "execute_result"
    }
   ],
   "source": [
    "arr_1[0, 0]"
   ]
  },
  {
   "cell_type": "markdown",
   "id": "aab918e3",
   "metadata": {
    "papermill": {
     "duration": 0.039721,
     "end_time": "2023-01-31T15:00:15.668629",
     "exception": false,
     "start_time": "2023-01-31T15:00:15.628908",
     "status": "completed"
    },
    "tags": []
   },
   "source": [
    "### <mark>Get 7 in the second row and the second column</mark>"
   ]
  },
  {
   "cell_type": "code",
   "execution_count": 63,
   "id": "f41efa21",
   "metadata": {
    "execution": {
     "iopub.execute_input": "2023-01-31T15:00:15.751487Z",
     "iopub.status.busy": "2023-01-31T15:00:15.751153Z",
     "iopub.status.idle": "2023-01-31T15:00:15.757489Z",
     "shell.execute_reply": "2023-01-31T15:00:15.756598Z"
    },
    "papermill": {
     "duration": 0.050459,
     "end_time": "2023-01-31T15:00:15.759458",
     "exception": false,
     "start_time": "2023-01-31T15:00:15.708999",
     "status": "completed"
    },
    "tags": []
   },
   "outputs": [
    {
     "data": {
      "text/plain": [
       "7"
      ]
     },
     "execution_count": 63,
     "metadata": {},
     "output_type": "execute_result"
    }
   ],
   "source": [
    "arr_1[1, 2]"
   ]
  },
  {
   "cell_type": "markdown",
   "id": "ededef46",
   "metadata": {
    "papermill": {
     "duration": 0.040292,
     "end_time": "2023-01-31T15:00:15.840191",
     "exception": false,
     "start_time": "2023-01-31T15:00:15.799899",
     "status": "completed"
    },
    "tags": []
   },
   "source": [
    "### <mark>Get 21 value</mark>"
   ]
  },
  {
   "cell_type": "code",
   "execution_count": 64,
   "id": "a6426021",
   "metadata": {
    "execution": {
     "iopub.execute_input": "2023-01-31T15:00:15.924188Z",
     "iopub.status.busy": "2023-01-31T15:00:15.922427Z",
     "iopub.status.idle": "2023-01-31T15:00:15.929560Z",
     "shell.execute_reply": "2023-01-31T15:00:15.928594Z"
    },
    "papermill": {
     "duration": 0.051059,
     "end_time": "2023-01-31T15:00:15.931653",
     "exception": false,
     "start_time": "2023-01-31T15:00:15.880594",
     "status": "completed"
    },
    "tags": []
   },
   "outputs": [
    {
     "data": {
      "text/plain": [
       "21"
      ]
     },
     "execution_count": 64,
     "metadata": {},
     "output_type": "execute_result"
    }
   ],
   "source": [
    "arr_1[2,-1]"
   ]
  },
  {
   "cell_type": "markdown",
   "id": "50553417",
   "metadata": {
    "papermill": {
     "duration": 0.040595,
     "end_time": "2023-01-31T15:00:16.013426",
     "exception": false,
     "start_time": "2023-01-31T15:00:15.972831",
     "status": "completed"
    },
    "tags": []
   },
   "source": [
    "### <mark>Change a value</mark>"
   ]
  },
  {
   "cell_type": "code",
   "execution_count": 65,
   "id": "24d48ea7",
   "metadata": {
    "execution": {
     "iopub.execute_input": "2023-01-31T15:00:16.095691Z",
     "iopub.status.busy": "2023-01-31T15:00:16.095347Z",
     "iopub.status.idle": "2023-01-31T15:00:16.101584Z",
     "shell.execute_reply": "2023-01-31T15:00:16.100688Z"
    },
    "papermill": {
     "duration": 0.049528,
     "end_time": "2023-01-31T15:00:16.103704",
     "exception": false,
     "start_time": "2023-01-31T15:00:16.054176",
     "status": "completed"
    },
    "tags": []
   },
   "outputs": [
    {
     "data": {
      "text/plain": [
       "array([[  2,   5,   7,   9,   0,   1,   3],\n",
       "       [  1,   5,   7,   5,   9,  12,  14],\n",
       "       [ 15,  13,  18,  34,  14, 111,  21]])"
      ]
     },
     "execution_count": 65,
     "metadata": {},
     "output_type": "execute_result"
    }
   ],
   "source": [
    "arr_1[2, -2] = 111\n",
    "arr_1"
   ]
  },
  {
   "cell_type": "code",
   "execution_count": 66,
   "id": "45b27a80",
   "metadata": {
    "execution": {
     "iopub.execute_input": "2023-01-31T15:00:16.185216Z",
     "iopub.status.busy": "2023-01-31T15:00:16.184894Z",
     "iopub.status.idle": "2023-01-31T15:00:16.191040Z",
     "shell.execute_reply": "2023-01-31T15:00:16.190174Z"
    },
    "papermill": {
     "duration": 0.049077,
     "end_time": "2023-01-31T15:00:16.192909",
     "exception": false,
     "start_time": "2023-01-31T15:00:16.143832",
     "status": "completed"
    },
    "tags": []
   },
   "outputs": [
    {
     "data": {
      "text/plain": [
       "array([[  2,   5,   7,   9,   0,   1,  55],\n",
       "       [  1,   5,   7,   5,   9,  12,  14],\n",
       "       [ 15,  13,  18,  34,  14, 111,  21]])"
      ]
     },
     "execution_count": 66,
     "metadata": {},
     "output_type": "execute_result"
    }
   ],
   "source": [
    "# Here we insert a float value from the outside into the array of integer values.\n",
    "# In this case, because the arrays are of fixed type, the decimal part will be discarded.\n",
    "arr_1[0,-1] = 55.5\n",
    "arr_1"
   ]
  },
  {
   "cell_type": "markdown",
   "id": "0eea8334",
   "metadata": {
    "papermill": {
     "duration": 0.040178,
     "end_time": "2023-01-31T15:00:16.273668",
     "exception": false,
     "start_time": "2023-01-31T15:00:16.233490",
     "status": "completed"
    },
    "tags": []
   },
   "source": [
    "### <span style = \"background:#174D83; border:#ffffff; font-size:100%; color:#fff; border-radius:5px;\">14. Array slicing</span>"
   ]
  },
  {
   "cell_type": "code",
   "execution_count": 67,
   "id": "53be3b28",
   "metadata": {
    "execution": {
     "iopub.execute_input": "2023-01-31T15:00:16.355785Z",
     "iopub.status.busy": "2023-01-31T15:00:16.355448Z",
     "iopub.status.idle": "2023-01-31T15:00:16.361415Z",
     "shell.execute_reply": "2023-01-31T15:00:16.360523Z"
    },
    "papermill": {
     "duration": 0.049226,
     "end_time": "2023-01-31T15:00:16.363299",
     "exception": false,
     "start_time": "2023-01-31T15:00:16.314073",
     "status": "completed"
    },
    "tags": []
   },
   "outputs": [
    {
     "data": {
      "text/plain": [
       "array([10, 11, 12, 13, 14, 15, 16, 17, 18, 19, 20, 21, 22, 23, 24])"
      ]
     },
     "execution_count": 67,
     "metadata": {},
     "output_type": "execute_result"
    }
   ],
   "source": [
    "arr = np.arange(10, 25)\n",
    "arr"
   ]
  },
  {
   "cell_type": "code",
   "execution_count": 68,
   "id": "c903f39d",
   "metadata": {
    "execution": {
     "iopub.execute_input": "2023-01-31T15:00:16.445835Z",
     "iopub.status.busy": "2023-01-31T15:00:16.445515Z",
     "iopub.status.idle": "2023-01-31T15:00:16.451642Z",
     "shell.execute_reply": "2023-01-31T15:00:16.450759Z"
    },
    "papermill": {
     "duration": 0.049563,
     "end_time": "2023-01-31T15:00:16.453610",
     "exception": false,
     "start_time": "2023-01-31T15:00:16.404047",
     "status": "completed"
    },
    "tags": []
   },
   "outputs": [
    {
     "data": {
      "text/plain": [
       "array([10, 11, 12, 13, 14])"
      ]
     },
     "execution_count": 68,
     "metadata": {},
     "output_type": "execute_result"
    }
   ],
   "source": [
    "arr[0:5]"
   ]
  },
  {
   "cell_type": "code",
   "execution_count": 69,
   "id": "b744ed6e",
   "metadata": {
    "execution": {
     "iopub.execute_input": "2023-01-31T15:00:16.536183Z",
     "iopub.status.busy": "2023-01-31T15:00:16.535564Z",
     "iopub.status.idle": "2023-01-31T15:00:16.542347Z",
     "shell.execute_reply": "2023-01-31T15:00:16.541361Z"
    },
    "papermill": {
     "duration": 0.05024,
     "end_time": "2023-01-31T15:00:16.544619",
     "exception": false,
     "start_time": "2023-01-31T15:00:16.494379",
     "status": "completed"
    },
    "tags": []
   },
   "outputs": [
    {
     "data": {
      "text/plain": [
       "array([10, 11, 12, 13, 14])"
      ]
     },
     "execution_count": 69,
     "metadata": {},
     "output_type": "execute_result"
    }
   ],
   "source": [
    "arr[:5]"
   ]
  },
  {
   "cell_type": "code",
   "execution_count": 70,
   "id": "6743d64b",
   "metadata": {
    "execution": {
     "iopub.execute_input": "2023-01-31T15:00:16.627091Z",
     "iopub.status.busy": "2023-01-31T15:00:16.626776Z",
     "iopub.status.idle": "2023-01-31T15:00:16.633735Z",
     "shell.execute_reply": "2023-01-31T15:00:16.632848Z"
    },
    "papermill": {
     "duration": 0.050363,
     "end_time": "2023-01-31T15:00:16.635841",
     "exception": false,
     "start_time": "2023-01-31T15:00:16.585478",
     "status": "completed"
    },
    "tags": []
   },
   "outputs": [
    {
     "data": {
      "text/plain": [
       "array([13, 14, 15, 16, 17, 18, 19, 20, 21, 22, 23, 24])"
      ]
     },
     "execution_count": 70,
     "metadata": {},
     "output_type": "execute_result"
    }
   ],
   "source": [
    "arr[3:]"
   ]
  },
  {
   "cell_type": "code",
   "execution_count": 71,
   "id": "f37ff85a",
   "metadata": {
    "execution": {
     "iopub.execute_input": "2023-01-31T15:00:16.718690Z",
     "iopub.status.busy": "2023-01-31T15:00:16.718396Z",
     "iopub.status.idle": "2023-01-31T15:00:16.724466Z",
     "shell.execute_reply": "2023-01-31T15:00:16.723476Z"
    },
    "papermill": {
     "duration": 0.051025,
     "end_time": "2023-01-31T15:00:16.727512",
     "exception": false,
     "start_time": "2023-01-31T15:00:16.676487",
     "status": "completed"
    },
    "tags": []
   },
   "outputs": [
    {
     "data": {
      "text/plain": [
       "array([10, 12, 14, 16, 18, 20, 22, 24])"
      ]
     },
     "execution_count": 71,
     "metadata": {},
     "output_type": "execute_result"
    }
   ],
   "source": [
    "arr[::2]"
   ]
  },
  {
   "cell_type": "code",
   "execution_count": 72,
   "id": "f79dbd7c",
   "metadata": {
    "execution": {
     "iopub.execute_input": "2023-01-31T15:00:16.815531Z",
     "iopub.status.busy": "2023-01-31T15:00:16.815220Z",
     "iopub.status.idle": "2023-01-31T15:00:16.820906Z",
     "shell.execute_reply": "2023-01-31T15:00:16.820034Z"
    },
    "papermill": {
     "duration": 0.049534,
     "end_time": "2023-01-31T15:00:16.822801",
     "exception": false,
     "start_time": "2023-01-31T15:00:16.773267",
     "status": "completed"
    },
    "tags": []
   },
   "outputs": [
    {
     "data": {
      "text/plain": [
       "array([11, 13, 15, 17, 19, 21, 23])"
      ]
     },
     "execution_count": 72,
     "metadata": {},
     "output_type": "execute_result"
    }
   ],
   "source": [
    "arr[1::2]"
   ]
  },
  {
   "cell_type": "code",
   "execution_count": 73,
   "id": "9b973c86",
   "metadata": {
    "execution": {
     "iopub.execute_input": "2023-01-31T15:00:16.908890Z",
     "iopub.status.busy": "2023-01-31T15:00:16.908550Z",
     "iopub.status.idle": "2023-01-31T15:00:16.914786Z",
     "shell.execute_reply": "2023-01-31T15:00:16.913919Z"
    },
    "papermill": {
     "duration": 0.051495,
     "end_time": "2023-01-31T15:00:16.916806",
     "exception": false,
     "start_time": "2023-01-31T15:00:16.865311",
     "status": "completed"
    },
    "tags": []
   },
   "outputs": [
    {
     "data": {
      "text/plain": [
       "array([10, 13, 16, 19, 22])"
      ]
     },
     "execution_count": 73,
     "metadata": {},
     "output_type": "execute_result"
    }
   ],
   "source": [
    "arr[::3]"
   ]
  },
  {
   "cell_type": "markdown",
   "id": "8e80d989",
   "metadata": {
    "papermill": {
     "duration": 0.041092,
     "end_time": "2023-01-31T15:00:16.999117",
     "exception": false,
     "start_time": "2023-01-31T15:00:16.958025",
     "status": "completed"
    },
    "tags": []
   },
   "source": [
    "### <mark>Slicing two dimensional arrays</mark>"
   ]
  },
  {
   "cell_type": "code",
   "execution_count": 74,
   "id": "3ac561b5",
   "metadata": {
    "execution": {
     "iopub.execute_input": "2023-01-31T15:00:17.083588Z",
     "iopub.status.busy": "2023-01-31T15:00:17.082633Z",
     "iopub.status.idle": "2023-01-31T15:00:17.090005Z",
     "shell.execute_reply": "2023-01-31T15:00:17.089050Z"
    },
    "papermill": {
     "duration": 0.051769,
     "end_time": "2023-01-31T15:00:17.092009",
     "exception": false,
     "start_time": "2023-01-31T15:00:17.040240",
     "status": "completed"
    },
    "tags": []
   },
   "outputs": [
    {
     "data": {
      "text/plain": [
       "array([[ 0,  1,  2,  3,  4],\n",
       "       [ 5,  6,  7,  8,  9],\n",
       "       [10, 11, 12, 13, 14],\n",
       "       [15, 16, 17, 18, 19],\n",
       "       [20, 21, 22, 23, 24]])"
      ]
     },
     "execution_count": 74,
     "metadata": {},
     "output_type": "execute_result"
    }
   ],
   "source": [
    "arr1 = np.arange(0, 25).reshape(5, 5)\n",
    "arr1"
   ]
  },
  {
   "cell_type": "code",
   "execution_count": 75,
   "id": "da080390",
   "metadata": {
    "execution": {
     "iopub.execute_input": "2023-01-31T15:00:17.177197Z",
     "iopub.status.busy": "2023-01-31T15:00:17.175702Z",
     "iopub.status.idle": "2023-01-31T15:00:17.182665Z",
     "shell.execute_reply": "2023-01-31T15:00:17.181743Z"
    },
    "papermill": {
     "duration": 0.050821,
     "end_time": "2023-01-31T15:00:17.184641",
     "exception": false,
     "start_time": "2023-01-31T15:00:17.133820",
     "status": "completed"
    },
    "tags": []
   },
   "outputs": [
    {
     "data": {
      "text/plain": [
       "array([[ 0,  1,  2,  3,  4],\n",
       "       [ 5,  6,  7,  8,  9],\n",
       "       [10, 11, 12, 13, 14],\n",
       "       [15, 16, 17, 18, 19],\n",
       "       [20, 21, 22, 23, 24]])"
      ]
     },
     "execution_count": 75,
     "metadata": {},
     "output_type": "execute_result"
    }
   ],
   "source": [
    "arr1[:, :]"
   ]
  },
  {
   "cell_type": "code",
   "execution_count": 76,
   "id": "99299e16",
   "metadata": {
    "execution": {
     "iopub.execute_input": "2023-01-31T15:00:17.269385Z",
     "iopub.status.busy": "2023-01-31T15:00:17.268571Z",
     "iopub.status.idle": "2023-01-31T15:00:17.275054Z",
     "shell.execute_reply": "2023-01-31T15:00:17.274035Z"
    },
    "papermill": {
     "duration": 0.051275,
     "end_time": "2023-01-31T15:00:17.277014",
     "exception": false,
     "start_time": "2023-01-31T15:00:17.225739",
     "status": "completed"
    },
    "tags": []
   },
   "outputs": [
    {
     "data": {
      "text/plain": [
       "array([ 1,  6, 11, 16, 21])"
      ]
     },
     "execution_count": 76,
     "metadata": {},
     "output_type": "execute_result"
    }
   ],
   "source": [
    "arr1[:, 1]"
   ]
  },
  {
   "cell_type": "code",
   "execution_count": 77,
   "id": "bb4abaef",
   "metadata": {
    "execution": {
     "iopub.execute_input": "2023-01-31T15:00:17.361175Z",
     "iopub.status.busy": "2023-01-31T15:00:17.360313Z",
     "iopub.status.idle": "2023-01-31T15:00:17.366721Z",
     "shell.execute_reply": "2023-01-31T15:00:17.365806Z"
    },
    "papermill": {
     "duration": 0.050442,
     "end_time": "2023-01-31T15:00:17.368688",
     "exception": false,
     "start_time": "2023-01-31T15:00:17.318246",
     "status": "completed"
    },
    "tags": []
   },
   "outputs": [
    {
     "data": {
      "text/plain": [
       "array([ 4,  9, 14, 19, 24])"
      ]
     },
     "execution_count": 77,
     "metadata": {},
     "output_type": "execute_result"
    }
   ],
   "source": [
    "arr1[:, 4]"
   ]
  },
  {
   "cell_type": "code",
   "execution_count": 78,
   "id": "6f8e6950",
   "metadata": {
    "execution": {
     "iopub.execute_input": "2023-01-31T15:00:17.452384Z",
     "iopub.status.busy": "2023-01-31T15:00:17.452110Z",
     "iopub.status.idle": "2023-01-31T15:00:17.457833Z",
     "shell.execute_reply": "2023-01-31T15:00:17.456908Z"
    },
    "papermill": {
     "duration": 0.04958,
     "end_time": "2023-01-31T15:00:17.459715",
     "exception": false,
     "start_time": "2023-01-31T15:00:17.410135",
     "status": "completed"
    },
    "tags": []
   },
   "outputs": [
    {
     "data": {
      "text/plain": [
       "array([ 4,  9, 14, 19, 24])"
      ]
     },
     "execution_count": 78,
     "metadata": {},
     "output_type": "execute_result"
    }
   ],
   "source": [
    "arr1[:, -1]"
   ]
  },
  {
   "cell_type": "code",
   "execution_count": 79,
   "id": "56be19cc",
   "metadata": {
    "execution": {
     "iopub.execute_input": "2023-01-31T15:00:17.548502Z",
     "iopub.status.busy": "2023-01-31T15:00:17.548205Z",
     "iopub.status.idle": "2023-01-31T15:00:17.554698Z",
     "shell.execute_reply": "2023-01-31T15:00:17.553674Z"
    },
    "papermill": {
     "duration": 0.056389,
     "end_time": "2023-01-31T15:00:17.557526",
     "exception": false,
     "start_time": "2023-01-31T15:00:17.501137",
     "status": "completed"
    },
    "tags": []
   },
   "outputs": [
    {
     "data": {
      "text/plain": [
       "array([[12, 13, 14],\n",
       "       [17, 18, 19],\n",
       "       [22, 23, 24]])"
      ]
     },
     "execution_count": 79,
     "metadata": {},
     "output_type": "execute_result"
    }
   ],
   "source": [
    "arr1[2:, 2:]"
   ]
  },
  {
   "cell_type": "code",
   "execution_count": 80,
   "id": "3a887cbf",
   "metadata": {
    "execution": {
     "iopub.execute_input": "2023-01-31T15:00:17.643291Z",
     "iopub.status.busy": "2023-01-31T15:00:17.642930Z",
     "iopub.status.idle": "2023-01-31T15:00:17.649803Z",
     "shell.execute_reply": "2023-01-31T15:00:17.648848Z"
    },
    "papermill": {
     "duration": 0.052219,
     "end_time": "2023-01-31T15:00:17.652055",
     "exception": false,
     "start_time": "2023-01-31T15:00:17.599836",
     "status": "completed"
    },
    "tags": []
   },
   "outputs": [
    {
     "data": {
      "text/plain": [
       "array([0, 1, 2, 3, 4])"
      ]
     },
     "execution_count": 80,
     "metadata": {},
     "output_type": "execute_result"
    }
   ],
   "source": [
    "arr1[0, :]"
   ]
  },
  {
   "cell_type": "code",
   "execution_count": 81,
   "id": "b0b9b365",
   "metadata": {
    "execution": {
     "iopub.execute_input": "2023-01-31T15:00:17.736698Z",
     "iopub.status.busy": "2023-01-31T15:00:17.736394Z",
     "iopub.status.idle": "2023-01-31T15:00:17.742138Z",
     "shell.execute_reply": "2023-01-31T15:00:17.741263Z"
    },
    "papermill": {
     "duration": 0.05077,
     "end_time": "2023-01-31T15:00:17.744042",
     "exception": false,
     "start_time": "2023-01-31T15:00:17.693272",
     "status": "completed"
    },
    "tags": []
   },
   "outputs": [
    {
     "data": {
      "text/plain": [
       "array([5, 6, 7, 8, 9])"
      ]
     },
     "execution_count": 81,
     "metadata": {},
     "output_type": "execute_result"
    }
   ],
   "source": [
    "arr1[1, :]"
   ]
  },
  {
   "cell_type": "code",
   "execution_count": 82,
   "id": "5fee8c1c",
   "metadata": {
    "execution": {
     "iopub.execute_input": "2023-01-31T15:00:17.829082Z",
     "iopub.status.busy": "2023-01-31T15:00:17.828135Z",
     "iopub.status.idle": "2023-01-31T15:00:17.834609Z",
     "shell.execute_reply": "2023-01-31T15:00:17.833655Z"
    },
    "papermill": {
     "duration": 0.051057,
     "end_time": "2023-01-31T15:00:17.836531",
     "exception": false,
     "start_time": "2023-01-31T15:00:17.785474",
     "status": "completed"
    },
    "tags": []
   },
   "outputs": [
    {
     "data": {
      "text/plain": [
       "24"
      ]
     },
     "execution_count": 82,
     "metadata": {},
     "output_type": "execute_result"
    }
   ],
   "source": [
    "arr1[4, 4]"
   ]
  },
  {
   "cell_type": "code",
   "execution_count": 83,
   "id": "abb3c9b4",
   "metadata": {
    "execution": {
     "iopub.execute_input": "2023-01-31T15:00:17.923972Z",
     "iopub.status.busy": "2023-01-31T15:00:17.922451Z",
     "iopub.status.idle": "2023-01-31T15:00:17.929069Z",
     "shell.execute_reply": "2023-01-31T15:00:17.928141Z"
    },
    "papermill": {
     "duration": 0.051221,
     "end_time": "2023-01-31T15:00:17.931031",
     "exception": false,
     "start_time": "2023-01-31T15:00:17.879810",
     "status": "completed"
    },
    "tags": []
   },
   "outputs": [
    {
     "data": {
      "text/plain": [
       "24"
      ]
     },
     "execution_count": 83,
     "metadata": {},
     "output_type": "execute_result"
    }
   ],
   "source": [
    "arr1[-1,-1]"
   ]
  },
  {
   "cell_type": "code",
   "execution_count": 84,
   "id": "e5512543",
   "metadata": {
    "execution": {
     "iopub.execute_input": "2023-01-31T15:00:18.015387Z",
     "iopub.status.busy": "2023-01-31T15:00:18.015096Z",
     "iopub.status.idle": "2023-01-31T15:00:18.021040Z",
     "shell.execute_reply": "2023-01-31T15:00:18.020131Z"
    },
    "papermill": {
     "duration": 0.050464,
     "end_time": "2023-01-31T15:00:18.023036",
     "exception": false,
     "start_time": "2023-01-31T15:00:17.972572",
     "status": "completed"
    },
    "tags": []
   },
   "outputs": [
    {
     "data": {
      "text/plain": [
       "array([[ 0,  1],\n",
       "       [ 5,  6],\n",
       "       [10, 11],\n",
       "       [15, 16],\n",
       "       [20, 21]])"
      ]
     },
     "execution_count": 84,
     "metadata": {},
     "output_type": "execute_result"
    }
   ],
   "source": [
    "arr1[:, :2]"
   ]
  },
  {
   "cell_type": "code",
   "execution_count": 85,
   "id": "eda0b319",
   "metadata": {
    "execution": {
     "iopub.execute_input": "2023-01-31T15:00:18.108627Z",
     "iopub.status.busy": "2023-01-31T15:00:18.107766Z",
     "iopub.status.idle": "2023-01-31T15:00:18.114520Z",
     "shell.execute_reply": "2023-01-31T15:00:18.113540Z"
    },
    "papermill": {
     "duration": 0.051364,
     "end_time": "2023-01-31T15:00:18.116450",
     "exception": false,
     "start_time": "2023-01-31T15:00:18.065086",
     "status": "completed"
    },
    "tags": []
   },
   "outputs": [
    {
     "data": {
      "text/plain": [
       "array([[ 5,  6],\n",
       "       [10, 11]])"
      ]
     },
     "execution_count": 85,
     "metadata": {},
     "output_type": "execute_result"
    }
   ],
   "source": [
    "arr1[1:3, 0:2]"
   ]
  },
  {
   "cell_type": "code",
   "execution_count": 86,
   "id": "10710d45",
   "metadata": {
    "execution": {
     "iopub.execute_input": "2023-01-31T15:00:18.203755Z",
     "iopub.status.busy": "2023-01-31T15:00:18.201947Z",
     "iopub.status.idle": "2023-01-31T15:00:18.209346Z",
     "shell.execute_reply": "2023-01-31T15:00:18.208046Z"
    },
    "papermill": {
     "duration": 0.052539,
     "end_time": "2023-01-31T15:00:18.211377",
     "exception": false,
     "start_time": "2023-01-31T15:00:18.158838",
     "status": "completed"
    },
    "tags": []
   },
   "outputs": [
    {
     "name": "stdout",
     "output_type": "stream",
     "text": [
      "Before slice:\n",
      "[[ 0  1  2  3  4]\n",
      " [ 5  6  7  8  9]\n",
      " [10 11 12 13 14]]\n",
      "\n",
      "After slice:\n",
      "[[14 13 12 11 10]\n",
      " [ 9  8  7  6  5]\n",
      " [ 4  3  2  1  0]]\n"
     ]
    }
   ],
   "source": [
    "a = np.arange(15).reshape(3, 5)\n",
    "print(\"Before slice:\")\n",
    "print(a)\n",
    "\n",
    "print(\"\\nAfter slice:\")\n",
    "b = a[::-1, ::-1]\n",
    "print(b)"
   ]
  },
  {
   "cell_type": "markdown",
   "id": "f9b62307",
   "metadata": {
    "papermill": {
     "duration": 0.041658,
     "end_time": "2023-01-31T15:00:18.295107",
     "exception": false,
     "start_time": "2023-01-31T15:00:18.253449",
     "status": "completed"
    },
    "tags": []
   },
   "source": [
    "### <span style = \"background:#174D83; border:#ffffff; font-size:100%; color:#fff; border-radius:5px;\">15. Copy function</span>"
   ]
  },
  {
   "cell_type": "markdown",
   "id": "407a7abd",
   "metadata": {
    "papermill": {
     "duration": 0.041672,
     "end_time": "2023-01-31T15:00:18.378576",
     "exception": false,
     "start_time": "2023-01-31T15:00:18.336904",
     "status": "completed"
    },
    "tags": []
   },
   "source": [
    "#### <mark>copy() function is used so that operations performed on subsets do not affect the main set</mark>"
   ]
  },
  {
   "cell_type": "code",
   "execution_count": 87,
   "id": "b543c742",
   "metadata": {
    "execution": {
     "iopub.execute_input": "2023-01-31T15:00:18.464180Z",
     "iopub.status.busy": "2023-01-31T15:00:18.463842Z",
     "iopub.status.idle": "2023-01-31T15:00:18.470145Z",
     "shell.execute_reply": "2023-01-31T15:00:18.469256Z"
    },
    "papermill": {
     "duration": 0.051418,
     "end_time": "2023-01-31T15:00:18.472183",
     "exception": false,
     "start_time": "2023-01-31T15:00:18.420765",
     "status": "completed"
    },
    "tags": []
   },
   "outputs": [
    {
     "data": {
      "text/plain": [
       "array([[9, 7, 8, 1, 3],\n",
       "       [4, 3, 5, 7, 7],\n",
       "       [8, 6, 0, 1, 9],\n",
       "       [9, 2, 0, 0, 1],\n",
       "       [8, 8, 5, 6, 1]])"
      ]
     },
     "execution_count": 87,
     "metadata": {},
     "output_type": "execute_result"
    }
   ],
   "source": [
    "arr = np.random.randint(10, size = (5, 5))\n",
    "arr"
   ]
  },
  {
   "cell_type": "code",
   "execution_count": 88,
   "id": "73d2ebbe",
   "metadata": {
    "execution": {
     "iopub.execute_input": "2023-01-31T15:00:18.557189Z",
     "iopub.status.busy": "2023-01-31T15:00:18.556883Z",
     "iopub.status.idle": "2023-01-31T15:00:18.563040Z",
     "shell.execute_reply": "2023-01-31T15:00:18.562048Z"
    },
    "papermill": {
     "duration": 0.052143,
     "end_time": "2023-01-31T15:00:18.565928",
     "exception": false,
     "start_time": "2023-01-31T15:00:18.513785",
     "status": "completed"
    },
    "tags": []
   },
   "outputs": [
    {
     "data": {
      "text/plain": [
       "array([[9, 7, 8],\n",
       "       [4, 3, 5]])"
      ]
     },
     "execution_count": 88,
     "metadata": {},
     "output_type": "execute_result"
    }
   ],
   "source": [
    "subset = arr[0:2, 0:3]\n",
    "subset"
   ]
  },
  {
   "cell_type": "code",
   "execution_count": 89,
   "id": "85da44c3",
   "metadata": {
    "execution": {
     "iopub.execute_input": "2023-01-31T15:00:18.698961Z",
     "iopub.status.busy": "2023-01-31T15:00:18.698543Z",
     "iopub.status.idle": "2023-01-31T15:00:18.711628Z",
     "shell.execute_reply": "2023-01-31T15:00:18.705765Z"
    },
    "papermill": {
     "duration": 0.082894,
     "end_time": "2023-01-31T15:00:18.714945",
     "exception": false,
     "start_time": "2023-01-31T15:00:18.632051",
     "status": "completed"
    },
    "tags": []
   },
   "outputs": [
    {
     "data": {
      "text/plain": [
       "array([[  9,   7,   8],\n",
       "       [  4, 333, 444]])"
      ]
     },
     "execution_count": 89,
     "metadata": {},
     "output_type": "execute_result"
    }
   ],
   "source": [
    "subset[1, 1] = 333\n",
    "subset[1, 2] = 444\n",
    "subset"
   ]
  },
  {
   "cell_type": "code",
   "execution_count": 90,
   "id": "4208cb19",
   "metadata": {
    "execution": {
     "iopub.execute_input": "2023-01-31T15:00:18.802688Z",
     "iopub.status.busy": "2023-01-31T15:00:18.801861Z",
     "iopub.status.idle": "2023-01-31T15:00:18.808419Z",
     "shell.execute_reply": "2023-01-31T15:00:18.807436Z"
    },
    "papermill": {
     "duration": 0.052206,
     "end_time": "2023-01-31T15:00:18.810522",
     "exception": false,
     "start_time": "2023-01-31T15:00:18.758316",
     "status": "completed"
    },
    "tags": []
   },
   "outputs": [
    {
     "data": {
      "text/plain": [
       "array([[  9,   7,   8,   1,   3],\n",
       "       [  4, 333, 444,   7,   7],\n",
       "       [  8,   6,   0,   1,   9],\n",
       "       [  9,   2,   0,   0,   1],\n",
       "       [  8,   8,   5,   6,   1]])"
      ]
     },
     "execution_count": 90,
     "metadata": {},
     "output_type": "execute_result"
    }
   ],
   "source": [
    "arr"
   ]
  },
  {
   "cell_type": "code",
   "execution_count": 91,
   "id": "63d425c8",
   "metadata": {
    "execution": {
     "iopub.execute_input": "2023-01-31T15:00:18.896803Z",
     "iopub.status.busy": "2023-01-31T15:00:18.896506Z",
     "iopub.status.idle": "2023-01-31T15:00:18.902848Z",
     "shell.execute_reply": "2023-01-31T15:00:18.901966Z"
    },
    "papermill": {
     "duration": 0.051554,
     "end_time": "2023-01-31T15:00:18.904786",
     "exception": false,
     "start_time": "2023-01-31T15:00:18.853232",
     "status": "completed"
    },
    "tags": []
   },
   "outputs": [
    {
     "data": {
      "text/plain": [
       "array([[ 4,  7,  5,  7,  4],\n",
       "       [ 5,  9,  6, 14, 10],\n",
       "       [10, 12,  7,  1,  1]])"
      ]
     },
     "execution_count": 91,
     "metadata": {},
     "output_type": "execute_result"
    }
   ],
   "source": [
    "arr1 = np.random.randint(1, 15, (3, 5))\n",
    "arr1"
   ]
  },
  {
   "cell_type": "code",
   "execution_count": 92,
   "id": "c72c9a72",
   "metadata": {
    "execution": {
     "iopub.execute_input": "2023-01-31T15:00:18.992665Z",
     "iopub.status.busy": "2023-01-31T15:00:18.992344Z",
     "iopub.status.idle": "2023-01-31T15:00:18.998824Z",
     "shell.execute_reply": "2023-01-31T15:00:18.997556Z"
    },
    "papermill": {
     "duration": 0.05253,
     "end_time": "2023-01-31T15:00:19.000761",
     "exception": false,
     "start_time": "2023-01-31T15:00:18.948231",
     "status": "completed"
    },
    "tags": []
   },
   "outputs": [
    {
     "data": {
      "text/plain": [
       "array([5, 6, 7])"
      ]
     },
     "execution_count": 92,
     "metadata": {},
     "output_type": "execute_result"
    }
   ],
   "source": [
    "arr2 = arr1.copy()\n",
    "subset_b = arr2[:, 2]\n",
    "subset_b"
   ]
  },
  {
   "cell_type": "code",
   "execution_count": 93,
   "id": "cee854cc",
   "metadata": {
    "execution": {
     "iopub.execute_input": "2023-01-31T15:00:19.088767Z",
     "iopub.status.busy": "2023-01-31T15:00:19.087941Z",
     "iopub.status.idle": "2023-01-31T15:00:19.094613Z",
     "shell.execute_reply": "2023-01-31T15:00:19.093632Z"
    },
    "papermill": {
     "duration": 0.052542,
     "end_time": "2023-01-31T15:00:19.096662",
     "exception": false,
     "start_time": "2023-01-31T15:00:19.044120",
     "status": "completed"
    },
    "tags": []
   },
   "outputs": [
    {
     "data": {
      "text/plain": [
       "array([  5, 777,   7])"
      ]
     },
     "execution_count": 93,
     "metadata": {},
     "output_type": "execute_result"
    }
   ],
   "source": [
    "subset_b[1] = 777\n",
    "subset_b"
   ]
  },
  {
   "cell_type": "code",
   "execution_count": 94,
   "id": "217ade2d",
   "metadata": {
    "execution": {
     "iopub.execute_input": "2023-01-31T15:00:19.224758Z",
     "iopub.status.busy": "2023-01-31T15:00:19.223735Z",
     "iopub.status.idle": "2023-01-31T15:00:19.230580Z",
     "shell.execute_reply": "2023-01-31T15:00:19.229581Z"
    },
    "papermill": {
     "duration": 0.052806,
     "end_time": "2023-01-31T15:00:19.232532",
     "exception": false,
     "start_time": "2023-01-31T15:00:19.179726",
     "status": "completed"
    },
    "tags": []
   },
   "outputs": [
    {
     "data": {
      "text/plain": [
       "array([[  4,   7,   5,   7,   4],\n",
       "       [  5,   9, 777,  14,  10],\n",
       "       [ 10,  12,   7,   1,   1]])"
      ]
     },
     "execution_count": 94,
     "metadata": {},
     "output_type": "execute_result"
    }
   ],
   "source": [
    "arr2"
   ]
  },
  {
   "cell_type": "code",
   "execution_count": 95,
   "id": "de33c01d",
   "metadata": {
    "execution": {
     "iopub.execute_input": "2023-01-31T15:00:19.319605Z",
     "iopub.status.busy": "2023-01-31T15:00:19.318750Z",
     "iopub.status.idle": "2023-01-31T15:00:19.324911Z",
     "shell.execute_reply": "2023-01-31T15:00:19.323935Z"
    },
    "papermill": {
     "duration": 0.051571,
     "end_time": "2023-01-31T15:00:19.326892",
     "exception": false,
     "start_time": "2023-01-31T15:00:19.275321",
     "status": "completed"
    },
    "tags": []
   },
   "outputs": [
    {
     "data": {
      "text/plain": [
       "array([[ 4,  7,  5,  7,  4],\n",
       "       [ 5,  9,  6, 14, 10],\n",
       "       [10, 12,  7,  1,  1]])"
      ]
     },
     "execution_count": 95,
     "metadata": {},
     "output_type": "execute_result"
    }
   ],
   "source": [
    "arr1"
   ]
  },
  {
   "cell_type": "markdown",
   "id": "5a051fd7",
   "metadata": {
    "papermill": {
     "duration": 0.042443,
     "end_time": "2023-01-31T15:00:19.411752",
     "exception": false,
     "start_time": "2023-01-31T15:00:19.369309",
     "status": "completed"
    },
    "tags": []
   },
   "source": [
    "### <span style = \"background:#174D83; border:#ffffff; font-size:100%; color:#fff; border-radius:5px;\">16. Fancy index</span>"
   ]
  },
  {
   "cell_type": "code",
   "execution_count": 96,
   "id": "211c4acd",
   "metadata": {
    "execution": {
     "iopub.execute_input": "2023-01-31T15:00:19.500154Z",
     "iopub.status.busy": "2023-01-31T15:00:19.499300Z",
     "iopub.status.idle": "2023-01-31T15:00:19.505979Z",
     "shell.execute_reply": "2023-01-31T15:00:19.505044Z"
    },
    "papermill": {
     "duration": 0.052659,
     "end_time": "2023-01-31T15:00:19.507942",
     "exception": false,
     "start_time": "2023-01-31T15:00:19.455283",
     "status": "completed"
    },
    "tags": []
   },
   "outputs": [
    {
     "data": {
      "text/plain": [
       "array([ 0,  3,  6,  9, 12, 15, 18, 21, 24, 27])"
      ]
     },
     "execution_count": 96,
     "metadata": {},
     "output_type": "execute_result"
    }
   ],
   "source": [
    "arr = np.arange(0, 30, 3)\n",
    "arr"
   ]
  },
  {
   "cell_type": "code",
   "execution_count": 97,
   "id": "6afb69d4",
   "metadata": {
    "execution": {
     "iopub.execute_input": "2023-01-31T15:00:19.596331Z",
     "iopub.status.busy": "2023-01-31T15:00:19.594833Z",
     "iopub.status.idle": "2023-01-31T15:00:19.602083Z",
     "shell.execute_reply": "2023-01-31T15:00:19.600967Z"
    },
    "papermill": {
     "duration": 0.052969,
     "end_time": "2023-01-31T15:00:19.604183",
     "exception": false,
     "start_time": "2023-01-31T15:00:19.551214",
     "status": "completed"
    },
    "tags": []
   },
   "outputs": [
    {
     "data": {
      "text/plain": [
       "array([ 3,  9, 15])"
      ]
     },
     "execution_count": 97,
     "metadata": {},
     "output_type": "execute_result"
    }
   ],
   "source": [
    "fancy_index = [1, 3, 5]\n",
    "arr[fancy_index]"
   ]
  },
  {
   "cell_type": "markdown",
   "id": "806c4e44",
   "metadata": {
    "papermill": {
     "duration": 0.043172,
     "end_time": "2023-01-31T15:00:19.691084",
     "exception": false,
     "start_time": "2023-01-31T15:00:19.647912",
     "status": "completed"
    },
    "tags": []
   },
   "source": [
    "#### <mark>Fancy indexing on two dimensional arrays</mark>"
   ]
  },
  {
   "cell_type": "code",
   "execution_count": 98,
   "id": "37e990a9",
   "metadata": {
    "execution": {
     "iopub.execute_input": "2023-01-31T15:00:19.780611Z",
     "iopub.status.busy": "2023-01-31T15:00:19.779512Z",
     "iopub.status.idle": "2023-01-31T15:00:19.787573Z",
     "shell.execute_reply": "2023-01-31T15:00:19.786585Z"
    },
    "papermill": {
     "duration": 0.054356,
     "end_time": "2023-01-31T15:00:19.789677",
     "exception": false,
     "start_time": "2023-01-31T15:00:19.735321",
     "status": "completed"
    },
    "tags": []
   },
   "outputs": [
    {
     "data": {
      "text/plain": [
       "array([1, 5])"
      ]
     },
     "execution_count": 98,
     "metadata": {},
     "output_type": "execute_result"
    }
   ],
   "source": [
    "arr = np.arange(9)\n",
    "arr = arr.reshape(3, 3)\n",
    "row = np.array([0, 1])\n",
    "column = np.array([1, 2])\n",
    "arr[row, column]"
   ]
  },
  {
   "cell_type": "code",
   "execution_count": 99,
   "id": "f53f7eaa",
   "metadata": {
    "execution": {
     "iopub.execute_input": "2023-01-31T15:00:19.876797Z",
     "iopub.status.busy": "2023-01-31T15:00:19.876491Z",
     "iopub.status.idle": "2023-01-31T15:00:19.882355Z",
     "shell.execute_reply": "2023-01-31T15:00:19.881466Z"
    },
    "papermill": {
     "duration": 0.051564,
     "end_time": "2023-01-31T15:00:19.884331",
     "exception": false,
     "start_time": "2023-01-31T15:00:19.832767",
     "status": "completed"
    },
    "tags": []
   },
   "outputs": [
    {
     "data": {
      "text/plain": [
       "array([[0, 1, 2],\n",
       "       [3, 4, 5],\n",
       "       [6, 7, 8]])"
      ]
     },
     "execution_count": 99,
     "metadata": {},
     "output_type": "execute_result"
    }
   ],
   "source": [
    "arr"
   ]
  },
  {
   "cell_type": "code",
   "execution_count": 100,
   "id": "a556ca8d",
   "metadata": {
    "execution": {
     "iopub.execute_input": "2023-01-31T15:00:19.971590Z",
     "iopub.status.busy": "2023-01-31T15:00:19.971313Z",
     "iopub.status.idle": "2023-01-31T15:00:19.977254Z",
     "shell.execute_reply": "2023-01-31T15:00:19.976389Z"
    },
    "papermill": {
     "duration": 0.051868,
     "end_time": "2023-01-31T15:00:19.979214",
     "exception": false,
     "start_time": "2023-01-31T15:00:19.927346",
     "status": "completed"
    },
    "tags": []
   },
   "outputs": [
    {
     "data": {
      "text/plain": [
       "array([1, 2])"
      ]
     },
     "execution_count": 100,
     "metadata": {},
     "output_type": "execute_result"
    }
   ],
   "source": [
    "arr[0, [1, 2]]"
   ]
  },
  {
   "cell_type": "code",
   "execution_count": 101,
   "id": "9ffa2515",
   "metadata": {
    "execution": {
     "iopub.execute_input": "2023-01-31T15:00:20.067901Z",
     "iopub.status.busy": "2023-01-31T15:00:20.066464Z",
     "iopub.status.idle": "2023-01-31T15:00:20.072957Z",
     "shell.execute_reply": "2023-01-31T15:00:20.072052Z"
    },
    "papermill": {
     "duration": 0.052843,
     "end_time": "2023-01-31T15:00:20.075026",
     "exception": false,
     "start_time": "2023-01-31T15:00:20.022183",
     "status": "completed"
    },
    "tags": []
   },
   "outputs": [
    {
     "data": {
      "text/plain": [
       "array([[1, 2],\n",
       "       [4, 5],\n",
       "       [7, 8]])"
      ]
     },
     "execution_count": 101,
     "metadata": {},
     "output_type": "execute_result"
    }
   ],
   "source": [
    "#slice\n",
    "\n",
    "arr[0:, [1,2]]"
   ]
  },
  {
   "cell_type": "code",
   "execution_count": 102,
   "id": "4c9b693d",
   "metadata": {
    "execution": {
     "iopub.execute_input": "2023-01-31T15:00:20.164064Z",
     "iopub.status.busy": "2023-01-31T15:00:20.163236Z",
     "iopub.status.idle": "2023-01-31T15:00:20.169840Z",
     "shell.execute_reply": "2023-01-31T15:00:20.168875Z"
    },
    "papermill": {
     "duration": 0.052993,
     "end_time": "2023-01-31T15:00:20.171794",
     "exception": false,
     "start_time": "2023-01-31T15:00:20.118801",
     "status": "completed"
    },
    "tags": []
   },
   "outputs": [
    {
     "data": {
      "text/plain": [
       "array([3, 4])"
      ]
     },
     "execution_count": 102,
     "metadata": {},
     "output_type": "execute_result"
    }
   ],
   "source": [
    "arr[1, [0,1]]"
   ]
  },
  {
   "cell_type": "markdown",
   "id": "0d3f6664",
   "metadata": {
    "papermill": {
     "duration": 0.042932,
     "end_time": "2023-01-31T15:00:20.258724",
     "exception": false,
     "start_time": "2023-01-31T15:00:20.215792",
     "status": "completed"
    },
    "tags": []
   },
   "source": [
    "### <span style = \"background:#174D83; border:#ffffff; font-size:100%; color:#fff; border-radius:5px;\">17. Conditional element operations</span>"
   ]
  },
  {
   "cell_type": "code",
   "execution_count": 103,
   "id": "3187792b",
   "metadata": {
    "execution": {
     "iopub.execute_input": "2023-01-31T15:00:20.348258Z",
     "iopub.status.busy": "2023-01-31T15:00:20.347323Z",
     "iopub.status.idle": "2023-01-31T15:00:20.354168Z",
     "shell.execute_reply": "2023-01-31T15:00:20.353203Z"
    },
    "papermill": {
     "duration": 0.053991,
     "end_time": "2023-01-31T15:00:20.356166",
     "exception": false,
     "start_time": "2023-01-31T15:00:20.302175",
     "status": "completed"
    },
    "tags": []
   },
   "outputs": [
    {
     "data": {
      "text/plain": [
       "array([False, False, False,  True,  True])"
      ]
     },
     "execution_count": 103,
     "metadata": {},
     "output_type": "execute_result"
    }
   ],
   "source": [
    "arr = np.array([1, 2, 3, 4, 5])\n",
    "arr > 3"
   ]
  },
  {
   "cell_type": "code",
   "execution_count": 104,
   "id": "a0c822d7",
   "metadata": {
    "execution": {
     "iopub.execute_input": "2023-01-31T15:00:20.447088Z",
     "iopub.status.busy": "2023-01-31T15:00:20.445350Z",
     "iopub.status.idle": "2023-01-31T15:00:20.452279Z",
     "shell.execute_reply": "2023-01-31T15:00:20.451363Z"
    },
    "papermill": {
     "duration": 0.054424,
     "end_time": "2023-01-31T15:00:20.454237",
     "exception": false,
     "start_time": "2023-01-31T15:00:20.399813",
     "status": "completed"
    },
    "tags": []
   },
   "outputs": [
    {
     "data": {
      "text/plain": [
       "array([4, 5])"
      ]
     },
     "execution_count": 104,
     "metadata": {},
     "output_type": "execute_result"
    }
   ],
   "source": [
    "arr[arr > 3]"
   ]
  },
  {
   "cell_type": "code",
   "execution_count": 105,
   "id": "c8fa8216",
   "metadata": {
    "execution": {
     "iopub.execute_input": "2023-01-31T15:00:20.542910Z",
     "iopub.status.busy": "2023-01-31T15:00:20.542136Z",
     "iopub.status.idle": "2023-01-31T15:00:20.548781Z",
     "shell.execute_reply": "2023-01-31T15:00:20.547817Z"
    },
    "papermill": {
     "duration": 0.053063,
     "end_time": "2023-01-31T15:00:20.550750",
     "exception": false,
     "start_time": "2023-01-31T15:00:20.497687",
     "status": "completed"
    },
    "tags": []
   },
   "outputs": [
    {
     "data": {
      "text/plain": [
       "array([1, 2, 3, 4])"
      ]
     },
     "execution_count": 105,
     "metadata": {},
     "output_type": "execute_result"
    }
   ],
   "source": [
    "arr[arr < 5]"
   ]
  },
  {
   "cell_type": "code",
   "execution_count": 106,
   "id": "3db51bf1",
   "metadata": {
    "execution": {
     "iopub.execute_input": "2023-01-31T15:00:20.643525Z",
     "iopub.status.busy": "2023-01-31T15:00:20.643170Z",
     "iopub.status.idle": "2023-01-31T15:00:20.650768Z",
     "shell.execute_reply": "2023-01-31T15:00:20.649833Z"
    },
    "papermill": {
     "duration": 0.054876,
     "end_time": "2023-01-31T15:00:20.652784",
     "exception": false,
     "start_time": "2023-01-31T15:00:20.597908",
     "status": "completed"
    },
    "tags": []
   },
   "outputs": [
    {
     "data": {
      "text/plain": [
       "array([2, 3, 4, 5])"
      ]
     },
     "execution_count": 106,
     "metadata": {},
     "output_type": "execute_result"
    }
   ],
   "source": [
    "arr[arr >= 2]"
   ]
  },
  {
   "cell_type": "code",
   "execution_count": 107,
   "id": "82e4f3ec",
   "metadata": {
    "execution": {
     "iopub.execute_input": "2023-01-31T15:00:20.742811Z",
     "iopub.status.busy": "2023-01-31T15:00:20.742484Z",
     "iopub.status.idle": "2023-01-31T15:00:20.748587Z",
     "shell.execute_reply": "2023-01-31T15:00:20.747701Z"
    },
    "papermill": {
     "duration": 0.053311,
     "end_time": "2023-01-31T15:00:20.750756",
     "exception": false,
     "start_time": "2023-01-31T15:00:20.697445",
     "status": "completed"
    },
    "tags": []
   },
   "outputs": [
    {
     "data": {
      "text/plain": [
       "array([1, 2, 3, 5])"
      ]
     },
     "execution_count": 107,
     "metadata": {},
     "output_type": "execute_result"
    }
   ],
   "source": [
    "arr[arr != 4]"
   ]
  },
  {
   "cell_type": "code",
   "execution_count": 108,
   "id": "82019690",
   "metadata": {
    "execution": {
     "iopub.execute_input": "2023-01-31T15:00:20.841559Z",
     "iopub.status.busy": "2023-01-31T15:00:20.840004Z",
     "iopub.status.idle": "2023-01-31T15:00:20.846818Z",
     "shell.execute_reply": "2023-01-31T15:00:20.845838Z"
    },
    "papermill": {
     "duration": 0.053843,
     "end_time": "2023-01-31T15:00:20.848950",
     "exception": false,
     "start_time": "2023-01-31T15:00:20.795107",
     "status": "completed"
    },
    "tags": []
   },
   "outputs": [
    {
     "data": {
      "text/plain": [
       "array([3])"
      ]
     },
     "execution_count": 108,
     "metadata": {},
     "output_type": "execute_result"
    }
   ],
   "source": [
    "arr[arr == 3]"
   ]
  },
  {
   "cell_type": "markdown",
   "id": "55524e62",
   "metadata": {
    "papermill": {
     "duration": 0.044046,
     "end_time": "2023-01-31T15:00:20.937498",
     "exception": false,
     "start_time": "2023-01-31T15:00:20.893452",
     "status": "completed"
    },
    "tags": []
   },
   "source": [
    "### <span style = \"background:#174D83; border:#ffffff; font-size:100%; color:#fff; border-radius:5px;\">18. Mathematical operations on arrays</span>"
   ]
  },
  {
   "cell_type": "code",
   "execution_count": 109,
   "id": "4cb97a99",
   "metadata": {
    "execution": {
     "iopub.execute_input": "2023-01-31T15:00:21.027250Z",
     "iopub.status.busy": "2023-01-31T15:00:21.026362Z",
     "iopub.status.idle": "2023-01-31T15:00:21.033021Z",
     "shell.execute_reply": "2023-01-31T15:00:21.032111Z"
    },
    "papermill": {
     "duration": 0.053441,
     "end_time": "2023-01-31T15:00:21.035008",
     "exception": false,
     "start_time": "2023-01-31T15:00:20.981567",
     "status": "completed"
    },
    "tags": []
   },
   "outputs": [
    {
     "data": {
      "text/plain": [
       "array([0, 1, 2, 3, 4, 5, 6, 7, 8, 9])"
      ]
     },
     "execution_count": 109,
     "metadata": {},
     "output_type": "execute_result"
    }
   ],
   "source": [
    "arr = np.arange(10)\n",
    "arr"
   ]
  },
  {
   "cell_type": "code",
   "execution_count": 110,
   "id": "e9e23208",
   "metadata": {
    "execution": {
     "iopub.execute_input": "2023-01-31T15:00:21.124936Z",
     "iopub.status.busy": "2023-01-31T15:00:21.124150Z",
     "iopub.status.idle": "2023-01-31T15:00:21.130617Z",
     "shell.execute_reply": "2023-01-31T15:00:21.129658Z"
    },
    "papermill": {
     "duration": 0.053063,
     "end_time": "2023-01-31T15:00:21.132598",
     "exception": false,
     "start_time": "2023-01-31T15:00:21.079535",
     "status": "completed"
    },
    "tags": []
   },
   "outputs": [
    {
     "data": {
      "text/plain": [
       "array([ 5,  7,  9, 11, 13, 15, 17, 19, 21, 23])"
      ]
     },
     "execution_count": 110,
     "metadata": {},
     "output_type": "execute_result"
    }
   ],
   "source": [
    "(arr*2)+5"
   ]
  },
  {
   "cell_type": "code",
   "execution_count": 111,
   "id": "563629ce",
   "metadata": {
    "execution": {
     "iopub.execute_input": "2023-01-31T15:00:21.222955Z",
     "iopub.status.busy": "2023-01-31T15:00:21.222153Z",
     "iopub.status.idle": "2023-01-31T15:00:21.229476Z",
     "shell.execute_reply": "2023-01-31T15:00:21.228405Z"
    },
    "papermill": {
     "duration": 0.054603,
     "end_time": "2023-01-31T15:00:21.231609",
     "exception": false,
     "start_time": "2023-01-31T15:00:21.177006",
     "status": "completed"
    },
    "tags": []
   },
   "outputs": [
    {
     "data": {
      "text/plain": [
       "array([2.23606798, 2.64575131, 3.        , 3.31662479, 3.60555128,\n",
       "       3.87298335, 4.12310563, 4.35889894, 4.58257569, 4.79583152])"
      ]
     },
     "execution_count": 111,
     "metadata": {},
     "output_type": "execute_result"
    }
   ],
   "source": [
    "np.sqrt(((arr*2)+5))"
   ]
  },
  {
   "cell_type": "code",
   "execution_count": 112,
   "id": "6513e06a",
   "metadata": {
    "execution": {
     "iopub.execute_input": "2023-01-31T15:00:21.323466Z",
     "iopub.status.busy": "2023-01-31T15:00:21.322002Z",
     "iopub.status.idle": "2023-01-31T15:00:21.328808Z",
     "shell.execute_reply": "2023-01-31T15:00:21.327854Z"
    },
    "papermill": {
     "duration": 0.053869,
     "end_time": "2023-01-31T15:00:21.330875",
     "exception": false,
     "start_time": "2023-01-31T15:00:21.277006",
     "status": "completed"
    },
    "tags": []
   },
   "outputs": [
    {
     "data": {
      "text/plain": [
       "array([0.59049   , 0.4782969 , 0.38742049, 0.3138106 , 0.25418658,\n",
       "       0.20589113, 0.16677182, 0.13508517, 0.10941899, 0.08862938])"
      ]
     },
     "execution_count": 112,
     "metadata": {},
     "output_type": "execute_result"
    }
   ],
   "source": [
    "0.9**((arr*2)+5)"
   ]
  },
  {
   "cell_type": "code",
   "execution_count": 113,
   "id": "8788c551",
   "metadata": {
    "execution": {
     "iopub.execute_input": "2023-01-31T15:00:21.422315Z",
     "iopub.status.busy": "2023-01-31T15:00:21.421422Z",
     "iopub.status.idle": "2023-01-31T15:00:21.427952Z",
     "shell.execute_reply": "2023-01-31T15:00:21.427047Z"
    },
    "papermill": {
     "duration": 0.053666,
     "end_time": "2023-01-31T15:00:21.429889",
     "exception": false,
     "start_time": "2023-01-31T15:00:21.376223",
     "status": "completed"
    },
    "tags": []
   },
   "outputs": [
    {
     "data": {
      "text/plain": [
       "array([1, 2, 3, 4, 5])"
      ]
     },
     "execution_count": 113,
     "metadata": {},
     "output_type": "execute_result"
    }
   ],
   "source": [
    "arr = np.array([1, 2, 3, 4, 5])\n",
    "arr"
   ]
  },
  {
   "cell_type": "code",
   "execution_count": 114,
   "id": "90c30ff0",
   "metadata": {
    "execution": {
     "iopub.execute_input": "2023-01-31T15:00:21.520411Z",
     "iopub.status.busy": "2023-01-31T15:00:21.520140Z",
     "iopub.status.idle": "2023-01-31T15:00:21.525510Z",
     "shell.execute_reply": "2023-01-31T15:00:21.524532Z"
    },
    "papermill": {
     "duration": 0.052612,
     "end_time": "2023-01-31T15:00:21.527764",
     "exception": false,
     "start_time": "2023-01-31T15:00:21.475152",
     "status": "completed"
    },
    "tags": []
   },
   "outputs": [
    {
     "name": "stdout",
     "output_type": "stream",
     "text": [
      "[0 1 2 3 4]\n",
      "[ 5 10 15 20 25]\n",
      "[0.33333333 0.66666667 1.         1.33333333 1.66666667]\n"
     ]
    }
   ],
   "source": [
    "for i in (arr - 1, arr*5, arr/3):\n",
    "    print(i)"
   ]
  },
  {
   "cell_type": "code",
   "execution_count": 115,
   "id": "d2c9337c",
   "metadata": {
    "execution": {
     "iopub.execute_input": "2023-01-31T15:00:21.654035Z",
     "iopub.status.busy": "2023-01-31T15:00:21.653259Z",
     "iopub.status.idle": "2023-01-31T15:00:21.662019Z",
     "shell.execute_reply": "2023-01-31T15:00:21.660302Z"
    },
    "papermill": {
     "duration": 0.092894,
     "end_time": "2023-01-31T15:00:21.665065",
     "exception": false,
     "start_time": "2023-01-31T15:00:21.572171",
     "status": "completed"
    },
    "tags": []
   },
   "outputs": [
    {
     "data": {
      "text/plain": [
       "array([-0.5,  0. ,  0.5,  1. ,  1.5])"
      ]
     },
     "execution_count": 115,
     "metadata": {},
     "output_type": "execute_result"
    }
   ],
   "source": [
    "arr*5/10-1"
   ]
  },
  {
   "cell_type": "code",
   "execution_count": 116,
   "id": "a037cb72",
   "metadata": {
    "execution": {
     "iopub.execute_input": "2023-01-31T15:00:21.825815Z",
     "iopub.status.busy": "2023-01-31T15:00:21.825480Z",
     "iopub.status.idle": "2023-01-31T15:00:21.832570Z",
     "shell.execute_reply": "2023-01-31T15:00:21.831691Z"
    },
    "papermill": {
     "duration": 0.087329,
     "end_time": "2023-01-31T15:00:21.839949",
     "exception": false,
     "start_time": "2023-01-31T15:00:21.752620",
     "status": "completed"
    },
    "tags": []
   },
   "outputs": [
    {
     "data": {
      "text/plain": [
       "array([-1,  0,  1,  2,  3])"
      ]
     },
     "execution_count": 116,
     "metadata": {},
     "output_type": "execute_result"
    }
   ],
   "source": [
    "np.subtract(arr, 2)"
   ]
  },
  {
   "cell_type": "code",
   "execution_count": 117,
   "id": "ddd9971a",
   "metadata": {
    "execution": {
     "iopub.execute_input": "2023-01-31T15:00:21.974818Z",
     "iopub.status.busy": "2023-01-31T15:00:21.974309Z",
     "iopub.status.idle": "2023-01-31T15:00:21.981064Z",
     "shell.execute_reply": "2023-01-31T15:00:21.980239Z"
    },
    "papermill": {
     "duration": 0.079568,
     "end_time": "2023-01-31T15:00:21.986297",
     "exception": false,
     "start_time": "2023-01-31T15:00:21.906729",
     "status": "completed"
    },
    "tags": []
   },
   "outputs": [
    {
     "data": {
      "text/plain": [
       "array([4, 5, 6, 7, 8])"
      ]
     },
     "execution_count": 117,
     "metadata": {},
     "output_type": "execute_result"
    }
   ],
   "source": [
    "np.add(arr, 3)"
   ]
  },
  {
   "cell_type": "code",
   "execution_count": 118,
   "id": "dc742d77",
   "metadata": {
    "execution": {
     "iopub.execute_input": "2023-01-31T15:00:22.130259Z",
     "iopub.status.busy": "2023-01-31T15:00:22.129754Z",
     "iopub.status.idle": "2023-01-31T15:00:22.136755Z",
     "shell.execute_reply": "2023-01-31T15:00:22.135959Z"
    },
    "papermill": {
     "duration": 0.086649,
     "end_time": "2023-01-31T15:00:22.143223",
     "exception": false,
     "start_time": "2023-01-31T15:00:22.056574",
     "status": "completed"
    },
    "tags": []
   },
   "outputs": [
    {
     "data": {
      "text/plain": [
       "array([0.25, 0.5 , 0.75, 1.  , 1.25])"
      ]
     },
     "execution_count": 118,
     "metadata": {},
     "output_type": "execute_result"
    }
   ],
   "source": [
    "np.divide(arr, 4)"
   ]
  },
  {
   "cell_type": "code",
   "execution_count": 119,
   "id": "58f08677",
   "metadata": {
    "execution": {
     "iopub.execute_input": "2023-01-31T15:00:22.251026Z",
     "iopub.status.busy": "2023-01-31T15:00:22.250657Z",
     "iopub.status.idle": "2023-01-31T15:00:22.256760Z",
     "shell.execute_reply": "2023-01-31T15:00:22.255877Z"
    },
    "papermill": {
     "duration": 0.054024,
     "end_time": "2023-01-31T15:00:22.258768",
     "exception": false,
     "start_time": "2023-01-31T15:00:22.204744",
     "status": "completed"
    },
    "tags": []
   },
   "outputs": [
    {
     "data": {
      "text/plain": [
       "array([ 5, 10, 15, 20, 25])"
      ]
     },
     "execution_count": 119,
     "metadata": {},
     "output_type": "execute_result"
    }
   ],
   "source": [
    "np.multiply(arr, 5)"
   ]
  },
  {
   "cell_type": "code",
   "execution_count": 120,
   "id": "48d52265",
   "metadata": {
    "execution": {
     "iopub.execute_input": "2023-01-31T15:00:22.351562Z",
     "iopub.status.busy": "2023-01-31T15:00:22.350080Z",
     "iopub.status.idle": "2023-01-31T15:00:22.356695Z",
     "shell.execute_reply": "2023-01-31T15:00:22.355782Z"
    },
    "papermill": {
     "duration": 0.055226,
     "end_time": "2023-01-31T15:00:22.358732",
     "exception": false,
     "start_time": "2023-01-31T15:00:22.303506",
     "status": "completed"
    },
    "tags": []
   },
   "outputs": [
    {
     "data": {
      "text/plain": [
       "array([ 1,  4,  9, 16, 25])"
      ]
     },
     "execution_count": 120,
     "metadata": {},
     "output_type": "execute_result"
    }
   ],
   "source": [
    "np.power(arr, 2)"
   ]
  },
  {
   "cell_type": "code",
   "execution_count": 121,
   "id": "0a341881",
   "metadata": {
    "execution": {
     "iopub.execute_input": "2023-01-31T15:00:22.451418Z",
     "iopub.status.busy": "2023-01-31T15:00:22.449806Z",
     "iopub.status.idle": "2023-01-31T15:00:22.456677Z",
     "shell.execute_reply": "2023-01-31T15:00:22.455737Z"
    },
    "papermill": {
     "duration": 0.055177,
     "end_time": "2023-01-31T15:00:22.458633",
     "exception": false,
     "start_time": "2023-01-31T15:00:22.403456",
     "status": "completed"
    },
    "tags": []
   },
   "outputs": [
    {
     "data": {
      "text/plain": [
       "array([1, 0, 1, 0, 1])"
      ]
     },
     "execution_count": 121,
     "metadata": {},
     "output_type": "execute_result"
    }
   ],
   "source": [
    "np.mod(arr, 2)"
   ]
  },
  {
   "cell_type": "code",
   "execution_count": 122,
   "id": "89c3d877",
   "metadata": {
    "execution": {
     "iopub.execute_input": "2023-01-31T15:00:22.555804Z",
     "iopub.status.busy": "2023-01-31T15:00:22.555528Z",
     "iopub.status.idle": "2023-01-31T15:00:22.561533Z",
     "shell.execute_reply": "2023-01-31T15:00:22.560669Z"
    },
    "papermill": {
     "duration": 0.058403,
     "end_time": "2023-01-31T15:00:22.563690",
     "exception": false,
     "start_time": "2023-01-31T15:00:22.505287",
     "status": "completed"
    },
    "tags": []
   },
   "outputs": [
    {
     "data": {
      "text/plain": [
       "array([1, 2, 3, 4, 5])"
      ]
     },
     "execution_count": 122,
     "metadata": {},
     "output_type": "execute_result"
    }
   ],
   "source": [
    "np.absolute(arr)"
   ]
  },
  {
   "cell_type": "code",
   "execution_count": 123,
   "id": "43de2490",
   "metadata": {
    "execution": {
     "iopub.execute_input": "2023-01-31T15:00:22.656708Z",
     "iopub.status.busy": "2023-01-31T15:00:22.655795Z",
     "iopub.status.idle": "2023-01-31T15:00:22.663385Z",
     "shell.execute_reply": "2023-01-31T15:00:22.662371Z"
    },
    "papermill": {
     "duration": 0.056524,
     "end_time": "2023-01-31T15:00:22.665813",
     "exception": false,
     "start_time": "2023-01-31T15:00:22.609289",
     "status": "completed"
    },
    "tags": []
   },
   "outputs": [
    {
     "data": {
      "text/plain": [
       "0.8939966636005579"
      ]
     },
     "execution_count": 123,
     "metadata": {},
     "output_type": "execute_result"
    }
   ],
   "source": [
    "np.sin(90)"
   ]
  },
  {
   "cell_type": "code",
   "execution_count": 124,
   "id": "eb5f6726",
   "metadata": {
    "execution": {
     "iopub.execute_input": "2023-01-31T15:00:22.758710Z",
     "iopub.status.busy": "2023-01-31T15:00:22.758432Z",
     "iopub.status.idle": "2023-01-31T15:00:22.764491Z",
     "shell.execute_reply": "2023-01-31T15:00:22.763503Z"
    },
    "papermill": {
     "duration": 0.055723,
     "end_time": "2023-01-31T15:00:22.767555",
     "exception": false,
     "start_time": "2023-01-31T15:00:22.711832",
     "status": "completed"
    },
    "tags": []
   },
   "outputs": [
    {
     "data": {
      "text/plain": [
       "-0.8667670910519801"
      ]
     },
     "execution_count": 124,
     "metadata": {},
     "output_type": "execute_result"
    }
   ],
   "source": [
    "np.cos(122)"
   ]
  },
  {
   "cell_type": "code",
   "execution_count": 125,
   "id": "ea77fdec",
   "metadata": {
    "execution": {
     "iopub.execute_input": "2023-01-31T15:00:22.860133Z",
     "iopub.status.busy": "2023-01-31T15:00:22.859783Z",
     "iopub.status.idle": "2023-01-31T15:00:22.867099Z",
     "shell.execute_reply": "2023-01-31T15:00:22.866162Z"
    },
    "papermill": {
     "duration": 0.056484,
     "end_time": "2023-01-31T15:00:22.869271",
     "exception": false,
     "start_time": "2023-01-31T15:00:22.812787",
     "status": "completed"
    },
    "tags": []
   },
   "outputs": [
    {
     "data": {
      "text/plain": [
       "array([0.        , 0.69314718, 1.09861229, 1.38629436, 1.60943791])"
      ]
     },
     "execution_count": 125,
     "metadata": {},
     "output_type": "execute_result"
    }
   ],
   "source": [
    "np.log(arr)"
   ]
  },
  {
   "cell_type": "code",
   "execution_count": 126,
   "id": "11bf0706",
   "metadata": {
    "execution": {
     "iopub.execute_input": "2023-01-31T15:00:22.962055Z",
     "iopub.status.busy": "2023-01-31T15:00:22.961761Z",
     "iopub.status.idle": "2023-01-31T15:00:22.968307Z",
     "shell.execute_reply": "2023-01-31T15:00:22.967264Z"
    },
    "papermill": {
     "duration": 0.054824,
     "end_time": "2023-01-31T15:00:22.970569",
     "exception": false,
     "start_time": "2023-01-31T15:00:22.915745",
     "status": "completed"
    },
    "tags": []
   },
   "outputs": [
    {
     "data": {
      "text/plain": [
       "array([0.        , 0.30103   , 0.47712125, 0.60205999, 0.69897   ])"
      ]
     },
     "execution_count": 126,
     "metadata": {},
     "output_type": "execute_result"
    }
   ],
   "source": [
    "np.log10(arr)"
   ]
  },
  {
   "cell_type": "code",
   "execution_count": 127,
   "id": "357c1c83",
   "metadata": {
    "execution": {
     "iopub.execute_input": "2023-01-31T15:00:23.064166Z",
     "iopub.status.busy": "2023-01-31T15:00:23.063854Z",
     "iopub.status.idle": "2023-01-31T15:00:23.070917Z",
     "shell.execute_reply": "2023-01-31T15:00:23.069799Z"
    },
    "papermill": {
     "duration": 0.056804,
     "end_time": "2023-01-31T15:00:23.073915",
     "exception": false,
     "start_time": "2023-01-31T15:00:23.017111",
     "status": "completed"
    },
    "tags": []
   },
   "outputs": [
    {
     "data": {
      "text/plain": [
       "array([0.78539816, 1.10714872, 1.24904577, 1.32581766, 1.37340077])"
      ]
     },
     "execution_count": 127,
     "metadata": {},
     "output_type": "execute_result"
    }
   ],
   "source": [
    "np.arctan(arr)"
   ]
  },
  {
   "cell_type": "markdown",
   "id": "822f1498",
   "metadata": {
    "papermill": {
     "duration": 0.045281,
     "end_time": "2023-01-31T15:00:23.165005",
     "exception": false,
     "start_time": "2023-01-31T15:00:23.119724",
     "status": "completed"
    },
    "tags": []
   },
   "source": [
    "### <span style = \"background:#174D83; border:#ffffff; font-size:100%; color:#fff; border-radius:5px;\">19. Solving two unknown equations with numpy</span>"
   ]
  },
  {
   "cell_type": "markdown",
   "id": "a0aa30a2",
   "metadata": {
    "papermill": {
     "duration": 0.045212,
     "end_time": "2023-01-31T15:00:23.255653",
     "exception": false,
     "start_time": "2023-01-31T15:00:23.210441",
     "status": "completed"
    },
    "tags": []
   },
   "source": [
    "\n",
    "#### <mark>5*x0+x1 = 12</mark>\n",
    "#### <mark>x0+3*x1 = 10</mark>"
   ]
  },
  {
   "cell_type": "code",
   "execution_count": 128,
   "id": "3b820c86",
   "metadata": {
    "execution": {
     "iopub.execute_input": "2023-01-31T15:00:23.348141Z",
     "iopub.status.busy": "2023-01-31T15:00:23.347760Z",
     "iopub.status.idle": "2023-01-31T15:00:23.357747Z",
     "shell.execute_reply": "2023-01-31T15:00:23.356846Z"
    },
    "papermill": {
     "duration": 0.05888,
     "end_time": "2023-01-31T15:00:23.359905",
     "exception": false,
     "start_time": "2023-01-31T15:00:23.301025",
     "status": "completed"
    },
    "tags": []
   },
   "outputs": [
    {
     "data": {
      "text/plain": [
       "array([1.85714286, 2.71428571])"
      ]
     },
     "execution_count": 128,
     "metadata": {},
     "output_type": "execute_result"
    }
   ],
   "source": [
    "arr1 = np.array([[5,1], [1,3]])\n",
    "arr2 = np.array([12,10])\n",
    "x = np.linalg.solve(arr1, arr2)\n",
    "x"
   ]
  },
  {
   "cell_type": "markdown",
   "id": "4894f1d6",
   "metadata": {
    "papermill": {
     "duration": 0.045339,
     "end_time": "2023-01-31T15:00:23.453065",
     "exception": false,
     "start_time": "2023-01-31T15:00:23.407726",
     "status": "completed"
    },
    "tags": []
   },
   "source": [
    "##### 2*x0 - 3*x1 = 5\n",
    "##### x0 + 2*x1 = 6"
   ]
  },
  {
   "cell_type": "code",
   "execution_count": 129,
   "id": "047ad0f4",
   "metadata": {
    "execution": {
     "iopub.execute_input": "2023-01-31T15:00:23.546526Z",
     "iopub.status.busy": "2023-01-31T15:00:23.546143Z",
     "iopub.status.idle": "2023-01-31T15:00:23.554115Z",
     "shell.execute_reply": "2023-01-31T15:00:23.553179Z"
    },
    "papermill": {
     "duration": 0.056718,
     "end_time": "2023-01-31T15:00:23.556097",
     "exception": false,
     "start_time": "2023-01-31T15:00:23.499379",
     "status": "completed"
    },
    "tags": []
   },
   "outputs": [
    {
     "data": {
      "text/plain": [
       "array([-8.,  7.])"
      ]
     },
     "execution_count": 129,
     "metadata": {},
     "output_type": "execute_result"
    }
   ],
   "source": [
    "arr3 = np.array([[2,3], [1,2]])\n",
    "arr4 = np.array([5,6])\n",
    "x = np.linalg.solve(arr3, arr4)\n",
    "x"
   ]
  },
  {
   "cell_type": "markdown",
   "id": "de2863fe",
   "metadata": {
    "papermill": {
     "duration": 0.045379,
     "end_time": "2023-01-31T15:00:23.647847",
     "exception": false,
     "start_time": "2023-01-31T15:00:23.602468",
     "status": "completed"
    },
    "tags": []
   },
   "source": [
    "### <span style = \"background:#174D83; border:#ffffff; font-size:100%; color:#fff; border-radius:5px;\">20. Additional information about arrays</span>"
   ]
  },
  {
   "cell_type": "code",
   "execution_count": 130,
   "id": "71ca1455",
   "metadata": {
    "execution": {
     "iopub.execute_input": "2023-01-31T15:00:23.741303Z",
     "iopub.status.busy": "2023-01-31T15:00:23.740928Z",
     "iopub.status.idle": "2023-01-31T15:00:23.748114Z",
     "shell.execute_reply": "2023-01-31T15:00:23.747019Z"
    },
    "papermill": {
     "duration": 0.057686,
     "end_time": "2023-01-31T15:00:23.751276",
     "exception": false,
     "start_time": "2023-01-31T15:00:23.693590",
     "status": "completed"
    },
    "tags": []
   },
   "outputs": [
    {
     "data": {
      "text/plain": [
       "array([[1., 0., 0., 0., 0., 0., 0.],\n",
       "       [0., 1., 0., 0., 0., 0., 0.],\n",
       "       [0., 0., 1., 0., 0., 0., 0.],\n",
       "       [0., 0., 0., 1., 0., 0., 0.],\n",
       "       [0., 0., 0., 0., 1., 0., 0.],\n",
       "       [0., 0., 0., 0., 0., 1., 0.],\n",
       "       [0., 0., 0., 0., 0., 0., 1.]])"
      ]
     },
     "execution_count": 130,
     "metadata": {},
     "output_type": "execute_result"
    }
   ],
   "source": [
    "np.eye(7)"
   ]
  },
  {
   "cell_type": "markdown",
   "id": "b3c48437",
   "metadata": {
    "papermill": {
     "duration": 0.045588,
     "end_time": "2023-01-31T15:00:23.843075",
     "exception": false,
     "start_time": "2023-01-31T15:00:23.797487",
     "status": "completed"
    },
    "tags": []
   },
   "source": [
    "#### <mark>Create five random values between 0 and 1</mark>"
   ]
  },
  {
   "cell_type": "code",
   "execution_count": 131,
   "id": "d2761cfa",
   "metadata": {
    "execution": {
     "iopub.execute_input": "2023-01-31T15:00:23.936533Z",
     "iopub.status.busy": "2023-01-31T15:00:23.936210Z",
     "iopub.status.idle": "2023-01-31T15:00:23.956556Z",
     "shell.execute_reply": "2023-01-31T15:00:23.944855Z"
    },
    "papermill": {
     "duration": 0.070168,
     "end_time": "2023-01-31T15:00:23.959314",
     "exception": false,
     "start_time": "2023-01-31T15:00:23.889146",
     "status": "completed"
    },
    "tags": []
   },
   "outputs": [
    {
     "data": {
      "text/plain": [
       "array([0.65338627, 0.77304695, 0.85667904, 0.31537257, 0.81910041])"
      ]
     },
     "execution_count": 131,
     "metadata": {},
     "output_type": "execute_result"
    }
   ],
   "source": [
    "np.random.rand(5)"
   ]
  },
  {
   "cell_type": "markdown",
   "id": "dbad3515",
   "metadata": {
    "papermill": {
     "duration": 0.070333,
     "end_time": "2023-01-31T15:00:24.119897",
     "exception": false,
     "start_time": "2023-01-31T15:00:24.049564",
     "status": "completed"
    },
    "tags": []
   },
   "source": [
    "#### <mark>Create five random values around 0</mark>"
   ]
  },
  {
   "cell_type": "markdown",
   "id": "85955e30",
   "metadata": {
    "papermill": {
     "duration": 0.065069,
     "end_time": "2023-01-31T15:00:24.252346",
     "exception": false,
     "start_time": "2023-01-31T15:00:24.187277",
     "status": "completed"
    },
    "tags": []
   },
   "source": []
  },
  {
   "cell_type": "code",
   "execution_count": 132,
   "id": "b534e1ef",
   "metadata": {
    "execution": {
     "iopub.execute_input": "2023-01-31T15:00:24.388495Z",
     "iopub.status.busy": "2023-01-31T15:00:24.388039Z",
     "iopub.status.idle": "2023-01-31T15:00:24.395034Z",
     "shell.execute_reply": "2023-01-31T15:00:24.394201Z"
    },
    "papermill": {
     "duration": 0.08142,
     "end_time": "2023-01-31T15:00:24.400096",
     "exception": false,
     "start_time": "2023-01-31T15:00:24.318676",
     "status": "completed"
    },
    "tags": []
   },
   "outputs": [
    {
     "data": {
      "text/plain": [
       "array([ 0.76408192,  0.10887766, -1.85417477,  0.60767207, -2.65242412])"
      ]
     },
     "execution_count": 132,
     "metadata": {},
     "output_type": "execute_result"
    }
   ],
   "source": [
    "np.random.randn(5)"
   ]
  },
  {
   "cell_type": "code",
   "execution_count": 133,
   "id": "10c86043",
   "metadata": {
    "execution": {
     "iopub.execute_input": "2023-01-31T15:00:24.553406Z",
     "iopub.status.busy": "2023-01-31T15:00:24.552921Z",
     "iopub.status.idle": "2023-01-31T15:00:24.560508Z",
     "shell.execute_reply": "2023-01-31T15:00:24.559633Z"
    },
    "papermill": {
     "duration": 0.092848,
     "end_time": "2023-01-31T15:00:24.562707",
     "exception": false,
     "start_time": "2023-01-31T15:00:24.469859",
     "status": "completed"
    },
    "tags": []
   },
   "outputs": [
    {
     "data": {
      "text/plain": [
       "array([29, 20, 48,  4, 40, 10, 38, 24, 23, 23, 29, 29, 37,  3, 45, 46, 45,\n",
       "       46, 13, 30,  2,  7,  9, 31,  1,  8, 49, 27, 42, 10, 43, 30,  4, 11,\n",
       "       49, 44, 49, 48,  6, 35, 16, 36, 12, 35, 22, 22, 20, 34, 12, 11])"
      ]
     },
     "execution_count": 133,
     "metadata": {},
     "output_type": "execute_result"
    }
   ],
   "source": [
    "arr = np.random.randint(1, 50, 50)\n",
    "arr"
   ]
  },
  {
   "cell_type": "markdown",
   "id": "805691d8",
   "metadata": {
    "papermill": {
     "duration": 0.069697,
     "end_time": "2023-01-31T15:00:24.706050",
     "exception": false,
     "start_time": "2023-01-31T15:00:24.636353",
     "status": "completed"
    },
    "tags": []
   },
   "source": [
    "#### <mark>Get the index where the maximum value is</mark>"
   ]
  },
  {
   "cell_type": "code",
   "execution_count": 134,
   "id": "52ef73ab",
   "metadata": {
    "execution": {
     "iopub.execute_input": "2023-01-31T15:00:24.846491Z",
     "iopub.status.busy": "2023-01-31T15:00:24.845803Z",
     "iopub.status.idle": "2023-01-31T15:00:24.854970Z",
     "shell.execute_reply": "2023-01-31T15:00:24.854204Z"
    },
    "papermill": {
     "duration": 0.082066,
     "end_time": "2023-01-31T15:00:24.857474",
     "exception": false,
     "start_time": "2023-01-31T15:00:24.775408",
     "status": "completed"
    },
    "tags": []
   },
   "outputs": [
    {
     "data": {
      "text/plain": [
       "26"
      ]
     },
     "execution_count": 134,
     "metadata": {},
     "output_type": "execute_result"
    }
   ],
   "source": [
    "np.argmax(arr)"
   ]
  },
  {
   "cell_type": "markdown",
   "id": "310f0966",
   "metadata": {
    "papermill": {
     "duration": 0.069814,
     "end_time": "2023-01-31T15:00:24.997183",
     "exception": false,
     "start_time": "2023-01-31T15:00:24.927369",
     "status": "completed"
    },
    "tags": []
   },
   "source": [
    "#### <mark>Get the index where the minimum value is</mark>"
   ]
  },
  {
   "cell_type": "code",
   "execution_count": 135,
   "id": "7d238e38",
   "metadata": {
    "execution": {
     "iopub.execute_input": "2023-01-31T15:00:25.138943Z",
     "iopub.status.busy": "2023-01-31T15:00:25.138542Z",
     "iopub.status.idle": "2023-01-31T15:00:25.144805Z",
     "shell.execute_reply": "2023-01-31T15:00:25.144028Z"
    },
    "papermill": {
     "duration": 0.082812,
     "end_time": "2023-01-31T15:00:25.150284",
     "exception": false,
     "start_time": "2023-01-31T15:00:25.067472",
     "status": "completed"
    },
    "tags": []
   },
   "outputs": [
    {
     "data": {
      "text/plain": [
       "24"
      ]
     },
     "execution_count": 135,
     "metadata": {},
     "output_type": "execute_result"
    }
   ],
   "source": [
    "np.argmin(arr)"
   ]
  },
  {
   "cell_type": "code",
   "execution_count": 136,
   "id": "3586b64b",
   "metadata": {
    "execution": {
     "iopub.execute_input": "2023-01-31T15:00:25.293748Z",
     "iopub.status.busy": "2023-01-31T15:00:25.293362Z",
     "iopub.status.idle": "2023-01-31T15:00:25.301955Z",
     "shell.execute_reply": "2023-01-31T15:00:25.301064Z"
    },
    "papermill": {
     "duration": 0.083017,
     "end_time": "2023-01-31T15:00:25.304730",
     "exception": false,
     "start_time": "2023-01-31T15:00:25.221713",
     "status": "completed"
    },
    "tags": []
   },
   "outputs": [
    {
     "data": {
      "text/plain": [
       "1307"
      ]
     },
     "execution_count": 136,
     "metadata": {},
     "output_type": "execute_result"
    }
   ],
   "source": [
    "np.sum(arr)"
   ]
  },
  {
   "cell_type": "code",
   "execution_count": 137,
   "id": "09fe7127",
   "metadata": {
    "execution": {
     "iopub.execute_input": "2023-01-31T15:00:25.400068Z",
     "iopub.status.busy": "2023-01-31T15:00:25.399098Z",
     "iopub.status.idle": "2023-01-31T15:00:25.406019Z",
     "shell.execute_reply": "2023-01-31T15:00:25.405047Z"
    },
    "papermill": {
     "duration": 0.056464,
     "end_time": "2023-01-31T15:00:25.407967",
     "exception": false,
     "start_time": "2023-01-31T15:00:25.351503",
     "status": "completed"
    },
    "tags": []
   },
   "outputs": [
    {
     "data": {
      "text/plain": [
       "26.14"
      ]
     },
     "execution_count": 137,
     "metadata": {},
     "output_type": "execute_result"
    }
   ],
   "source": [
    "np.mean(arr)"
   ]
  },
  {
   "cell_type": "code",
   "execution_count": 138,
   "id": "007f4b73",
   "metadata": {
    "execution": {
     "iopub.execute_input": "2023-01-31T15:00:25.504291Z",
     "iopub.status.busy": "2023-01-31T15:00:25.502658Z",
     "iopub.status.idle": "2023-01-31T15:00:25.510766Z",
     "shell.execute_reply": "2023-01-31T15:00:25.509849Z"
    },
    "papermill": {
     "duration": 0.057879,
     "end_time": "2023-01-31T15:00:25.512777",
     "exception": false,
     "start_time": "2023-01-31T15:00:25.454898",
     "status": "completed"
    },
    "tags": []
   },
   "outputs": [
    {
     "data": {
      "text/plain": [
       "28.0"
      ]
     },
     "execution_count": 138,
     "metadata": {},
     "output_type": "execute_result"
    }
   ],
   "source": [
    "np.median(arr)"
   ]
  },
  {
   "cell_type": "code",
   "execution_count": 139,
   "id": "75260e62",
   "metadata": {
    "execution": {
     "iopub.execute_input": "2023-01-31T15:00:25.608205Z",
     "iopub.status.busy": "2023-01-31T15:00:25.607785Z",
     "iopub.status.idle": "2023-01-31T15:00:25.613934Z",
     "shell.execute_reply": "2023-01-31T15:00:25.613004Z"
    },
    "papermill": {
     "duration": 0.056564,
     "end_time": "2023-01-31T15:00:25.616205",
     "exception": false,
     "start_time": "2023-01-31T15:00:25.559641",
     "status": "completed"
    },
    "tags": []
   },
   "outputs": [
    {
     "data": {
      "text/plain": [
       "232.76039999999998"
      ]
     },
     "execution_count": 139,
     "metadata": {},
     "output_type": "execute_result"
    }
   ],
   "source": [
    "np.var(arr)"
   ]
  },
  {
   "cell_type": "code",
   "execution_count": 140,
   "id": "fbbf5b67",
   "metadata": {
    "execution": {
     "iopub.execute_input": "2023-01-31T15:00:25.711564Z",
     "iopub.status.busy": "2023-01-31T15:00:25.710720Z",
     "iopub.status.idle": "2023-01-31T15:00:25.717685Z",
     "shell.execute_reply": "2023-01-31T15:00:25.716724Z"
    },
    "papermill": {
     "duration": 0.056459,
     "end_time": "2023-01-31T15:00:25.719655",
     "exception": false,
     "start_time": "2023-01-31T15:00:25.663196",
     "status": "completed"
    },
    "tags": []
   },
   "outputs": [
    {
     "data": {
      "text/plain": [
       "15.2564871448181"
      ]
     },
     "execution_count": 140,
     "metadata": {},
     "output_type": "execute_result"
    }
   ],
   "source": [
    "np.std(arr)"
   ]
  },
  {
   "cell_type": "markdown",
   "id": "bb51f7d5",
   "metadata": {
    "papermill": {
     "duration": 0.04659,
     "end_time": "2023-01-31T15:00:25.813903",
     "exception": false,
     "start_time": "2023-01-31T15:00:25.767313",
     "status": "completed"
    },
    "tags": []
   },
   "source": [
    "### <mark>Adding the arrays</mark>"
   ]
  },
  {
   "cell_type": "code",
   "execution_count": 141,
   "id": "f1c289f9",
   "metadata": {
    "execution": {
     "iopub.execute_input": "2023-01-31T15:00:25.908501Z",
     "iopub.status.busy": "2023-01-31T15:00:25.908158Z",
     "iopub.status.idle": "2023-01-31T15:00:25.915552Z",
     "shell.execute_reply": "2023-01-31T15:00:25.914665Z"
    },
    "papermill": {
     "duration": 0.0568,
     "end_time": "2023-01-31T15:00:25.917492",
     "exception": false,
     "start_time": "2023-01-31T15:00:25.860692",
     "status": "completed"
    },
    "tags": []
   },
   "outputs": [
    {
     "data": {
      "text/plain": [
       "array([[ 2.1,  4.1,  6.1,  8.1, 10.1],\n",
       "       [ 4.1,  6.1, 10.1, 12.1, 14.1]])"
      ]
     },
     "execution_count": 141,
     "metadata": {},
     "output_type": "execute_result"
    }
   ],
   "source": [
    "arr1 = np.array([[1,2,3,4,5], [2,3,5,6,7]])\n",
    "arr2 = np.array([[1.1,2.1,3.1,4.1,5.1], [2.1,3.1,5.1,6.1,7.1]])\n",
    "arr1 + arr2"
   ]
  },
  {
   "cell_type": "markdown",
   "id": "e5ad2b5a",
   "metadata": {
    "papermill": {
     "duration": 0.046383,
     "end_time": "2023-01-31T15:00:26.011314",
     "exception": false,
     "start_time": "2023-01-31T15:00:25.964931",
     "status": "completed"
    },
    "tags": []
   },
   "source": [
    "### <mark>Multiplying the arrays</mark>"
   ]
  },
  {
   "cell_type": "code",
   "execution_count": 142,
   "id": "285fc609",
   "metadata": {
    "execution": {
     "iopub.execute_input": "2023-01-31T15:00:26.109814Z",
     "iopub.status.busy": "2023-01-31T15:00:26.109463Z",
     "iopub.status.idle": "2023-01-31T15:00:26.115582Z",
     "shell.execute_reply": "2023-01-31T15:00:26.114702Z"
    },
    "papermill": {
     "duration": 0.05923,
     "end_time": "2023-01-31T15:00:26.117518",
     "exception": false,
     "start_time": "2023-01-31T15:00:26.058288",
     "status": "completed"
    },
    "tags": []
   },
   "outputs": [
    {
     "data": {
      "text/plain": [
       "array([[ 1.1,  4.2,  9.3, 16.4, 25.5],\n",
       "       [ 4.2,  9.3, 25.5, 36.6, 49.7]])"
      ]
     },
     "execution_count": 142,
     "metadata": {},
     "output_type": "execute_result"
    }
   ],
   "source": [
    "arr1 * arr2"
   ]
  },
  {
   "cell_type": "code",
   "execution_count": 143,
   "id": "f696f9fe",
   "metadata": {
    "execution": {
     "iopub.execute_input": "2023-01-31T15:00:26.212313Z",
     "iopub.status.busy": "2023-01-31T15:00:26.211454Z",
     "iopub.status.idle": "2023-01-31T15:00:26.218073Z",
     "shell.execute_reply": "2023-01-31T15:00:26.217143Z"
    },
    "papermill": {
     "duration": 0.0558,
     "end_time": "2023-01-31T15:00:26.220016",
     "exception": false,
     "start_time": "2023-01-31T15:00:26.164216",
     "status": "completed"
    },
    "tags": []
   },
   "outputs": [
    {
     "data": {
      "text/plain": [
       "array([[1.44913767, 2.02484567, 2.46981781, 2.84604989, 3.17804972],\n",
       "       [2.02484567, 2.46981781, 3.17804972, 3.47850543, 3.75499667]])"
      ]
     },
     "execution_count": 143,
     "metadata": {},
     "output_type": "execute_result"
    }
   ],
   "source": [
    "np.sqrt(arr1 + arr2)"
   ]
  },
  {
   "cell_type": "markdown",
   "id": "c0c44537",
   "metadata": {
    "papermill": {
     "duration": 0.049298,
     "end_time": "2023-01-31T15:00:26.316404",
     "exception": false,
     "start_time": "2023-01-31T15:00:26.267106",
     "status": "completed"
    },
    "tags": []
   },
   "source": [
    "### <mark>Multiplying the elements of two lists by traditional methods</mark>"
   ]
  },
  {
   "cell_type": "code",
   "execution_count": 144,
   "id": "799f290c",
   "metadata": {
    "execution": {
     "iopub.execute_input": "2023-01-31T15:00:26.412089Z",
     "iopub.status.busy": "2023-01-31T15:00:26.410447Z",
     "iopub.status.idle": "2023-01-31T15:00:26.418604Z",
     "shell.execute_reply": "2023-01-31T15:00:26.417680Z"
    },
    "papermill": {
     "duration": 0.057778,
     "end_time": "2023-01-31T15:00:26.420592",
     "exception": false,
     "start_time": "2023-01-31T15:00:26.362814",
     "status": "completed"
    },
    "tags": []
   },
   "outputs": [
    {
     "data": {
      "text/plain": [
       "[2, 12, 30, 56, 90, 132, 182]"
      ]
     },
     "execution_count": 144,
     "metadata": {},
     "output_type": "execute_result"
    }
   ],
   "source": [
    "list_1 = [2,4,6,8, 10, 12, 14]\n",
    "list_2 = [1,3,5,7, 9, 11, 13]\n",
    "\n",
    "multiplied_lists = []\n",
    "for i in range(0, len(list_1)):\n",
    "    multiplied_lists.append(list_1[i] * list_2[i])\n",
    "multiplied_lists"
   ]
  },
  {
   "cell_type": "markdown",
   "id": "ea67fbd4",
   "metadata": {
    "papermill": {
     "duration": 0.04693,
     "end_time": "2023-01-31T15:00:26.514759",
     "exception": false,
     "start_time": "2023-01-31T15:00:26.467829",
     "status": "completed"
    },
    "tags": []
   },
   "source": [
    "### <mark>Multiplying the elements of two lists by NumPy</mark>"
   ]
  },
  {
   "cell_type": "code",
   "execution_count": 145,
   "id": "dca8bb20",
   "metadata": {
    "execution": {
     "iopub.execute_input": "2023-01-31T15:00:26.610399Z",
     "iopub.status.busy": "2023-01-31T15:00:26.610115Z",
     "iopub.status.idle": "2023-01-31T15:00:26.616741Z",
     "shell.execute_reply": "2023-01-31T15:00:26.615837Z"
    },
    "papermill": {
     "duration": 0.057255,
     "end_time": "2023-01-31T15:00:26.618779",
     "exception": false,
     "start_time": "2023-01-31T15:00:26.561524",
     "status": "completed"
    },
    "tags": []
   },
   "outputs": [
    {
     "data": {
      "text/plain": [
       "array([  2,  12,  30,  56,  90, 132, 182])"
      ]
     },
     "execution_count": 145,
     "metadata": {},
     "output_type": "execute_result"
    }
   ],
   "source": [
    "arr_1 = np.array([2,4,6,8, 10, 12, 14])\n",
    "arr_2 = np.array([1,3,5,7, 9, 11, 13])\n",
    "arr_1 * arr_2"
   ]
  },
  {
   "cell_type": "markdown",
   "id": "948d92ec",
   "metadata": {
    "papermill": {
     "duration": 0.046778,
     "end_time": "2023-01-31T15:00:26.712010",
     "exception": false,
     "start_time": "2023-01-31T15:00:26.665232",
     "status": "completed"
    },
    "tags": []
   },
   "source": [
    "### <span style = \"background:#174D83; border:#ffffff; font-size:100%; color:#fff; border-radius:5px;\">21. Save array to CSV</span>"
   ]
  },
  {
   "cell_type": "code",
   "execution_count": 146,
   "id": "4ac86ba3",
   "metadata": {
    "execution": {
     "iopub.execute_input": "2023-01-31T15:00:26.806385Z",
     "iopub.status.busy": "2023-01-31T15:00:26.806094Z",
     "iopub.status.idle": "2023-01-31T15:00:26.811215Z",
     "shell.execute_reply": "2023-01-31T15:00:26.810305Z"
    },
    "papermill": {
     "duration": 0.054814,
     "end_time": "2023-01-31T15:00:26.813445",
     "exception": false,
     "start_time": "2023-01-31T15:00:26.758631",
     "status": "completed"
    },
    "tags": []
   },
   "outputs": [
    {
     "name": "stdout",
     "output_type": "stream",
     "text": [
      "[[1 2 3]\n",
      " [4 5 6]]\n"
     ]
    }
   ],
   "source": [
    "a = np.asarray([ [1,2,3], [4,5,6]])\n",
    "print(a)\n",
    "\n",
    "# to save the numpy to csv file\n",
    "# np.savetxt(\"abc.csv\", a, delimiter = \",\")"
   ]
  },
  {
   "cell_type": "markdown",
   "id": "60f4e6bc",
   "metadata": {
    "papermill": {
     "duration": 0.047274,
     "end_time": "2023-01-31T15:00:26.907376",
     "exception": false,
     "start_time": "2023-01-31T15:00:26.860102",
     "status": "completed"
    },
    "tags": []
   },
   "source": [
    "### <span style = \"background:#174D83; border:#ffffff; font-size:100%; color:#fff; border-radius:5px;\">22. Dataframe to numpy</span>"
   ]
  },
  {
   "cell_type": "code",
   "execution_count": 147,
   "id": "927e0bea",
   "metadata": {
    "execution": {
     "iopub.execute_input": "2023-01-31T15:00:27.002722Z",
     "iopub.status.busy": "2023-01-31T15:00:27.001766Z",
     "iopub.status.idle": "2023-01-31T15:00:27.017052Z",
     "shell.execute_reply": "2023-01-31T15:00:27.015929Z"
    },
    "papermill": {
     "duration": 0.064625,
     "end_time": "2023-01-31T15:00:27.019001",
     "exception": false,
     "start_time": "2023-01-31T15:00:26.954376",
     "status": "completed"
    },
    "tags": []
   },
   "outputs": [
    {
     "name": "stdout",
     "output_type": "stream",
     "text": [
      "Pandas dataframe:\n",
      "   a  b\n",
      "X  1  4\n",
      "Y  2  5\n",
      "Z  3  6\n",
      "W  4  7\n",
      "R  5  8\n"
     ]
    }
   ],
   "source": [
    "import pandas as pd\n",
    "\n",
    "df = pd.DataFrame({\"a\": [1, 2, 3, 4, 5], \"b\": [4, 5, 6, 7, 8]}, index = [\"X\", \"Y\", \"Z\", \"W\", \"R\"])\n",
    "\n",
    "print(\"Pandas dataframe:\")\n",
    "print(df)"
   ]
  },
  {
   "cell_type": "code",
   "execution_count": 148,
   "id": "dd609f04",
   "metadata": {
    "execution": {
     "iopub.execute_input": "2023-01-31T15:00:27.115399Z",
     "iopub.status.busy": "2023-01-31T15:00:27.114516Z",
     "iopub.status.idle": "2023-01-31T15:00:27.121049Z",
     "shell.execute_reply": "2023-01-31T15:00:27.119823Z"
    },
    "papermill": {
     "duration": 0.056973,
     "end_time": "2023-01-31T15:00:27.123057",
     "exception": false,
     "start_time": "2023-01-31T15:00:27.066084",
     "status": "completed"
    },
    "tags": []
   },
   "outputs": [
    {
     "name": "stdout",
     "output_type": "stream",
     "text": [
      "Pandas dataframe to numpy:\n",
      "[[1 4]\n",
      " [2 5]\n",
      " [3 6]\n",
      " [4 7]\n",
      " [5 8]]\n"
     ]
    }
   ],
   "source": [
    "dat = df.to_numpy()\n",
    "\n",
    "print(\"Pandas dataframe to numpy:\")\n",
    "print(dat)"
   ]
  },
  {
   "cell_type": "code",
   "execution_count": 149,
   "id": "0c63801a",
   "metadata": {
    "execution": {
     "iopub.execute_input": "2023-01-31T15:00:27.219315Z",
     "iopub.status.busy": "2023-01-31T15:00:27.218432Z",
     "iopub.status.idle": "2023-01-31T15:00:27.224202Z",
     "shell.execute_reply": "2023-01-31T15:00:27.223044Z"
    },
    "papermill": {
     "duration": 0.055549,
     "end_time": "2023-01-31T15:00:27.226175",
     "exception": false,
     "start_time": "2023-01-31T15:00:27.170626",
     "status": "completed"
    },
    "tags": []
   },
   "outputs": [
    {
     "name": "stdout",
     "output_type": "stream",
     "text": [
      "Pandas dataframe indices to numpy:\n",
      "['X' 'Y' 'Z' 'W' 'R']\n"
     ]
    }
   ],
   "source": [
    "idx = df.index.to_numpy()\n",
    "print(\"Pandas dataframe indices to numpy:\")\n",
    "print(idx)"
   ]
  },
  {
   "cell_type": "code",
   "execution_count": 150,
   "id": "89e4aaf2",
   "metadata": {
    "execution": {
     "iopub.execute_input": "2023-01-31T15:00:27.321851Z",
     "iopub.status.busy": "2023-01-31T15:00:27.320935Z",
     "iopub.status.idle": "2023-01-31T15:00:27.329149Z",
     "shell.execute_reply": "2023-01-31T15:00:27.328047Z"
    },
    "papermill": {
     "duration": 0.057766,
     "end_time": "2023-01-31T15:00:27.331164",
     "exception": false,
     "start_time": "2023-01-31T15:00:27.273398",
     "status": "completed"
    },
    "tags": []
   },
   "outputs": [
    {
     "name": "stdout",
     "output_type": "stream",
     "text": [
      "Dataframe series to numpy:\n",
      "[1 2 3 4 5]\n"
     ]
    }
   ],
   "source": [
    "ser = df[\"a\"].to_numpy()\n",
    "print(\"Dataframe series to numpy:\")\n",
    "print(ser)"
   ]
  },
  {
   "cell_type": "markdown",
   "id": "146cb7eb",
   "metadata": {
    "papermill": {
     "duration": 0.048497,
     "end_time": "2023-01-31T15:00:27.427084",
     "exception": false,
     "start_time": "2023-01-31T15:00:27.378587",
     "status": "completed"
    },
    "tags": []
   },
   "source": [
    "### <span style = \"background:#174D83; border:#ffffff; font-size:100%; color:#fff; border-radius:5px;\">23. Argsort on numpy array</span>"
   ]
  },
  {
   "cell_type": "code",
   "execution_count": 151,
   "id": "8f11005a",
   "metadata": {
    "execution": {
     "iopub.execute_input": "2023-01-31T15:00:27.524184Z",
     "iopub.status.busy": "2023-01-31T15:00:27.523791Z",
     "iopub.status.idle": "2023-01-31T15:00:27.531208Z",
     "shell.execute_reply": "2023-01-31T15:00:27.530195Z"
    },
    "papermill": {
     "duration": 0.05962,
     "end_time": "2023-01-31T15:00:27.533594",
     "exception": false,
     "start_time": "2023-01-31T15:00:27.473974",
     "status": "completed"
    },
    "tags": []
   },
   "outputs": [
    {
     "name": "stdout",
     "output_type": "stream",
     "text": [
      "Before argsort:\n",
      "[[3 8 2]\n",
      " [8 2 9]\n",
      " [1 1 9]]\n",
      "\n",
      "After argsort:\n",
      "[[3 8 2]\n",
      " [8 2 9]\n",
      " [1 1 9]]\n"
     ]
    }
   ],
   "source": [
    "a = np.random.randint(0, 10, (3,3))\n",
    "print(\"Before argsort:\")\n",
    "print(a)\n",
    "\n",
    "print(\"\\nAfter argsort:\")\n",
    "b = a[a[: ,2].argsort()]\n",
    "print(b)"
   ]
  },
  {
   "cell_type": "markdown",
   "id": "07725101",
   "metadata": {
    "papermill": {
     "duration": 0.046958,
     "end_time": "2023-01-31T15:00:27.628028",
     "exception": false,
     "start_time": "2023-01-31T15:00:27.581070",
     "status": "completed"
    },
    "tags": []
   },
   "source": [
    "### <span style = \"background:#174D83; border:#ffffff; font-size:100%; color:#fff; border-radius:5px;\">24. Numpy inverse</span>"
   ]
  },
  {
   "cell_type": "code",
   "execution_count": 152,
   "id": "1809270f",
   "metadata": {
    "execution": {
     "iopub.execute_input": "2023-01-31T15:00:27.725835Z",
     "iopub.status.busy": "2023-01-31T15:00:27.725493Z",
     "iopub.status.idle": "2023-01-31T15:00:27.739218Z",
     "shell.execute_reply": "2023-01-31T15:00:27.737740Z"
    },
    "papermill": {
     "duration": 0.0666,
     "end_time": "2023-01-31T15:00:27.742428",
     "exception": false,
     "start_time": "2023-01-31T15:00:27.675828",
     "status": "completed"
    },
    "tags": []
   },
   "outputs": [
    {
     "name": "stdout",
     "output_type": "stream",
     "text": [
      "Array before inverse:\n",
      "[[ 2  3  5]\n",
      " [ 4  6  8]\n",
      " [ 9 11 15]]\n",
      "\n",
      "Array after inverse:\n",
      "[[-0.2 -1.   0.6]\n",
      " [-1.2  1.5 -0.4]\n",
      " [ 1.  -0.5  0. ]]\n"
     ]
    }
   ],
   "source": [
    "b = np.array([[2, 3, 5],[4, 6, 8], [9, 11, 15]])\n",
    "print(\"Array before inverse:\")\n",
    "print(b)\n",
    "\n",
    "c = np.linalg.inv(b)\n",
    "print(\"\\nArray after inverse:\")\n",
    "print(c)"
   ]
  },
  {
   "cell_type": "markdown",
   "id": "fba3de60",
   "metadata": {
    "papermill": {
     "duration": 0.047045,
     "end_time": "2023-01-31T15:00:27.915485",
     "exception": false,
     "start_time": "2023-01-31T15:00:27.868440",
     "status": "completed"
    },
    "tags": []
   },
   "source": [
    "### <span style = \"background:#174D83; border:#ffffff; font-size:100%; color:#fff; border-radius:5px;\">25. Tolist function</span>"
   ]
  },
  {
   "cell_type": "code",
   "execution_count": 153,
   "id": "7988c8bb",
   "metadata": {
    "execution": {
     "iopub.execute_input": "2023-01-31T15:00:28.011512Z",
     "iopub.status.busy": "2023-01-31T15:00:28.011166Z",
     "iopub.status.idle": "2023-01-31T15:00:28.017379Z",
     "shell.execute_reply": "2023-01-31T15:00:28.016424Z"
    },
    "papermill": {
     "duration": 0.056956,
     "end_time": "2023-01-31T15:00:28.019965",
     "exception": false,
     "start_time": "2023-01-31T15:00:27.963009",
     "status": "completed"
    },
    "tags": []
   },
   "outputs": [
    {
     "name": "stdout",
     "output_type": "stream",
     "text": [
      "Array before:\n",
      "[[ 0  1  2  3  4]\n",
      " [ 5  6  7  8  9]\n",
      " [10 11 12 13 14]\n",
      " [15 16 17 18 19]]\n",
      "<class 'numpy.ndarray'>\n",
      "<class 'numpy.ndarray'>\n",
      "<class 'numpy.int64'>\n",
      "______________________________________________________________________________\n"
     ]
    }
   ],
   "source": [
    "arr = np.arange(20).reshape(4, 5)\n",
    "print(\"Array before:\")\n",
    "print(arr)\n",
    "print(type(arr))\n",
    "print(type(arr[1]))\n",
    "print(type(arr[1][1]))\n",
    "print(\"______________________________________________________________________________\")"
   ]
  },
  {
   "cell_type": "code",
   "execution_count": 154,
   "id": "be6332ed",
   "metadata": {
    "execution": {
     "iopub.execute_input": "2023-01-31T15:00:28.117484Z",
     "iopub.status.busy": "2023-01-31T15:00:28.116763Z",
     "iopub.status.idle": "2023-01-31T15:00:28.123833Z",
     "shell.execute_reply": "2023-01-31T15:00:28.122702Z"
    },
    "papermill": {
     "duration": 0.057736,
     "end_time": "2023-01-31T15:00:28.125833",
     "exception": false,
     "start_time": "2023-01-31T15:00:28.068097",
     "status": "completed"
    },
    "tags": []
   },
   "outputs": [
    {
     "name": "stdout",
     "output_type": "stream",
     "text": [
      "Array after tolist():\n",
      "[[0, 1, 2, 3, 4], [5, 6, 7, 8, 9], [10, 11, 12, 13, 14], [15, 16, 17, 18, 19]]\n",
      "<class 'list'>\n",
      "<class 'list'>\n",
      "<class 'int'>\n"
     ]
    }
   ],
   "source": [
    "print(\"Array after tolist():\")\n",
    "b = arr.tolist()\n",
    "print(b)\n",
    "print(type(b))\n",
    "print(type(b[1]))\n",
    "print(type(b[1][1]))"
   ]
  },
  {
   "cell_type": "markdown",
   "id": "8deb55aa",
   "metadata": {
    "papermill": {
     "duration": 0.047879,
     "end_time": "2023-01-31T15:00:28.221664",
     "exception": false,
     "start_time": "2023-01-31T15:00:28.173785",
     "status": "completed"
    },
    "tags": []
   },
   "source": [
    "### <span style = \"background:#174D83; border:#ffffff; font-size:100%; color:#fff; border-radius:5px;\">26. Where function</span>"
   ]
  },
  {
   "cell_type": "code",
   "execution_count": 155,
   "id": "d463e8be",
   "metadata": {
    "execution": {
     "iopub.execute_input": "2023-01-31T15:00:28.319458Z",
     "iopub.status.busy": "2023-01-31T15:00:28.318519Z",
     "iopub.status.idle": "2023-01-31T15:00:28.325887Z",
     "shell.execute_reply": "2023-01-31T15:00:28.324944Z"
    },
    "papermill": {
     "duration": 0.058181,
     "end_time": "2023-01-31T15:00:28.327803",
     "exception": false,
     "start_time": "2023-01-31T15:00:28.269622",
     "status": "completed"
    },
    "tags": []
   },
   "outputs": [
    {
     "name": "stdout",
     "output_type": "stream",
     "text": [
      "Without using where function:\n",
      "[[ 0  1  2  3]\n",
      " [ 4  5  6  7]\n",
      " [ 8  9 10 11]\n",
      " [12 13 14 15]\n",
      " [16 17 18 19]]\n",
      "\n",
      "With using where function:\n",
      "[[20 20 20]\n",
      " [20 20  0]\n",
      " [20 20  0]]\n"
     ]
    }
   ],
   "source": [
    "arr = np.arange(20).reshape((5, 4))\n",
    "print(\"Without using where function:\")\n",
    "print(arr)\n",
    "\n",
    "print(\"\\nWith using where function:\")\n",
    "b = np.where((a < 16) & (a > 8), 0, 20)\n",
    "print(b)"
   ]
  },
  {
   "cell_type": "code",
   "execution_count": 156,
   "id": "1f2c7ce7",
   "metadata": {
    "execution": {
     "iopub.execute_input": "2023-01-31T15:00:28.426949Z",
     "iopub.status.busy": "2023-01-31T15:00:28.426115Z",
     "iopub.status.idle": "2023-01-31T15:00:28.433421Z",
     "shell.execute_reply": "2023-01-31T15:00:28.432207Z"
    },
    "papermill": {
     "duration": 0.057579,
     "end_time": "2023-01-31T15:00:28.435473",
     "exception": false,
     "start_time": "2023-01-31T15:00:28.377894",
     "status": "completed"
    },
    "tags": []
   },
   "outputs": [
    {
     "name": "stdout",
     "output_type": "stream",
     "text": [
      "Without using where function:\n",
      "[[ 0  1  2  3  4]\n",
      " [ 5  6  7  8  9]\n",
      " [10 11 12 13 14]\n",
      " [15 16 17 18 19]]\n",
      "\n",
      "With using where function:\n",
      "[[3 0 2]\n",
      " [0 2 9]\n",
      " [1 1 9]]\n"
     ]
    }
   ],
   "source": [
    "arr = np.arange(20).reshape((4, 5))\n",
    "print(\"Without using where function:\")\n",
    "print(arr)\n",
    "\n",
    "print(\"\\nWith using where function:\")\n",
    "b = np.where((a > 4) & (a < 9), 0, a)\n",
    "print(b)"
   ]
  },
  {
   "cell_type": "markdown",
   "id": "f3e75149",
   "metadata": {
    "papermill": {
     "duration": 0.047844,
     "end_time": "2023-01-31T15:00:28.530405",
     "exception": false,
     "start_time": "2023-01-31T15:00:28.482561",
     "status": "completed"
    },
    "tags": []
   },
   "source": [
    "### <span style = \"background:#174D83; border:#ffffff; font-size:100%; color:#fff; border-radius:5px;\">27. Date with numpy</span>"
   ]
  },
  {
   "cell_type": "code",
   "execution_count": 157,
   "id": "9ee5b1d2",
   "metadata": {
    "execution": {
     "iopub.execute_input": "2023-01-31T15:00:28.666080Z",
     "iopub.status.busy": "2023-01-31T15:00:28.665627Z",
     "iopub.status.idle": "2023-01-31T15:00:28.671552Z",
     "shell.execute_reply": "2023-01-31T15:00:28.670613Z"
    },
    "papermill": {
     "duration": 0.099099,
     "end_time": "2023-01-31T15:00:28.677445",
     "exception": false,
     "start_time": "2023-01-31T15:00:28.578346",
     "status": "completed"
    },
    "tags": []
   },
   "outputs": [
    {
     "name": "stdout",
     "output_type": "stream",
     "text": [
      "Date of today is:  2023-01-31\n"
     ]
    }
   ],
   "source": [
    "today = np.datetime64(\"today\", \"D\")\n",
    "print(\"Date of today is: \", today)"
   ]
  },
  {
   "cell_type": "code",
   "execution_count": 158,
   "id": "d7f18268",
   "metadata": {
    "execution": {
     "iopub.execute_input": "2023-01-31T15:00:28.782607Z",
     "iopub.status.busy": "2023-01-31T15:00:28.782269Z",
     "iopub.status.idle": "2023-01-31T15:00:28.787448Z",
     "shell.execute_reply": "2023-01-31T15:00:28.786481Z"
    },
    "papermill": {
     "duration": 0.056908,
     "end_time": "2023-01-31T15:00:28.790022",
     "exception": false,
     "start_time": "2023-01-31T15:00:28.733114",
     "status": "completed"
    },
    "tags": []
   },
   "outputs": [
    {
     "name": "stdout",
     "output_type": "stream",
     "text": [
      "Date after five days is:  2023-02-05\n"
     ]
    }
   ],
   "source": [
    "fivedayslater = np.datetime64(\"today\", \"D\") + np.timedelta64(5, \"D\")\n",
    "print(\"Date after five days is: \", fivedayslater)"
   ]
  },
  {
   "cell_type": "code",
   "execution_count": 159,
   "id": "31ab02a3",
   "metadata": {
    "execution": {
     "iopub.execute_input": "2023-01-31T15:00:28.886563Z",
     "iopub.status.busy": "2023-01-31T15:00:28.885779Z",
     "iopub.status.idle": "2023-01-31T15:00:28.891676Z",
     "shell.execute_reply": "2023-01-31T15:00:28.890578Z"
    },
    "papermill": {
     "duration": 0.056143,
     "end_time": "2023-01-31T15:00:28.893624",
     "exception": false,
     "start_time": "2023-01-31T15:00:28.837481",
     "status": "completed"
    },
    "tags": []
   },
   "outputs": [
    {
     "name": "stdout",
     "output_type": "stream",
     "text": [
      "Date before ten days is:  2023-01-21\n"
     ]
    }
   ],
   "source": [
    "beforetendays = np.datetime64(\"today\", \"D\") - np.timedelta64(10, \"D\")\n",
    "print(\"Date before ten days is: \", beforetendays)"
   ]
  },
  {
   "cell_type": "code",
   "execution_count": 160,
   "id": "c8fe84dc",
   "metadata": {
    "execution": {
     "iopub.execute_input": "2023-01-31T15:00:28.991107Z",
     "iopub.status.busy": "2023-01-31T15:00:28.990805Z",
     "iopub.status.idle": "2023-01-31T15:00:28.995758Z",
     "shell.execute_reply": "2023-01-31T15:00:28.994867Z"
    },
    "papermill": {
     "duration": 0.055757,
     "end_time": "2023-01-31T15:00:28.997778",
     "exception": false,
     "start_time": "2023-01-31T15:00:28.942021",
     "status": "completed"
    },
    "tags": []
   },
   "outputs": [
    {
     "name": "stdout",
     "output_type": "stream",
     "text": [
      "Date after five weeksis:  2023-03-07\n"
     ]
    }
   ],
   "source": [
    "afterfiveweek = np.datetime64(\"today\", \"D\") + np.timedelta64(5, \"W\")\n",
    "print(\"Date after five weeksis: \", afterfiveweek)"
   ]
  },
  {
   "cell_type": "code",
   "execution_count": 161,
   "id": "e22ebcb3",
   "metadata": {
    "execution": {
     "iopub.execute_input": "2023-01-31T15:00:29.094106Z",
     "iopub.status.busy": "2023-01-31T15:00:29.093789Z",
     "iopub.status.idle": "2023-01-31T15:00:29.098904Z",
     "shell.execute_reply": "2023-01-31T15:00:29.098028Z"
    },
    "papermill": {
     "duration": 0.055945,
     "end_time": "2023-01-31T15:00:29.101000",
     "exception": false,
     "start_time": "2023-01-31T15:00:29.045055",
     "status": "completed"
    },
    "tags": []
   },
   "outputs": [
    {
     "name": "stdout",
     "output_type": "stream",
     "text": [
      "Date between two date: ['2022-08-27' '2022-08-28' '2022-08-29' '2022-08-30' '2022-08-31'\n",
      " '2022-09-01' '2022-09-02' '2022-09-03' '2022-09-04']\n"
     ]
    }
   ],
   "source": [
    "date_arr = np.arange(\"2022-08-27\", \"2022-09-05\", dtype = \"datetime64[D]\")\n",
    "print(\"Date between two date:\", date_arr)"
   ]
  },
  {
   "cell_type": "markdown",
   "id": "dc349cf4",
   "metadata": {
    "papermill": {
     "duration": 0.047853,
     "end_time": "2023-01-31T15:00:29.197226",
     "exception": false,
     "start_time": "2023-01-31T15:00:29.149373",
     "status": "completed"
    },
    "tags": []
   },
   "source": [
    "### <span style = \"background:#174D83; border:#ffffff; font-size:100%; color:#fff; border-radius:5px;\">27. To Find the nearest element in the numpy array</span>"
   ]
  },
  {
   "cell_type": "code",
   "execution_count": 162,
   "id": "2a633391",
   "metadata": {
    "execution": {
     "iopub.execute_input": "2023-01-31T15:00:29.293543Z",
     "iopub.status.busy": "2023-01-31T15:00:29.293251Z",
     "iopub.status.idle": "2023-01-31T15:00:29.299224Z",
     "shell.execute_reply": "2023-01-31T15:00:29.298302Z"
    },
    "papermill": {
     "duration": 0.056352,
     "end_time": "2023-01-31T15:00:29.301355",
     "exception": false,
     "start_time": "2023-01-31T15:00:29.245003",
     "status": "completed"
    },
    "tags": []
   },
   "outputs": [
    {
     "name": "stdout",
     "output_type": "stream",
     "text": [
      "[10 12 14 16 18 20 22 24 26 28 30 32 34 36 38 40 42 44 46 48]\n",
      "Elemenet near by 15 : 14\n"
     ]
    }
   ],
   "source": [
    "arr = np.arange(10, 50, 2)\n",
    "print(arr)\n",
    "\n",
    "b = 15\n",
    "c = arr.flat[np.abs(arr - b).argmin()]\n",
    "print(f\"Elemenet near by {b} : {c}\")"
   ]
  },
  {
   "cell_type": "markdown",
   "id": "24cf320e",
   "metadata": {
    "papermill": {
     "duration": 0.047341,
     "end_time": "2023-01-31T15:00:29.396358",
     "exception": false,
     "start_time": "2023-01-31T15:00:29.349017",
     "status": "completed"
    },
    "tags": []
   },
   "source": [
    "### <span style = \"background:#174D83; border:#ffffff; font-size:100%; color:#fff; border-radius:5px;\">28. Swap array rows</span>"
   ]
  },
  {
   "cell_type": "code",
   "execution_count": 163,
   "id": "c6ed4d68",
   "metadata": {
    "execution": {
     "iopub.execute_input": "2023-01-31T15:00:29.493747Z",
     "iopub.status.busy": "2023-01-31T15:00:29.492895Z",
     "iopub.status.idle": "2023-01-31T15:00:29.500491Z",
     "shell.execute_reply": "2023-01-31T15:00:29.499223Z"
    },
    "papermill": {
     "duration": 0.058651,
     "end_time": "2023-01-31T15:00:29.502473",
     "exception": false,
     "start_time": "2023-01-31T15:00:29.443822",
     "status": "completed"
    },
    "tags": []
   },
   "outputs": [
    {
     "name": "stdout",
     "output_type": "stream",
     "text": [
      "Array before swapping:\n",
      "[[ 0  1  2  3  4]\n",
      " [ 5  6  7  8  9]\n",
      " [10 11 12 13 14]\n",
      " [15 16 17 18 19]\n",
      " [20 21 22 23 24]]\n",
      "______________________\n",
      "Array after swapping:\n",
      "[[ 5  6  7  8  9]\n",
      " [ 0  1  2  3  4]\n",
      " [10 11 12 13 14]\n",
      " [15 16 17 18 19]\n",
      " [20 21 22 23 24]]\n"
     ]
    }
   ],
   "source": [
    "arr = np.arange(25).reshape(5, 5)\n",
    "print(\"Array before swapping:\")\n",
    "print(arr)\n",
    "\n",
    "arr[[0,1]] = arr[[1, 0]]\n",
    "print(\"______________________\")\n",
    "\n",
    "print(\"Array after swapping:\")\n",
    "print(arr)"
   ]
  },
  {
   "cell_type": "markdown",
   "id": "97bb4e22",
   "metadata": {
    "papermill": {
     "duration": 0.047442,
     "end_time": "2023-01-31T15:00:29.598502",
     "exception": false,
     "start_time": "2023-01-31T15:00:29.551060",
     "status": "completed"
    },
    "tags": []
   },
   "source": [
    "### <span style = \"background:#174D83; border:#ffffff; font-size:100%; color:#fff; border-radius:5px;\">29. Shuffle array elements</span>"
   ]
  },
  {
   "cell_type": "code",
   "execution_count": 164,
   "id": "bfdca90f",
   "metadata": {
    "execution": {
     "iopub.execute_input": "2023-01-31T15:00:29.695734Z",
     "iopub.status.busy": "2023-01-31T15:00:29.695418Z",
     "iopub.status.idle": "2023-01-31T15:00:29.701782Z",
     "shell.execute_reply": "2023-01-31T15:00:29.700858Z"
    },
    "papermill": {
     "duration": 0.057976,
     "end_time": "2023-01-31T15:00:29.704392",
     "exception": false,
     "start_time": "2023-01-31T15:00:29.646416",
     "status": "completed"
    },
    "tags": []
   },
   "outputs": [
    {
     "name": "stdout",
     "output_type": "stream",
     "text": [
      "Array before shuffling:\n",
      "[ 0  1  2  3  4  5  6  7  8  9 10 11 12 13 14]\n",
      "______________________________________________\n",
      "Array after shuffling:\n",
      "[ 5 14 13  7  4  8  2  0 11  6  1 12  9 10  3]\n"
     ]
    }
   ],
   "source": [
    "arr = np.arange(15)\n",
    "print(\"Array before shuffling:\")\n",
    "print(arr)\n",
    "\n",
    "np.random.shuffle(arr)\n",
    "print(\"______________________________________________\")\n",
    "\n",
    "print(\"Array after shuffling:\")\n",
    "print(arr)"
   ]
  },
  {
   "cell_type": "markdown",
   "id": "94d5b08f",
   "metadata": {
    "papermill": {
     "duration": 0.047772,
     "end_time": "2023-01-31T15:00:29.800083",
     "exception": false,
     "start_time": "2023-01-31T15:00:29.752311",
     "status": "completed"
    },
    "tags": []
   },
   "source": [
    "### <span style = \"background:#174D83; border:#ffffff; font-size:100%; color:#fff; border-radius:5px;\">30. Median function</span>"
   ]
  },
  {
   "cell_type": "code",
   "execution_count": 165,
   "id": "b38bbf11",
   "metadata": {
    "execution": {
     "iopub.execute_input": "2023-01-31T15:00:29.898380Z",
     "iopub.status.busy": "2023-01-31T15:00:29.897477Z",
     "iopub.status.idle": "2023-01-31T15:00:29.904287Z",
     "shell.execute_reply": "2023-01-31T15:00:29.903151Z"
    },
    "papermill": {
     "duration": 0.058034,
     "end_time": "2023-01-31T15:00:29.906262",
     "exception": false,
     "start_time": "2023-01-31T15:00:29.848228",
     "status": "completed"
    },
    "tags": []
   },
   "outputs": [
    {
     "name": "stdout",
     "output_type": "stream",
     "text": [
      "[[ 0  1  2  3  4]\n",
      " [ 5  6  7  8  9]\n",
      " [10 11 12 13 14]\n",
      " [15 16 17 18 19]]\n",
      "\n",
      "Median of the array is:  9.5\n"
     ]
    }
   ],
   "source": [
    "arr = np.arange(20).reshape((4, 5))\n",
    "print(arr)\n",
    "\n",
    "print(\"\\nMedian of the array is: \", np.median(arr))"
   ]
  },
  {
   "cell_type": "markdown",
   "id": "b58f24ed",
   "metadata": {
    "papermill": {
     "duration": 0.048097,
     "end_time": "2023-01-31T15:00:30.002565",
     "exception": false,
     "start_time": "2023-01-31T15:00:29.954468",
     "status": "completed"
    },
    "tags": []
   },
   "source": [
    "# Thank you all 😊"
   ]
  }
 ],
 "metadata": {
  "kernelspec": {
   "display_name": "Python 3",
   "language": "python",
   "name": "python3"
  },
  "language_info": {
   "codemirror_mode": {
    "name": "ipython",
    "version": 3
   },
   "file_extension": ".py",
   "mimetype": "text/x-python",
   "name": "python",
   "nbconvert_exporter": "python",
   "pygments_lexer": "ipython3",
   "version": "3.7.12"
  },
  "papermill": {
   "default_parameters": {},
   "duration": 30.482789,
   "end_time": "2023-01-31T15:00:30.471872",
   "environment_variables": {},
   "exception": null,
   "input_path": "__notebook__.ipynb",
   "output_path": "__notebook__.ipynb",
   "parameters": {},
   "start_time": "2023-01-31T14:59:59.989083",
   "version": "2.3.4"
  }
 },
 "nbformat": 4,
 "nbformat_minor": 5
}
